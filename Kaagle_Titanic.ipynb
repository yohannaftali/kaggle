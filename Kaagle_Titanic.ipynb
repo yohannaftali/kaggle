{
  "nbformat": 4,
  "nbformat_minor": 0,
  "metadata": {
    "colab": {
      "provenance": [],
      "collapsed_sections": [
        "wZHaGYAgs1wS"
      ],
      "mount_file_id": "16X0rTRah8AWfiA-qUOCkZZQS1pONAJNi",
      "authorship_tag": "ABX9TyNgAHufVoMHdS8VUzVF1cEV",
      "include_colab_link": true
    },
    "kernelspec": {
      "name": "python3",
      "display_name": "Python 3"
    },
    "language_info": {
      "name": "python"
    }
  },
  "cells": [
    {
      "cell_type": "markdown",
      "metadata": {
        "id": "view-in-github",
        "colab_type": "text"
      },
      "source": [
        "<a href=\"https://colab.research.google.com/github/yohannaftali/kaggle/blob/main/Kaagle_Titanic.ipynb\" target=\"_parent\"><img src=\"https://colab.research.google.com/assets/colab-badge.svg\" alt=\"Open In Colab\"/></a>"
      ]
    },
    {
      "cell_type": "markdown",
      "source": [
        "# Basic Data Science"
      ],
      "metadata": {
        "id": "QoB6JGRhmrUB"
      }
    },
    {
      "cell_type": "markdown",
      "source": [
        "---\n",
        "\n",
        "**Learn Basic Data Science with Titanic Dataset**\n",
        "\n",
        "**Belajar Dasar Data Science dengan Dataset Titanic**\n",
        "\n",
        "Dr. Yohan Naftali\n",
        "\n",
        "Data science is an interdisciplinary field that involves extracting insights and knowledge from structured and unstructured data using statistical, mathematical, and computational methods. It encompasses various techniques such as data analysis, data mining, machine learning, and artificial intelligence to derive insights and predictions from data. The ultimate goal of data science is to make better decisions, optimize processes, and generate value from data-driven insights. It is a critical field in today's digital age, where large amounts of data are being generated every day, and businesses and organizations need to use this data to gain a competitive advantage.\n",
        "\n",
        "Machine learning is a subset of artificial intelligence that involves the development of algorithms and statistical models that enable computers to learn from and make predictions or decisions based on input data.\n",
        "\n",
        "In machine learning, the computer learns to identify patterns and relationships within the data, without being explicitly programmed to do so. The algorithms and models are trained using large datasets, and then applied to new data to make predictions or decisions.\n",
        "\n",
        "Machine learning can be applied to a wide range of problems, including image and speech recognition, natural language processing, recommendation systems, fraud detection, and predictive analytics in various fields such as finance, healthcare, and marketing.\n",
        "\n",
        "Data science uses machine learning because it provides a way to extract insights and knowledge from data automatically, without the need for explicit programming or human intervention. Machine learning algorithms can learn from patterns and relationships in data to make predictions or decisions, which can be used to solve a wide range of problems in various industries.\n",
        "\n",
        "\n",
        "---\n",
        "\n",
        "\n",
        "Data science adalah bidang interdisipliner yang melibatkan penggalian wawasan dan pengetahuan dari data terstruktur dan tidak terstruktur menggunakan metode statistik, matematika, dan komputasi. Ini mencakup berbagai teknik seperti analisis data, penambangan data, pembelajaran mesin, dan kecerdasan buatan untuk memperoleh wawasan dan prediksi dari data. Tujuan akhir data science adalah membuat keputusan yang lebih baik, mengoptimalkan proses, dan menghasilkan nilai dari wawasan berbasis data. Ini adalah bidang kritis di era digital saat ini, di mana sejumlah besar data dihasilkan setiap hari, dan bisnis serta organisasi perlu menggunakan data ini untuk mendapatkan keunggulan kompetitif.\n",
        "\n",
        "Pembelajaran mesin adalah bagian dari kecerdasan buatan yang melibatkan pengembangan algoritma dan model statistik yang memungkinkan komputer belajar dari dan membuat prediksi atau keputusan berdasarkan data masukan.\n",
        "\n",
        "Dalam pembelajaran mesin, komputer belajar untuk mengidentifikasi pola dan hubungan dalam data, tanpa diprogram secara eksplisit untuk melakukannya. Algoritme dan model dilatih menggunakan kumpulan data besar, lalu diterapkan ke data baru untuk membuat prediksi atau keputusan.\n",
        "\n",
        "Pembelajaran mesin dapat diterapkan pada berbagai masalah, termasuk pengenalan gambar dan ucapan, pemrosesan bahasa alami, sistem rekomendasi, deteksi penipuan, dan analitik prediktif di berbagai bidang seperti keuangan, perawatan kesehatan, dan pemasaran.\n",
        "\n",
        "Data science menggunakan pembelajaran mesin karena menyediakan cara untuk mengekstrak wawasan dan pengetahuan dari data secara otomatis, tanpa memerlukan pemrograman eksplisit atau campur tangan manusia. Algoritma pembelajaran mesin dapat belajar dari pola dan hubungan dalam data untuk membuat prediksi atau keputusan, yang dapat digunakan untuk memecahkan berbagai masalah di berbagai industri.\n"
      ],
      "metadata": {
        "id": "tzfVImsnjhkx"
      }
    },
    {
      "cell_type": "markdown",
      "source": [
        "---\n",
        "\n",
        "Python\n",
        "\n",
        "---\n",
        "Python is a popular programming language for data science because of its simplicity, versatility, and large ecosystem of libraries and tools that are specifically designed for data analysis, visualization, and machine learning. Some of the key libraries and tools for data science in Python include:\n",
        "- NumPy: A library for scientific computing with Python that provides support for large arrays and matrices, as well as a wide range of mathematical functions.\n",
        "- Pandas: A library for data manipulation and analysis that provides easy-to-use data structures and tools for data cleaning, filtering, and aggregation.\n",
        "- Matplotlib: A library for data visualization that provides a wide range of plotting and visualization functions, including histograms, scatter plots, and heat maps.\n",
        "- Seaborn: A library for data visualization based on Matplotlib. Seaborn is particularly useful in data science because it can help data scientists quickly identify patterns and trends in data, which can lead to deeper insights and better decision-making. It is widely used in a range of applications, including data exploration, data cleaning, feature engineering, and model evaluation.\n",
        "- Scikit-learn: A library for machine learning that provides tools for data preprocessing, model selection, and evaluation, as well as a wide range of machine learning algorithms, such as linear regression, logistic regression, decision trees, and support vector machines.\n",
        "- TensorFlow: An open-source library for machine learning and deep learning that provides tools for building and training neural networks, as well as support for distributed computing and deployment.\n",
        "- Keras: Keras is a high-level neural network library for Python. It provides an easy-to-use interface for building and training neural networks, and it can be used on top of TensorFlow, Theano, or CNTK.\n",
        "-PyTorch: PyTorch is another popular open-source library for machine learning and deep learning in Python. It provides a dynamic computational graph and support for automatic differentiation, which makes it easy to build and train complex neural networks.\n",
        "-XGBoost: XGBoost is a library for gradient boosting in Python. It provides an efficient implementation of gradient boosting that can be used for both regression and classification tasks.\n",
        "-NLTK: The Natural Language Toolkit (NLTK) is a library for natural language processing (NLP) in Python. It provides tools for tokenization, stemming, part-of-speech tagging, and other NLP tasks.\n",
        "-OpenCV: OpenCV is a library for computer vision in Python. It provides tools for image processing, object detection, and other computer vision tasks.\n",
        "\n",
        "Python also has a large and active community of developers and data scientists who contribute to open-source projects and share their knowledge and best practices through online forums, blogs, and tutorials. This makes it a great language for beginners and advanced users alike who want to learn and apply data science concepts and techniques.\n",
        "\n",
        "---\n",
        "\n",
        "Python adalah bahasa pemrograman populer untuk data science karena kesederhanaan, keserbagunaan, dan ekosistem perpustakaan dan alatnya yang besar yang dirancang khusus untuk analisis data, visualisasi, dan pembelajaran mesin. Beberapa pustaka dan alat utama untuk data science di Python meliputi:\n",
        "- NumPy: Pustaka untuk komputasi ilmiah dengan Python yang menyediakan dukungan untuk array dan matriks besar, serta berbagai fungsi matematika.\n",
        "- Pandas: Pustaka untuk manipulasi dan analisis data yang menyediakan struktur dan alat data yang mudah digunakan untuk pembersihan, pemfilteran, dan agregasi data.\n",
        "- Matplotlib: Pustaka untuk visualisasi data yang menyediakan berbagai fungsi plot dan visualisasi, termasuk histogram, plot pencar, dan peta panas.\n",
        "- Seaborn: Perpustakaan untuk visualisasi data berdasarkan Matplotlib. Seaborn sangat berguna dalam data science karena dapat membantu data scientist dengan cepat mengidentifikasi pola dan tren dalam data, yang dapat menghasilkan wawasan yang lebih dalam dan pengambilan keputusan yang lebih baik. Ini banyak digunakan dalam berbagai aplikasi, termasuk eksplorasi data, pembersihan data, rekayasa fitur, dan evaluasi model.\n",
        "- Scikit-learn: Pustaka untuk pembelajaran mesin yang menyediakan alat untuk prapemrosesan data, pemilihan model, dan evaluasi, serta berbagai algoritme pembelajaran mesin, seperti regresi linier, regresi logistik, pohon keputusan, dan mesin vektor pendukung.\n",
        "- TensorFlow: Pustaka sumber terbuka untuk pembelajaran mesin dan pembelajaran mendalam yang menyediakan alat untuk membangun dan melatih jaringan saraf, serta dukungan untuk komputasi terdistribusi dan penerapan.\n",
        "- Keras: Keras adalah pustaka jaringan saraf tingkat tinggi untuk Python. Ini menyediakan antarmuka yang mudah digunakan untuk membangun dan melatih jaringan saraf, dan dapat digunakan di atas TensorFlow, Theano, atau CNTK.\n",
        "-PyTorch: PyTorch adalah pustaka sumber terbuka populer lainnya untuk pembelajaran mesin dan pembelajaran mendalam dengan Python. Ini memberikan grafik komputasi dinamis dan dukungan untuk diferensiasi otomatis, yang membuatnya mudah untuk membangun dan melatih jaringan saraf yang kompleks.\n",
        "-XGBoost: XGBoost adalah pustaka untuk peningkatan gradien dengan Python. Ini memberikan implementasi peningkatan gradien yang efisien yang dapat digunakan untuk tugas regresi dan klasifikasi.\n",
        "-NLTK: Natural Language Toolkit (NLTK) adalah pustaka untuk pemrosesan bahasa alami (NLP) dengan Python. Ini menyediakan alat untuk tokenization, stemming, part-of-speech tagging, dan tugas NLP lainnya.\n",
        "-OpenCV: OpenCV adalah perpustakaan untuk visi komputer dengan Python. Ini menyediakan alat untuk pemrosesan gambar, deteksi objek, dan tugas visi komputer lainnya.\n",
        "\n",
        "Python juga memiliki komunitas pengembang dan data scienctist yang besar dan aktif yang berkontribusi pada proyek sumber terbuka dan berbagi pengetahuan dan praktik terbaik mereka melalui forum online, blog, dan tutorial. Ini menjadikannya bahasa yang bagus untuk pemula dan pengguna tingkat lanjut yang ingin mempelajari dan menerapkan konsep dan teknik data science.\n"
      ],
      "metadata": {
        "id": "GP9_l92yCh0Z"
      }
    },
    {
      "cell_type": "markdown",
      "source": [
        "---\n",
        "\n",
        "Jupyer Notebook\n",
        "\n",
        "---\n",
        "Jupyter Notebook is a web-based interactive computing environment for creating and sharing documents containing live code, equations, visualizations and narrative text. It allows users to write and run code in multiple programming languages, including Python, R, Julia, and more. Jupyter Notebook is often used for data analysis, scientific research, machine learning, and education. One of the key features of Jupyter Notebook is that it enables users to document their code and share their work easily, by allowing them to write explanations, comments, and markdown cells alongside their code cells.\n",
        "\n",
        "Jupyter Notebook is a popular tool for data science because it provides an interactive environment that allows for data exploration, analysis, and visualization in a single document. Some reasons why people prefer Jupyter Notebook for data science are:\n",
        "\n",
        "- It supports multiple programming languages: Jupyter Notebook allows users to work with different programming languages, including Python, R, and Julia, in the same environment. This is particularly useful for data scientists who need to use multiple tools and libraries.\n",
        "\n",
        "- It is interactive: Jupyter Notebook provides an interactive environment where users can test code, visualize data, and explore results in real-time. This makes it easier for data scientists to iterate and refine their analysis.\n",
        "\n",
        "- It allows for easy sharing and collaboration: Jupyter Notebook allows users to share their work easily by exporting their notebooks as HTML, PDF, or Markdown files. This makes it easy for others to review and reproduce their work.\n",
        "\n",
        "- It supports visualization: Jupyter Notebook provides an environment that supports data visualization libraries like Matplotlib, Seaborn, and Plotly. This allows data scientists to create interactive and engaging visualizations to better understand their data.\n",
        "\n",
        "Overall, Jupyter Notebook provides a flexible and powerful tool for data scientists to explore, analyze, and communicate their findings.\n",
        "\n",
        "In Jupyter Notebook, the ! symbol is used to run shell commands from within a notebook cell. When ! is placed before a command in a cell, Jupyter Notebook will treat the command as a shell command and execute it in a separate shell session.\n",
        "\n",
        "For example, if you want to list the contents of the current directory in a Jupyter Notebook cell, you can use the ! symbol before the ls command like this: !ls. This will run the ls command in a separate shell and display the output in the notebook cell.\n",
        "\n",
        "By default, Jupyter Notebook uses the Python interpreter to execute code in cells. However, the ! symbol allows you to execute shell commands, which can be useful for tasks such as installing packages or running external scripts.\n",
        "\n",
        "Note that some shell commands may not work in a Jupyter Notebook cell, depending on the operating system and shell environment. In general, simple commands that do not require user interaction or special terminal configurations should work without issue.\n",
        "\n",
        "There are several alternatives to Jupyter Notebook that are also popular in data science, such as:\n",
        "\n",
        "- Google Colaboratory (Colab): a cloud-based platform that provides free access to GPUs and TPUs, allowing users to run Python code in a Jupyter Notebook-like interface.\n",
        "\n",
        "- RStudio: an integrated development environment (IDE) for R programming language that includes a notebook-style interface called R Notebooks.\n",
        "\n",
        "- Zeppelin Notebook: an open-source web-based notebook that supports multiple languages such as Python, R, Scala, and SQL.\n",
        "\n",
        "- VS Code: a popular code editor that has extensions for Jupyter notebooks.\n",
        "Spyder: an IDE for scientific computing in Python that also has a notebook interface.\n",
        "\n",
        "These alternatives offer different features and functionalities, so it's worth trying out a few and deciding which one best suits your needs.\n",
        "\n",
        "---\n",
        "\n",
        "Jupyter Notebook adalah lingkungan komputasi interaktif berbasis web untuk membuat dan berbagi dokumen yang berisi kode langsung, persamaan, visualisasi, dan teks naratif. Ini memungkinkan pengguna untuk menulis dan menjalankan kode dalam berbagai bahasa pemrograman, termasuk Python, R, Julia, dan lainnya. Notebook Jupyter sering digunakan untuk analisis data, penelitian ilmiah, pembelajaran mesin, dan pendidikan. Salah satu fitur utama dari Jupyter Notebook adalah memungkinkan pengguna untuk mendokumentasikan kode mereka dan membagikan pekerjaan mereka dengan mudah, dengan memungkinkan mereka untuk menulis penjelasan, komentar, dan sel penurunan harga di samping sel kode mereka.\n",
        "\n",
        "Jupyter Notebook adalah alat populer untuk ilmu data karena menyediakan lingkungan interaktif yang memungkinkan eksplorasi, analisis, dan visualisasi data dalam satu dokumen. Beberapa alasan mengapa orang lebih memilih Notebook Jupyter untuk ilmu data adalah:\n",
        "\n",
        "- Ini mendukung banyak bahasa pemrograman: Jupyter Notebook memungkinkan pengguna untuk bekerja dengan bahasa pemrograman yang berbeda, termasuk Python, R, dan Julia, di lingkungan yang sama. Ini sangat berguna untuk ilmuwan data yang perlu menggunakan banyak alat dan perpustakaan.\n",
        "\n",
        "- Ini interaktif: Notebook Jupyter menyediakan lingkungan interaktif tempat pengguna dapat menguji kode, memvisualisasikan data, dan menjelajahi hasil secara real-time. Ini memudahkan ilmuwan data untuk mengulangi dan menyempurnakan analisis mereka.\n",
        "\n",
        "- Ini memungkinkan untuk berbagi dan kolaborasi dengan mudah: Jupyter Notebook memungkinkan pengguna untuk berbagi pekerjaan mereka dengan mudah dengan mengekspor notebook mereka sebagai file HTML, PDF, atau Markdown. Ini memudahkan orang lain untuk meninjau dan mereproduksi karya mereka.\n",
        "\n",
        "- Mendukung visualisasi: Jupyter Notebook menyediakan lingkungan yang mendukung pustaka visualisasi data seperti Matplotlib, Seaborn, dan Plotly. Ini memungkinkan ilmuwan data untuk membuat visualisasi yang interaktif dan menarik untuk lebih memahami data mereka.\n",
        "\n",
        "Secara keseluruhan, Jupyter Notebook menyediakan alat yang fleksibel dan andal bagi ilmuwan data untuk mengeksplorasi, menganalisis, dan mengomunikasikan temuan mereka.\n",
        "\n",
        "Di Jupyter Notebook, ! simbol digunakan untuk menjalankan perintah shell dari dalam sel notebook. Kapan ! ditempatkan sebelum perintah dalam sel, Jupyter Notebook akan memperlakukan perintah tersebut sebagai perintah shell dan menjalankannya dalam sesi shell terpisah.\n",
        "\n",
        "Misalnya, jika Anda ingin mencantumkan konten direktori saat ini di sel Notebook Jupyter, Anda dapat menggunakan ! simbol sebelum perintah ls seperti ini: !ls. Ini akan menjalankan perintah ls di shell terpisah dan menampilkan hasilnya di sel notebook.\n",
        "\n",
        "Secara default, Jupyter Notebook menggunakan juru bahasa Python untuk mengeksekusi kode dalam sel. Namun,! simbol memungkinkan Anda untuk menjalankan perintah shell, yang dapat berguna untuk tugas-tugas seperti menginstal paket atau menjalankan skrip eksternal.\n",
        "\n",
        "Perhatikan bahwa beberapa perintah shell mungkin tidak berfungsi di sel Notebook Jupyter, tergantung pada sistem operasi dan lingkungan shell. Secara umum, perintah sederhana yang tidak memerlukan interaksi pengguna atau konfigurasi terminal khusus akan berfungsi tanpa masalah.\n",
        "\n",
        "Ada beberapa alternatif Jupyter Notebook yang juga populer di data science, seperti:\n",
        "\n",
        "- Google Colaboratory (Colab): platform berbasis cloud yang menyediakan akses gratis ke GPU dan TPU, memungkinkan pengguna untuk menjalankan kode Python dalam antarmuka seperti Jupyter Notebook.\n",
        "\n",
        "- RStudio: lingkungan pengembangan terintegrasi (IDE) untuk bahasa pemrograman R yang menyertakan antarmuka bergaya notebook yang disebut R Notebook.\n",
        "\n",
        "- Notebook Zeppelin: notebook berbasis web sumber terbuka yang mendukung banyak bahasa seperti Python, R, Scala, dan SQL.\n",
        "\n",
        "- Kode VS: editor kode populer yang memiliki ekstensi untuk notebook Jupyter.\n",
        "Spyder: IDE untuk komputasi ilmiah dengan Python yang juga memiliki antarmuka notebook.\n",
        "\n",
        "Alternatif ini menawarkan fitur dan fungsi yang berbeda, jadi ada baiknya mencoba beberapa dan memutuskan mana yang paling sesuai dengan kebutuhan Anda."
      ],
      "metadata": {
        "id": "iBSrU6U9CZDO"
      }
    },
    {
      "cell_type": "markdown",
      "source": [
        "---\n",
        "\n",
        "Google Colab\n",
        "\n",
        "---\n",
        "Google Colab is a cloud-based service that provides a Jupyter Notebook-like environment. It allows users to create and share Jupyter notebooks with others and provides a variety of features such as free GPU and TPU access, easy collaboration, and integration with Google Drive. Google Colab is not exactly Jupyter Notebook, it is a very similar platform and offers most of the same functionalities.\n",
        "\n",
        "Colaboratory, or “Colab” for short, is a product from Google Research. Colab allows anybody to write and execute arbitrary python code through the browser, and is especially well suited to machine learning, data analysis and education. More technically, Colab is a hosted Jupyter notebook service that requires no setup to use, while providing access free of charge to computing resources including GPUs.\n",
        "\n",
        "The content folder is a directory in Google Colab that provides users with a location to store and access files that are used in their Colab notebooks. This folder is mounted as a Google Drive, which allows users to easily upload and download files to and from their notebooks.\n",
        "\n",
        "Files in the content folder can be accessed using standard Python file I/O operations, such as open(), or with file-handling libraries, such as Pandas or Numpy. Additionally, users can access files stored in their Google Drive account by connecting their account to Colab and using the appropriate API to access the files.\n",
        "\n",
        "The content folder is temporary and its contents are cleared when the Colab notebook is closed or the virtual machine is shut down. Therefore, it is recommended to save important files in a more permanent location, such as Google Drive or a cloud storage service like AWS S3 or Google Cloud Storage.\n",
        "\n",
        "---\n",
        "\n",
        "Google Colab adalah layanan berbasis cloud yang menyediakan lingkungan seperti Jupyter Notebook. Ini memungkinkan pengguna untuk membuat dan berbagi notebook Jupyter dengan orang lain dan menyediakan berbagai fitur seperti akses GPU dan TPU gratis, kolaborasi yang mudah, dan integrasi dengan Google Drive. Google Colab sebenarnya bukan Jupyter Notebook, ini adalah platform yang sangat mirip dan menawarkan sebagian besar fungsi yang sama.\n",
        "\n",
        "Colaboratory, atau singkatnya “Colab”, adalah produk dari Google Research. Colab memungkinkan siapa saja untuk menulis dan mengeksekusi kode python arbitrer melalui browser, dan sangat cocok untuk pembelajaran mesin, analisis data, dan pendidikan. Secara lebih teknis, Colab adalah layanan notebook Jupyter yang dihosting yang tidak memerlukan penyiapan untuk digunakan, sekaligus memberikan akses gratis ke sumber daya komputasi termasuk GPU.\n",
        "\n",
        "Folder konten adalah direktori di Google Colab yang menyediakan lokasi bagi pengguna untuk menyimpan dan mengakses file yang digunakan di notebook Colab mereka. Folder ini dipasang sebagai Google Drive, yang memungkinkan pengguna mengunggah dan mengunduh file dengan mudah ke dan dari notebook mereka.\n",
        "\n",
        "File dalam folder konten dapat diakses menggunakan operasi I/O file Python standar, seperti open(), atau dengan pustaka penanganan file, seperti Pandas atau Numpy. Selain itu, pengguna dapat mengakses file yang disimpan di akun Google Drive mereka dengan menghubungkan akun mereka ke Colab dan menggunakan API yang sesuai untuk mengakses file tersebut.\n",
        "\n",
        "Folder konten bersifat sementara dan kontennya dihapus saat notebook Colab ditutup atau mesin virtual dimatikan. Oleh karena itu, disarankan untuk menyimpan file penting di lokasi yang lebih permanen, seperti Google Drive atau layanan penyimpanan cloud seperti AWS S3 atau Google Cloud Storage."
      ],
      "metadata": {
        "id": "8LHkSC49BEYJ"
      }
    },
    {
      "cell_type": "markdown",
      "source": [
        "# Dataset"
      ],
      "metadata": {
        "id": "zlkAIah4nGKX"
      }
    },
    {
      "cell_type": "markdown",
      "source": [
        "---\n",
        "\n",
        "Titanic Dataset\n",
        "\n",
        "---\n",
        "This project is binary classification problem, where the passenger either survived (1) or died (0). Here is a list of the columns of the dataset:\n",
        "\n",
        "- PassengerID - Unique ID for each column\n",
        "\n",
        "- Survived - Whether the passenger survived (1) or not (0)\n",
        "\n",
        "- Pclass - Class of the passenger's ticket. Either 1, 2 or 3.\n",
        "\n",
        "- Sex - Passenger's sex (male or female)\n",
        "\n",
        "- Age - Passenger's age\n",
        "\n",
        "- Sibsp - Number of sibling or spouses aboard the Titanic\n",
        "\n",
        "- Parch - Number of parents or children aboard the Titanic\n",
        "\n",
        "- Ticket - Passenger's ticket number\n",
        "\n",
        "- Fare - The price paid for the passenger's ticket\n",
        "\n",
        "- Cabin - Passenger's cabin number\n",
        "\n",
        "- Embarked - Port where the passenger embarked. i.e.:\n",
        ">- C - Cherbourg\n",
        ">- Q - Queenstown\n",
        ">- S - Southampton\n",
        "\n",
        "---\n",
        "\n",
        "Proyek ini adalah masalah klasifikasi biner, di mana penumpang selamat (1) atau meninggal (0). Berikut adalah daftar kolom dari dataset:\n",
        "\n",
        "- PassengerID - ID unik untuk setiap kolom\n",
        "\n",
        "- Survived - Apakah penumpang selamat (1) atau tidak (0)\n",
        "\n",
        "- Pclass - Kelas tiket penumpang. Entah 1, 2 atau 3.\n",
        "\n",
        "- Sex - Jenis kelamin penumpang (laki-laki atau perempuan)\n",
        "\n",
        "- Age - Usia penumpang\n",
        "\n",
        "- Sibsp - Jumlah saudara kandung atau pasangan di kapal Titanic\n",
        "\n",
        "- Parch - Jumlah orang tua atau anak di kapal Titanic\n",
        "\n",
        "- Ticket - Nomor tiket penumpang\n",
        "\n",
        "- Fare - Harga yang dibayarkan untuk tiket penumpang\n",
        "\n",
        "- Cabin - Nomor kabin penumpang\n",
        "\n",
        "- Embarked - Pelabuhan tempat penumpang berangkat. Yaitu:\n",
        ">- C - Cherbourg\n",
        ">- Q - Queenstown\n",
        ">- S - Southampton"
      ],
      "metadata": {
        "id": "W0Lp6SScmTq3"
      }
    },
    {
      "cell_type": "markdown",
      "source": [
        "---\n",
        "\n",
        "Kaggle\n",
        "\n",
        "---\n",
        "Kaggle, a subsidiary of Google LLC, is an online community of data scientists and machine learning practitioners. Kaggle allows users to find and publish data sets, explore and build models in a web-based data-science environment, work with other data scientists and machine learning engineers, and enter competitions to solve data science challenges.\n",
        "\n",
        "Kaggle API is a command-line tool that allows users to interact with Kaggle's public dataset and competition platform. The API enables users to search and download datasets, submit competition entries, and access various Kaggle functionalities from the command line or terminal.\n",
        "The Kaggle API uses a command-line interface (CLI) that allows users to run a variety of commands, such as downloading data, listing competitions, submitting entries, and more. The API is available as a Python package that can be installed using the pip package manager.\n",
        "With the Kaggle API, users can easily access Kaggle datasets and competitions from their local machine, which can be especially useful for data scientists and machine learning engineers who need to work with large datasets. Additionally, the Kaggle API allows users to automate tasks, such as downloading data or submitting competition entries, which can save time and streamline workflows.\n",
        "\n",
        "To use the Kaggle API, the user must download it by going to their Kaggle profile, selecting \"Account\", then \"API\", and clicking \"Create New API Token\". This will generate a file called kaggle.json, which should be placed in the ./kaggle directory.\n",
        "\n",
        "Install Kaggle use pip\n",
        ">pip is a package management system used to install and manage software packages written in Python. It is a command-line tool that allows users to install, upgrade, and remove Python packages and their dependencies.\n",
        "pip is a standard tool that comes pre-installed with most Python distributions, including Anaconda, and it is widely used by developers and data scientists to install Python packages and libraries that are not included in the standard library.\n",
        "With pip, users can easily install packages from the Python Package Index (PyPI) by using the pip install command followed by the package name. For example, pip install pandas will install the Pandas package. Pip will automatically resolve dependencies and install the required packages.\n",
        "pip also supports the use of requirements files, which allow users to specify a list of packages to be installed with their respective versions. This is particularly useful when working on a project that requires specific versions of packages to be installed.\n",
        "Overall, pip is an essential tool for managing Python packages and ensuring that the necessary packages are available for a given project.\n",
        "\n",
        "---\n",
        "\n",
        "Kaggle, anak perusahaan Google LLC, adalah komunitas online ilmuwan data dan praktisi pembelajaran mesin. Kaggle memungkinkan pengguna untuk menemukan dan menerbitkan kumpulan data, menjelajahi dan membuat model dalam lingkungan ilmu data berbasis web, bekerja dengan ilmuwan data dan insinyur pembelajaran mesin lainnya, dan mengikuti kompetisi untuk memecahkan tantangan ilmu data.\n",
        "\n",
        "Kaggle API adalah alat baris perintah yang memungkinkan pengguna berinteraksi dengan set data publik Kaggle dan platform kompetisi. API memungkinkan pengguna untuk mencari dan mengunduh kumpulan data, mengirimkan entri kompetisi, dan mengakses berbagai fungsi Kaggle dari baris perintah atau terminal.\n",
        "Kaggle API menggunakan antarmuka baris perintah (CLI) yang memungkinkan pengguna menjalankan berbagai perintah, seperti mengunduh data, mendaftarkan kompetisi, mengirimkan entri, dan lainnya. API tersedia sebagai paket Python yang dapat diinstal menggunakan pengelola paket pip.\n",
        "Dengan API Kaggle, pengguna dapat dengan mudah mengakses kumpulan data dan kompetisi Kaggle dari mesin lokal mereka, yang dapat sangat berguna bagi ilmuwan data dan insinyur pembelajaran mesin yang perlu bekerja dengan kumpulan data besar. Selain itu, Kaggle API memungkinkan pengguna mengotomatiskan tugas, seperti mengunduh data atau mengirimkan entri kompetisi, yang dapat menghemat waktu dan merampingkan alur kerja.\n",
        "\n",
        "Untuk menggunakan Kaggle API, pengguna harus mengunduhnya dengan membuka profil Kaggle, memilih \"Akun\", lalu \"API\", dan mengeklik \"Buat Token API Baru\". Ini akan menghasilkan file bernama kaggle.json, yang harus ditempatkan di direktori ./kaggle.\n",
        "\n",
        "Instal Kaggle menggunakan pip\n",
        ">pip adalah sistem manajemen paket yang digunakan untuk menginstal dan mengelola paket perangkat lunak yang ditulis dengan Python. Ini adalah alat baris perintah yang memungkinkan pengguna untuk menginstal, memutakhirkan, dan menghapus paket Python dan dependensinya.\n",
        "pip adalah alat standar yang sudah diinstal sebelumnya dengan sebagian besar distribusi Python, termasuk Anaconda, dan digunakan secara luas oleh pengembang dan ilmuwan data untuk menginstal paket dan pustaka Python yang tidak termasuk dalam pustaka standar.\n",
        "Dengan pip, pengguna dapat dengan mudah menginstal paket dari Python Package Index (PyPI) dengan menggunakan perintah pip install diikuti dengan nama paket. Misalnya, pip install panda akan menginstal paket Pandas. Pip akan secara otomatis menyelesaikan dependensi dan menginstal paket yang diperlukan.\n",
        "pip juga mendukung penggunaan file persyaratan, yang memungkinkan pengguna menentukan daftar paket yang akan diinstal dengan versinya masing-masing. Ini sangat berguna saat mengerjakan proyek yang membutuhkan versi paket tertentu untuk diinstal.\n",
        "Secara keseluruhan, pip adalah alat penting untuk mengelola paket Python dan memastikan bahwa paket yang diperlukan tersedia untuk proyek tertentu."
      ],
      "metadata": {
        "id": "nrcuh1YJ_rfI"
      }
    },
    {
      "cell_type": "code",
      "execution_count": 1,
      "metadata": {
        "id": "UTs8Y-ocf-o_",
        "colab": {
          "base_uri": "https://localhost:8080/"
        },
        "outputId": "ad72218b-d537-4afd-d050-ee3b4008767a"
      },
      "outputs": [
        {
          "output_type": "stream",
          "name": "stdout",
          "text": [
            "Looking in indexes: https://pypi.org/simple, https://us-python.pkg.dev/colab-wheels/public/simple/\n",
            "Requirement already satisfied: kaggle in /usr/local/lib/python3.8/dist-packages (1.5.12)\n",
            "Requirement already satisfied: tqdm in /usr/local/lib/python3.8/dist-packages (from kaggle) (4.64.1)\n",
            "Requirement already satisfied: requests in /usr/local/lib/python3.8/dist-packages (from kaggle) (2.25.1)\n",
            "Requirement already satisfied: python-dateutil in /usr/local/lib/python3.8/dist-packages (from kaggle) (2.8.2)\n",
            "Requirement already satisfied: python-slugify in /usr/local/lib/python3.8/dist-packages (from kaggle) (8.0.1)\n",
            "Requirement already satisfied: six>=1.10 in /usr/local/lib/python3.8/dist-packages (from kaggle) (1.15.0)\n",
            "Requirement already satisfied: urllib3 in /usr/local/lib/python3.8/dist-packages (from kaggle) (1.26.14)\n",
            "Requirement already satisfied: certifi in /usr/local/lib/python3.8/dist-packages (from kaggle) (2022.12.7)\n",
            "Requirement already satisfied: text-unidecode>=1.3 in /usr/local/lib/python3.8/dist-packages (from python-slugify->kaggle) (1.3)\n",
            "Requirement already satisfied: chardet<5,>=3.0.2 in /usr/local/lib/python3.8/dist-packages (from requests->kaggle) (4.0.0)\n",
            "Requirement already satisfied: idna<3,>=2.5 in /usr/local/lib/python3.8/dist-packages (from requests->kaggle) (2.10)\n"
          ]
        }
      ],
      "source": [
        "! pip install kaggle"
      ]
    },
    {
      "cell_type": "markdown",
      "source": [
        "Create directory .kaggle on home folder use mkdir command"
      ],
      "metadata": {
        "id": "q20htGPZgmzj"
      }
    },
    {
      "cell_type": "code",
      "source": [
        "! mkdir ~/.kaggle"
      ],
      "metadata": {
        "id": "PGm28MJ4gjIx"
      },
      "execution_count": 2,
      "outputs": []
    },
    {
      "cell_type": "markdown",
      "source": [
        "---\n",
        "\n",
        "Set Kaggle API to .kaggle Directory\n",
        "\n",
        "---\n",
        "\n",
        "Copy uploaded kaggle.json file to new created directory\n",
        "\n",
        "The kaggle.json file contains your Kaggle API credentials and is used to authenticate API requests made from the Kaggle CLI or from scripts that use the Kaggle API.\n",
        "\n",
        "By default, the Kaggle CLI looks for your kaggle.json file in the ~/.kaggle/ directory (or %USERPROFILE%\\.kaggle\\ on Windows), so it's important to put your kaggle.json file in this directory to ensure that the Kaggle CLI can find it and use it to authenticate API requests.\n",
        "\n",
        "The ~/.kaggle/ directory is also where the Kaggle CLI stores configuration files and cache data. By putting your kaggle.json file in this directory, you keep all of your Kaggle-related files and data in one place, which can help to keep your project organized and make it easier to manage your Kaggle API credentials.\n",
        "\n",
        "---\n",
        "\n",
        "Salin file kaggle.json yang diunggah ke direktori baru yang dibuat\n",
        "\n",
        "File kaggle.json berisi kredensial Kaggle API Anda dan digunakan untuk mengautentikasi permintaan API yang dibuat dari Kaggle CLI atau dari skrip yang menggunakan Kaggle API.\n",
        "\n",
        "Secara default, Kaggle CLI mencari file kaggle.json Anda di direktori ~/.kaggle/ (atau %USERPROFILE%\\.kaggle\\ di Windows), jadi penting untuk meletakkan file kaggle.json Anda di direktori ini untuk memastikan bahwa Kaggle CLI dapat menemukannya dan menggunakannya untuk mengautentikasi permintaan API.\n",
        "\n",
        "Direktori ~/.kaggle/ juga merupakan tempat Kaggle CLI menyimpan file konfigurasi dan data cache. Dengan meletakkan file kaggle.json Anda di direktori ini, Anda menyimpan semua file dan data terkait Kaggle di satu tempat, yang dapat membantu mengatur proyek Anda dan mempermudah pengelolaan kredensial Kaggle API Anda."
      ],
      "metadata": {
        "id": "GefucRXOhayR"
      }
    },
    {
      "cell_type": "code",
      "source": [
        "# Run this if you already uploaded kaggle.json to content folder\n",
        "#! cp kaggle.json ~/.kaggle/"
      ],
      "metadata": {
        "id": "FW8MGR70haIp"
      },
      "execution_count": 3,
      "outputs": []
    },
    {
      "cell_type": "code",
      "source": [
        "# Run this if you use kaggle json mounted on google drive\n",
        "! cp /content/drive/MyDrive/Kaggle/kaggle.json ~/.kaggle/"
      ],
      "metadata": {
        "id": "UkJdR1FWEcax"
      },
      "execution_count": 4,
      "outputs": []
    },
    {
      "cell_type": "markdown",
      "source": [
        "---\n",
        "\n",
        "Protecting Kaggle API\n",
        "\n",
        "---\n",
        "\n",
        "It's important to set the file permission for kaggle.json to chmod 600 because this file contains your Kaggle API credentials, which should be kept secure and private. If other users on your system have access to the file, they may be able to see your Kaggle API key and use it to make API requests on your behalf, which could potentially compromise your Kaggle account.\n",
        "\n",
        "Therefore, it's recommended to set the permission for kaggle.json to chmod 600 after creating the file to ensure that only you have access to the file. You can do this by running the command !chmod 600 ~/.kaggle/kaggle.json in your Jupyter Notebook or in your terminal.\n",
        "\n",
        "---\n",
        "\n",
        "Penting untuk menyetel izin file untuk kaggle.json ke chmod 600 karena file ini berisi kredensial Kaggle API, yang harus tetap aman dan pribadi. Jika pengguna lain di sistem memiliki akses ke file tersebut, orang lain mungkin dapat melihat kunci API Kaggle dan menggunakannya untuk membuat permintaan API atas nama Anda, yang berpotensi membahayakan akun Kaggle Anda.\n",
        "\n",
        "Oleh karena itu, disarankan untuk menyetel izin untuk kaggle.json ke chmod 600 setelah membuat file untuk memastikan bahwa hanya Anda yang memiliki akses ke file tersebut. Anda dapat melakukan ini dengan menjalankan perintah !chmod 600 ~/.kaggle/kaggle.json di Jupyter Notebook atau di terminal"
      ],
      "metadata": {
        "id": "5oabi403iQYB"
      }
    },
    {
      "cell_type": "code",
      "source": [
        "! chmod 600 ~/.kaggle/kaggle.json"
      ],
      "metadata": {
        "id": "FXhuf8vliELq"
      },
      "execution_count": 5,
      "outputs": []
    },
    {
      "cell_type": "markdown",
      "source": [
        "---\n",
        "\n",
        "Checking Directory With Command Line\n",
        "\n",
        "---\n",
        "\n",
        "The ls -l command in Unix-based systems (such as Linux and macOS) is used to list the files and directories in long format.\n",
        "\n",
        "The -l option for the ls command adds additional information about each file or directory, such as permissions, ownership, size, and modification time. When you add two dashes (--) before the -l option (i.e. ls --l), it tells the command to interpret the -l option as a long listing format.\n",
        "\n",
        "Therefore, ls -ll (or ls -l --l) is equivalent to running ls -l twice, which displays the file and directory listing in a long format, but with some additional information (such as the total size of the directory) that's not included in a single ls -l command.\n",
        "\n",
        "In Jupyter Notebook, you can run shell commands by prefixing them with an exclamation mark (!). So !ls -ll would run the ls -l command with the additional options specified.\n",
        "\n",
        "Use ! ls -ll  ~/.kaggle to check whether kaggle.json already copied to ~/.kaggle directory and with correct permission\n",
        "\n",
        "Expected result:\n",
        "```bash\n",
        "-rw------- 1 root root 68 Feb 27 07:08 kaggle.json\n",
        "```\n",
        "\n",
        "---\n",
        "\n",
        "Perintah ls -l dalam sistem berbasis Unix (seperti Linux dan macOS) digunakan untuk membuat daftar file dan direktori dalam format panjang.\n",
        "\n",
        "Opsi -l untuk perintah ls menambahkan informasi tambahan tentang setiap file atau direktori, seperti izin, kepemilikan, ukuran, dan waktu modifikasi. Saat Anda menambahkan dua tanda hubung (--) sebelum opsi -l (mis. ls --l), ini memberi tahu perintah untuk menginterpretasikan opsi -l sebagai format daftar panjang.\n",
        "\n",
        "Oleh karena itu, ls -ll (atau ls -l --l) setara dengan menjalankan ls -l dua kali, yang menampilkan daftar file dan direktori dalam format panjang, tetapi dengan beberapa informasi tambahan (seperti ukuran total direktori) itu tidak termasuk dalam satu perintah ls -l.\n",
        "\n",
        "Di Jupyter Notebook, Anda dapat menjalankan perintah shell dengan mengawalinya dengan tanda seru (!). Jadi !ls -ll akan menjalankan perintah ls -l dengan opsi tambahan yang ditentukan.\n",
        "\n",
        "Menggunakan ! ls -ll ~/.kaggle untuk memeriksa apakah kaggle.json sudah disalin ke direktori ~/.kaggle dan dengan izin yang benar\n",
        "\n",
        "Hasil yang diharapkan:\n",
        "```bash\n",
        "-rw------- 1 root root 68 Feb 27 07:08 kaggle.json\n",
        "```"
      ],
      "metadata": {
        "id": "3w25PyNfipUM"
      }
    },
    {
      "cell_type": "code",
      "source": [
        "! ls -ll  ~/.kaggle"
      ],
      "metadata": {
        "colab": {
          "base_uri": "https://localhost:8080/"
        },
        "id": "LScKS3xWinkE",
        "outputId": "d9d93d67-ca10-4966-c160-34e0abdb5c58"
      },
      "execution_count": 6,
      "outputs": [
        {
          "output_type": "stream",
          "name": "stdout",
          "text": [
            "total 4\n",
            "-rw------- 1 root root 68 Mar  2 01:43 kaggle.json\n"
          ]
        }
      ]
    },
    {
      "cell_type": "markdown",
      "source": [
        "---\n",
        "\n",
        "Kaggle API for Download Dataset\n",
        "\n",
        "---\n",
        "\n",
        "The command ! kaggle competitions download titanic is a command used in Google Colab to download the Titanic dataset from Kaggle.\n",
        "\n",
        "kaggle is the Kaggle CLI (command-line interface) which is a tool that enables users to interact with the Kaggle API. competitions is a command within the Kaggle CLI used to manage Kaggle competitions. download is a sub-command that downloads the specified dataset. titanic is the name of the competition or dataset that we want to download.\n",
        "\n",
        "When executed, this command will download the Titanic dataset from Kaggle and save it in the current working directory in Colab.\n",
        "\n",
        "---\n",
        "\n",
        "Perintah ! kompetisi kaggle download titanic adalah perintah yang digunakan di Google Colab untuk mendownload dataset Titanic dari Kaggle.\n",
        "\n",
        "kaggle adalah Kaggle CLI (antarmuka baris perintah) yang merupakan alat yang memungkinkan pengguna berinteraksi dengan Kaggle API. kompetisi adalah perintah dalam Kaggle CLI yang digunakan untuk mengelola kompetisi Kaggle. unduh adalah sub-perintah yang mengunduh kumpulan data yang ditentukan. titanic adalah nama kompetisi atau dataset yang ingin kita download.\n",
        "\n",
        "Saat dieksekusi, perintah ini akan mendownload dataset Titanic dari Kaggle dan menyimpannya di direktori kerja saat ini di Colab."
      ],
      "metadata": {
        "id": "YShzwKxXkERx"
      }
    },
    {
      "cell_type": "code",
      "source": [
        "! kaggle competitions download titanic"
      ],
      "metadata": {
        "colab": {
          "base_uri": "https://localhost:8080/"
        },
        "id": "KYkn7QgziZ4W",
        "outputId": "1a57d150-31c7-422c-d675-490967ba69d9"
      },
      "execution_count": 7,
      "outputs": [
        {
          "output_type": "stream",
          "name": "stdout",
          "text": [
            "Downloading titanic.zip to /content\n",
            "\r  0% 0.00/34.1k [00:00<?, ?B/s]\n",
            "\r100% 34.1k/34.1k [00:00<00:00, 42.3MB/s]\n"
          ]
        }
      ]
    },
    {
      "cell_type": "markdown",
      "source": [
        "---\n",
        "\n",
        "Unzip\n",
        "\n",
        "---\n",
        "The command ! unzip titanic.zip is a command used in Google Colab to extract the Titanic dataset that has been downloaded from Kaggle.\n",
        "\n",
        "unzip is a command used to extract the contents of a zip archive. titanic.zip is the name of the zip file that contains the Titanic dataset that was previously downloaded from Kaggle.\n",
        "\n",
        "When executed, this command will extract the contents of the titanic.zip file and save them in the current working directory in Colab. This will usually result in the creation of a new directory containing the various files that make up the Titanic dataset.\n",
        "\n",
        "---\n",
        "\n",
        "Perintah ! unzip titanic.zip adalah perintah yang digunakan di Google Colab untuk mengekstrak dataset Titanic yang telah diunduh dari Kaggle.\n",
        "\n",
        "unzip adalah perintah yang digunakan untuk mengekstrak isi arsip zip. titanic.zip adalah nama file zip yang berisi kumpulan data Titanic yang sebelumnya diunduh dari Kaggle.\n",
        "\n",
        "Saat dijalankan, perintah ini akan mengekstrak konten file titanic.zip dan menyimpannya di direktori kerja saat ini di Colab. Ini biasanya menghasilkan pembuatan direktori baru yang berisi berbagai file yang menyusun dataset Titanic."
      ],
      "metadata": {
        "id": "vXDgoaq5kPiw"
      }
    },
    {
      "cell_type": "code",
      "source": [
        "! unzip titanic.zip"
      ],
      "metadata": {
        "colab": {
          "base_uri": "https://localhost:8080/"
        },
        "id": "WhibDoQ9kSn-",
        "outputId": "b88c9228-f444-415a-ac05-ff8589f5b443"
      },
      "execution_count": 8,
      "outputs": [
        {
          "output_type": "stream",
          "name": "stdout",
          "text": [
            "Archive:  titanic.zip\n",
            "  inflating: gender_submission.csv   \n",
            "  inflating: test.csv                \n",
            "  inflating: train.csv               \n"
          ]
        }
      ]
    },
    {
      "cell_type": "markdown",
      "source": [
        "---\n",
        "\n",
        "Titanic Dataset\n",
        "\n",
        "---\n",
        "The data has been split into two groups:\n",
        "\n",
        "- training set (train.csv)\n",
        "- test set (test.csv)\n",
        "\n",
        "The training set should be used to build machine learning models. For the training set, Kaggle provide the outcome (also known as the “ground truth”) for each passenger. Model will be based on “features” like passengers’ gender and class. You can also use feature engineering to create new features.\n",
        "\n",
        "The test set should be used to see how well your model performs on unseen data. For the test set, Kaggle do not provide the ground truth for each passenger. It is your job to predict these outcomes. For each passenger in the test set, use the model you trained to predict whether or not they survived the sinking of the Titanic.\n",
        "\n",
        "Kaggle also include gender_submission.csv, a set of predictions that assume all and only female passengers survive, as an example of what a submission file should look like.\n",
        "\n",
        "---\n",
        "\n",
        "Data telah dibagi menjadi dua kelompok:\n",
        "\n",
        "- set train (train.csv)\n",
        "- set test (test.csv)\n",
        "\n",
        "Set train harus digunakan untuk membangun model pembelajaran mesin. Untuk set train, Kaggle memberikan hasil (juga dikenal sebagai \"kebenaran dasar\") untuk setiap penumpang. Model akan didasarkan pada \"fitur\" seperti jenis kelamin dan kelas penumpang. Anda juga dapat menggunakan rekayasa fitur untuk membuat fitur baru.\n",
        "\n",
        "Set test harus digunakan untuk melihat seberapa baik performa model Anda pada data yang tidak terlihat. Untuk test set, Kaggle tidak memberikan ground truth untuk setiap penumpang. Adalah tugas Anda untuk memprediksi hasil ini. Untuk setiap penumpang dalam set test, gunakan model yang Anda latih untuk memprediksi apakah mereka selamat dari tenggelamnya Titanic atau tidak.\n",
        "\n",
        "Kaggle juga menyertakan gender_submission.csv, serangkaian prediksi yang mengasumsikan semua dan hanya penumpang wanita yang bertahan, sebagai contoh tampilan file pengiriman."
      ],
      "metadata": {
        "id": "X_okl-MukXAB"
      }
    },
    {
      "cell_type": "code",
      "source": [
        "! ls"
      ],
      "metadata": {
        "colab": {
          "base_uri": "https://localhost:8080/"
        },
        "id": "7X5nyYgDkgg3",
        "outputId": "557f056b-12dc-437b-bea6-8f7466b6a0e6"
      },
      "execution_count": 9,
      "outputs": [
        {
          "output_type": "stream",
          "name": "stdout",
          "text": [
            "drive  gender_submission.csv  sample_data  test.csv  titanic.zip  train.csv\n"
          ]
        }
      ]
    },
    {
      "cell_type": "markdown",
      "source": [
        "# Data Cleaning"
      ],
      "metadata": {
        "id": "5UKjjLS_ktrs"
      }
    },
    {
      "cell_type": "markdown",
      "source": [
        "Data cleaning refers to the process of identifying, correcting, and removing or modifying inaccurate, incomplete, or irrelevant data within a dataset. It involves various techniques such as handling missing values, correcting data format, removing duplicates, dealing with outliers, and ensuring consistency in data values.\n",
        "\n",
        "Data cleaning is an essential step in the data analysis process as it helps to ensure that the data is accurate, reliable, and consistent, and is therefore suitable for analysis. By cleaning the data, analysts can avoid making incorrect conclusions or biased decisions based on flawed data. Additionally, clean data is also necessary for machine learning models to produce accurate and reliable predictions.\n",
        "\n",
        "---\n",
        "\n",
        "Pembersihan data mengacu pada proses mengidentifikasi, memperbaiki, dan menghapus atau memodifikasi data yang tidak akurat, tidak lengkap, atau tidak relevan dalam kumpulan data. Ini melibatkan berbagai teknik seperti menangani nilai yang hilang, mengoreksi format data, menghapus duplikat, menangani outlier, dan memastikan konsistensi dalam nilai data.\n",
        "\n",
        "Pembersihan data merupakan langkah penting dalam proses analisis data karena membantu memastikan bahwa data akurat, andal, dan konsisten, sehingga cocok untuk analisis. Dengan membersihkan data, analis dapat menghindari kesimpulan yang salah atau keputusan yang bias berdasarkan data yang cacat. Selain itu, data bersih juga diperlukan untuk model pembelajaran mesin untuk menghasilkan prediksi yang akurat dan andal."
      ],
      "metadata": {
        "id": "RYeq209OrLQk"
      }
    },
    {
      "cell_type": "markdown",
      "source": [
        "---\n",
        "\n",
        "**Pandas**\n",
        "\n",
        "---\n",
        "\n",
        "Pandas is an open-source data manipulation library for the Python programming language. It provides high-level data structures and functions designed to make it easy to work with structured data, such as tabular data or time series data.\n",
        "\n",
        "Pandas has two main classes of data structures:\n",
        "\n",
        "* Series: a one-dimensional array-like object that can hold any data type, such as integers, floats, strings, or Python objects.\n",
        "\n",
        "* DataFrame: a two-dimensional table of data with rows and columns, where each column can have a different data type. A DataFrame is similar to a spreadsheet or a SQL table.\n",
        "\n",
        "Pandas provides many powerful functions for data manipulation and analysis, including data cleaning, merging, reshaping, slicing, and aggregation. It also integrates with other Python libraries, such as NumPy, Matplotlib, and Scikit-learn, to provide a complete data analysis ecosystem.\n",
        "\n",
        "---\n",
        "\n",
        "Pandas adalah perpustakaan manipulasi data sumber terbuka untuk bahasa pemrograman Python. Ini menyediakan struktur dan fungsi data tingkat tinggi yang dirancang untuk memudahkan bekerja dengan data terstruktur, seperti data tabular atau data deret waktu.\n",
        "\n",
        "Panda memiliki dua kelas utama struktur data:\n",
        "\n",
        "* Seri: objek mirip array satu dimensi yang dapat menampung semua tipe data, seperti integer, float, string, atau objek Python.\n",
        "\n",
        "* DataFrame: tabel data dua dimensi dengan baris dan kolom, di mana setiap kolom dapat memiliki tipe data yang berbeda. DataFrame mirip dengan spreadsheet atau tabel SQL.\n",
        "\n",
        "Pandas menyediakan banyak fungsi canggih untuk manipulasi dan analisis data, termasuk pembersihan data, penggabungan, pembentukan ulang, pemotongan, dan agregasi. Itu juga terintegrasi dengan perpustakaan Python lainnya, seperti NumPy, Matplotlib, dan Scikit-learn, untuk menyediakan ekosistem analisis data yang lengkap.\n"
      ],
      "metadata": {
        "id": "4o35iAEOHhF7"
      }
    },
    {
      "cell_type": "code",
      "source": [
        "import pandas as pd"
      ],
      "metadata": {
        "id": "Y7K0QtiFrmCg"
      },
      "execution_count": 10,
      "outputs": []
    },
    {
      "cell_type": "markdown",
      "source": [
        "---\n",
        "\n",
        "**Train dataset**\n",
        "\n",
        "---\n",
        "\n",
        "The \"train.csv\" file can be used as the training set\n",
        "The \"train.csv\" file contains information on the passengers, including their demographics (such as age, sex, and passenger class) and whether or not they survived the sinking of the Titanic. \n",
        "\n",
        "---\n",
        "\n",
        "File \"train.csv\" dapat digunakan sebagai set train\n",
        "File \"train.csv\" berisi informasi tentang penumpang, termasuk demografi mereka (seperti usia, jenis kelamin, dan kelas penumpang) dan apakah mereka selamat dari tenggelamnya Titanic atau tidak."
      ],
      "metadata": {
        "id": "gKSlBChYHWFr"
      }
    },
    {
      "cell_type": "code",
      "source": [
        "train=pd.read_csv('/content/train.csv')"
      ],
      "metadata": {
        "id": "UTQgPYh-CDgX"
      },
      "execution_count": 183,
      "outputs": []
    },
    {
      "cell_type": "code",
      "source": [
        "# Show 5 first row\n",
        "train.head()"
      ],
      "metadata": {
        "colab": {
          "base_uri": "https://localhost:8080/",
          "height": 206
        },
        "id": "BDglyEPz60pW",
        "outputId": "6b5d08d2-35bc-4f31-d894-27ddc378cd38"
      },
      "execution_count": 184,
      "outputs": [
        {
          "output_type": "execute_result",
          "data": {
            "text/plain": [
              "   PassengerId  Survived  Pclass  \\\n",
              "0            1         0       3   \n",
              "1            2         1       1   \n",
              "2            3         1       3   \n",
              "3            4         1       1   \n",
              "4            5         0       3   \n",
              "\n",
              "                                                Name     Sex   Age  SibSp  \\\n",
              "0                            Braund, Mr. Owen Harris    male  22.0      1   \n",
              "1  Cumings, Mrs. John Bradley (Florence Briggs Th...  female  38.0      1   \n",
              "2                             Heikkinen, Miss. Laina  female  26.0      0   \n",
              "3       Futrelle, Mrs. Jacques Heath (Lily May Peel)  female  35.0      1   \n",
              "4                           Allen, Mr. William Henry    male  35.0      0   \n",
              "\n",
              "   Parch            Ticket     Fare Cabin Embarked  \n",
              "0      0         A/5 21171   7.2500   NaN        S  \n",
              "1      0          PC 17599  71.2833   C85        C  \n",
              "2      0  STON/O2. 3101282   7.9250   NaN        S  \n",
              "3      0            113803  53.1000  C123        S  \n",
              "4      0            373450   8.0500   NaN        S  "
            ],
            "text/html": [
              "\n",
              "  <div id=\"df-85a2c6ff-cb89-494d-8f92-957a9b72fe2b\">\n",
              "    <div class=\"colab-df-container\">\n",
              "      <div>\n",
              "<style scoped>\n",
              "    .dataframe tbody tr th:only-of-type {\n",
              "        vertical-align: middle;\n",
              "    }\n",
              "\n",
              "    .dataframe tbody tr th {\n",
              "        vertical-align: top;\n",
              "    }\n",
              "\n",
              "    .dataframe thead th {\n",
              "        text-align: right;\n",
              "    }\n",
              "</style>\n",
              "<table border=\"1\" class=\"dataframe\">\n",
              "  <thead>\n",
              "    <tr style=\"text-align: right;\">\n",
              "      <th></th>\n",
              "      <th>PassengerId</th>\n",
              "      <th>Survived</th>\n",
              "      <th>Pclass</th>\n",
              "      <th>Name</th>\n",
              "      <th>Sex</th>\n",
              "      <th>Age</th>\n",
              "      <th>SibSp</th>\n",
              "      <th>Parch</th>\n",
              "      <th>Ticket</th>\n",
              "      <th>Fare</th>\n",
              "      <th>Cabin</th>\n",
              "      <th>Embarked</th>\n",
              "    </tr>\n",
              "  </thead>\n",
              "  <tbody>\n",
              "    <tr>\n",
              "      <th>0</th>\n",
              "      <td>1</td>\n",
              "      <td>0</td>\n",
              "      <td>3</td>\n",
              "      <td>Braund, Mr. Owen Harris</td>\n",
              "      <td>male</td>\n",
              "      <td>22.0</td>\n",
              "      <td>1</td>\n",
              "      <td>0</td>\n",
              "      <td>A/5 21171</td>\n",
              "      <td>7.2500</td>\n",
              "      <td>NaN</td>\n",
              "      <td>S</td>\n",
              "    </tr>\n",
              "    <tr>\n",
              "      <th>1</th>\n",
              "      <td>2</td>\n",
              "      <td>1</td>\n",
              "      <td>1</td>\n",
              "      <td>Cumings, Mrs. John Bradley (Florence Briggs Th...</td>\n",
              "      <td>female</td>\n",
              "      <td>38.0</td>\n",
              "      <td>1</td>\n",
              "      <td>0</td>\n",
              "      <td>PC 17599</td>\n",
              "      <td>71.2833</td>\n",
              "      <td>C85</td>\n",
              "      <td>C</td>\n",
              "    </tr>\n",
              "    <tr>\n",
              "      <th>2</th>\n",
              "      <td>3</td>\n",
              "      <td>1</td>\n",
              "      <td>3</td>\n",
              "      <td>Heikkinen, Miss. Laina</td>\n",
              "      <td>female</td>\n",
              "      <td>26.0</td>\n",
              "      <td>0</td>\n",
              "      <td>0</td>\n",
              "      <td>STON/O2. 3101282</td>\n",
              "      <td>7.9250</td>\n",
              "      <td>NaN</td>\n",
              "      <td>S</td>\n",
              "    </tr>\n",
              "    <tr>\n",
              "      <th>3</th>\n",
              "      <td>4</td>\n",
              "      <td>1</td>\n",
              "      <td>1</td>\n",
              "      <td>Futrelle, Mrs. Jacques Heath (Lily May Peel)</td>\n",
              "      <td>female</td>\n",
              "      <td>35.0</td>\n",
              "      <td>1</td>\n",
              "      <td>0</td>\n",
              "      <td>113803</td>\n",
              "      <td>53.1000</td>\n",
              "      <td>C123</td>\n",
              "      <td>S</td>\n",
              "    </tr>\n",
              "    <tr>\n",
              "      <th>4</th>\n",
              "      <td>5</td>\n",
              "      <td>0</td>\n",
              "      <td>3</td>\n",
              "      <td>Allen, Mr. William Henry</td>\n",
              "      <td>male</td>\n",
              "      <td>35.0</td>\n",
              "      <td>0</td>\n",
              "      <td>0</td>\n",
              "      <td>373450</td>\n",
              "      <td>8.0500</td>\n",
              "      <td>NaN</td>\n",
              "      <td>S</td>\n",
              "    </tr>\n",
              "  </tbody>\n",
              "</table>\n",
              "</div>\n",
              "      <button class=\"colab-df-convert\" onclick=\"convertToInteractive('df-85a2c6ff-cb89-494d-8f92-957a9b72fe2b')\"\n",
              "              title=\"Convert this dataframe to an interactive table.\"\n",
              "              style=\"display:none;\">\n",
              "        \n",
              "  <svg xmlns=\"http://www.w3.org/2000/svg\" height=\"24px\"viewBox=\"0 0 24 24\"\n",
              "       width=\"24px\">\n",
              "    <path d=\"M0 0h24v24H0V0z\" fill=\"none\"/>\n",
              "    <path d=\"M18.56 5.44l.94 2.06.94-2.06 2.06-.94-2.06-.94-.94-2.06-.94 2.06-2.06.94zm-11 1L8.5 8.5l.94-2.06 2.06-.94-2.06-.94L8.5 2.5l-.94 2.06-2.06.94zm10 10l.94 2.06.94-2.06 2.06-.94-2.06-.94-.94-2.06-.94 2.06-2.06.94z\"/><path d=\"M17.41 7.96l-1.37-1.37c-.4-.4-.92-.59-1.43-.59-.52 0-1.04.2-1.43.59L10.3 9.45l-7.72 7.72c-.78.78-.78 2.05 0 2.83L4 21.41c.39.39.9.59 1.41.59.51 0 1.02-.2 1.41-.59l7.78-7.78 2.81-2.81c.8-.78.8-2.07 0-2.86zM5.41 20L4 18.59l7.72-7.72 1.47 1.35L5.41 20z\"/>\n",
              "  </svg>\n",
              "      </button>\n",
              "      \n",
              "  <style>\n",
              "    .colab-df-container {\n",
              "      display:flex;\n",
              "      flex-wrap:wrap;\n",
              "      gap: 12px;\n",
              "    }\n",
              "\n",
              "    .colab-df-convert {\n",
              "      background-color: #E8F0FE;\n",
              "      border: none;\n",
              "      border-radius: 50%;\n",
              "      cursor: pointer;\n",
              "      display: none;\n",
              "      fill: #1967D2;\n",
              "      height: 32px;\n",
              "      padding: 0 0 0 0;\n",
              "      width: 32px;\n",
              "    }\n",
              "\n",
              "    .colab-df-convert:hover {\n",
              "      background-color: #E2EBFA;\n",
              "      box-shadow: 0px 1px 2px rgba(60, 64, 67, 0.3), 0px 1px 3px 1px rgba(60, 64, 67, 0.15);\n",
              "      fill: #174EA6;\n",
              "    }\n",
              "\n",
              "    [theme=dark] .colab-df-convert {\n",
              "      background-color: #3B4455;\n",
              "      fill: #D2E3FC;\n",
              "    }\n",
              "\n",
              "    [theme=dark] .colab-df-convert:hover {\n",
              "      background-color: #434B5C;\n",
              "      box-shadow: 0px 1px 3px 1px rgba(0, 0, 0, 0.15);\n",
              "      filter: drop-shadow(0px 1px 2px rgba(0, 0, 0, 0.3));\n",
              "      fill: #FFFFFF;\n",
              "    }\n",
              "  </style>\n",
              "\n",
              "      <script>\n",
              "        const buttonEl =\n",
              "          document.querySelector('#df-85a2c6ff-cb89-494d-8f92-957a9b72fe2b button.colab-df-convert');\n",
              "        buttonEl.style.display =\n",
              "          google.colab.kernel.accessAllowed ? 'block' : 'none';\n",
              "\n",
              "        async function convertToInteractive(key) {\n",
              "          const element = document.querySelector('#df-85a2c6ff-cb89-494d-8f92-957a9b72fe2b');\n",
              "          const dataTable =\n",
              "            await google.colab.kernel.invokeFunction('convertToInteractive',\n",
              "                                                     [key], {});\n",
              "          if (!dataTable) return;\n",
              "\n",
              "          const docLinkHtml = 'Like what you see? Visit the ' +\n",
              "            '<a target=\"_blank\" href=https://colab.research.google.com/notebooks/data_table.ipynb>data table notebook</a>'\n",
              "            + ' to learn more about interactive tables.';\n",
              "          element.innerHTML = '';\n",
              "          dataTable['output_type'] = 'display_data';\n",
              "          await google.colab.output.renderOutput(dataTable, element);\n",
              "          const docLink = document.createElement('div');\n",
              "          docLink.innerHTML = docLinkHtml;\n",
              "          element.appendChild(docLink);\n",
              "        }\n",
              "      </script>\n",
              "    </div>\n",
              "  </div>\n",
              "  "
            ]
          },
          "metadata": {},
          "execution_count": 184
        }
      ]
    },
    {
      "cell_type": "code",
      "source": [
        "# Show empty value of train data\n",
        "train.isnull().sum()"
      ],
      "metadata": {
        "colab": {
          "base_uri": "https://localhost:8080/"
        },
        "id": "JYx_cl7B3xo2",
        "outputId": "88eaed06-1737-48d8-d230-a643beed6d32"
      },
      "execution_count": 185,
      "outputs": [
        {
          "output_type": "execute_result",
          "data": {
            "text/plain": [
              "PassengerId      0\n",
              "Survived         0\n",
              "Pclass           0\n",
              "Name             0\n",
              "Sex              0\n",
              "Age            177\n",
              "SibSp            0\n",
              "Parch            0\n",
              "Ticket           0\n",
              "Fare             0\n",
              "Cabin          687\n",
              "Embarked         2\n",
              "dtype: int64"
            ]
          },
          "metadata": {},
          "execution_count": 185
        }
      ]
    },
    {
      "cell_type": "markdown",
      "source": [
        "---\n",
        "\n",
        "Missing Values\n",
        "\n",
        "---\n",
        "\n",
        "From result above we can see that column Age, Cabin and Embarked have missing value.\n",
        "\n",
        "How we can manage these missing values?\n",
        "\n",
        "---\n",
        "\n",
        "Dari hasil di atas kita dapat melihat bahwa kolom Age, Cabin dan Embarked memiliki missing value.\n",
        "\n",
        "Bagaimana kita dapat menangani nilai-nilai yang hilang ini?"
      ],
      "metadata": {
        "id": "XV4vHblhp1UH"
      }
    },
    {
      "cell_type": "markdown",
      "source": [
        "---\n",
        "\n",
        "Median\n",
        "\n",
        "---\n",
        "\n",
        "The median is a measure of central tendency that represents the middle value of a dataset when the values are arranged in order. In data cleaning, it is common to replace missing values with the median of the non-missing values for that column. This is because the median is not affected by outliers and is more robust to skewed distributions compared to the mean.\n",
        "\n",
        "---\n",
        "\n",
        "Median adalah ukuran tendensi sentral yang mewakili nilai tengah dari suatu dataset ketika nilai-nilai tersebut disusun secara berurutan. Dalam pembersihan data, biasanya mengganti nilai yang hilang dengan median dari nilai yang tidak hilang untuk kolom tersebut. Ini karena median tidak terpengaruh oleh outlier dan lebih kuat terhadap distribusi yang miring dibandingkan rata-rata."
      ],
      "metadata": {
        "id": "BATBxNzLHFOG"
      }
    },
    {
      "cell_type": "code",
      "source": [
        "train['Age'].fillna(train['Age'].median(), inplace=True)"
      ],
      "metadata": {
        "id": "g7iQsWaPAwby"
      },
      "execution_count": 186,
      "outputs": []
    },
    {
      "cell_type": "markdown",
      "source": [
        "---\n",
        "\n",
        "Mode\n",
        "\n",
        "---\n",
        "\n",
        "In data cleaning, it is common to replace missing values with the mode (most frequent value) of the non-missing values for embarked column. In pandas, you can use the mode() function to compute the mode of a DataFrame or a Series.\n",
        "\n",
        "---\n",
        "\n",
        "Dalam pembersihan data, biasanya mengganti nilai yang hilang dengan modus (nilai yang paling sering) dari nilai yang tidak hilang untuk kolom embarked. Di panda, Anda dapat menggunakan fungsi mode() untuk menghitung mode DataFrame atau Seri."
      ],
      "metadata": {
        "id": "OemnPAn8G1TO"
      }
    },
    {
      "cell_type": "code",
      "source": [
        "train['Embarked'].fillna(train['Embarked'].mode()[0], inplace=True)"
      ],
      "metadata": {
        "id": "2IGzXwwAAEsG"
      },
      "execution_count": 187,
      "outputs": []
    },
    {
      "cell_type": "markdown",
      "source": [
        "---\n",
        "\n",
        "**Drop Variable**\n",
        "\n",
        "---\n",
        "\n",
        "The cabin number may seem useful at first, as it might give information about the location of the cabin, which could potentially affect survival. However there are many missing values in the Cabin column, and it is not clear which cabins were assigned to which passengers. Also, multiple passengers could share the same cabin. Hence, we will drop the Cabin column.\n",
        "We typically drop the Name, Ticket, and Cabin columns in the Titanic dataset as they do not provide useful information for predicting survival.\n",
        "The name of the passenger is unique and does not have any bearing on their likelihood of survival. We can use other features such as age, sex, and class to predict survival. \n",
        "The ticket number does not provide any meaningful information that can help predict survival. In fact, ticket numbers are likely to be unique for each passenger and not related to their survival.\n",
        "By dropping these columns, we can reduce the dimensionality of the dataset and make it easier to focus on the more relevant features for predicting survival.\n",
        "\n",
        "---\n",
        "\n",
        "Nomor kabin mungkin tampak berguna pada awalnya, karena dapat memberikan informasi tentang lokasi kabin, yang berpotensi memengaruhi kelangsungan hidup. Namun ada banyak nilai yang hilang di kolom Kabin, dan tidak jelas kabin mana yang ditugaskan untuk penumpang yang mana. Selain itu, banyak penumpang dapat berbagi kabin yang sama. Oleh karena itu, kami akan menghapus kolom Kabin.\n",
        "Kami biasanya menghapus kolom Nama, Tiket, dan Kabin di kumpulan data Titanic karena tidak memberikan informasi yang berguna untuk memprediksi kelangsungan hidup.\n",
        "Nama penumpang itu unik dan tidak ada hubungannya dengan kemungkinan mereka untuk bertahan hidup. Kita dapat menggunakan fitur lain seperti usia, jenis kelamin, dan kelas untuk memprediksi kelangsungan hidup.\n",
        "Nomor tiket tidak memberikan informasi berarti yang dapat membantu memprediksi kelangsungan hidup. Faktanya, nomor tiket cenderung unik untuk setiap penumpang dan tidak terkait dengan kelangsungan hidup mereka.\n",
        "Dengan menghapus kolom ini, kami dapat mengurangi dimensi kumpulan data dan membuatnya lebih mudah untuk fokus pada fitur yang lebih relevan untuk memprediksi kelangsungan hidup."
      ],
      "metadata": {
        "id": "HasUCrNKGaql"
      }
    },
    {
      "cell_type": "code",
      "source": [
        "train.drop(['PassengerId', 'Name', 'Ticket', 'Cabin'], axis=1, inplace=True)"
      ],
      "metadata": {
        "id": "TQAi03_G9q0d"
      },
      "execution_count": 188,
      "outputs": []
    },
    {
      "cell_type": "code",
      "source": [
        "# Check cleaned train dataset\n",
        "train.isnull().sum()"
      ],
      "metadata": {
        "colab": {
          "base_uri": "https://localhost:8080/"
        },
        "id": "ikoCld3Z-obJ",
        "outputId": "36209bd3-f31e-4995-a7fa-d89cec18c4d4"
      },
      "execution_count": 189,
      "outputs": [
        {
          "output_type": "execute_result",
          "data": {
            "text/plain": [
              "Survived    0\n",
              "Pclass      0\n",
              "Sex         0\n",
              "Age         0\n",
              "SibSp       0\n",
              "Parch       0\n",
              "Fare        0\n",
              "Embarked    0\n",
              "dtype: int64"
            ]
          },
          "metadata": {},
          "execution_count": 189
        }
      ]
    },
    {
      "cell_type": "markdown",
      "source": [
        "---\n",
        "\n",
        "**Describe**\n",
        "\n",
        "---\n",
        "\n",
        "The describe() method is a built-in function in pandas that provides a summary of descriptive statistics for a DataFrame or Series object. It is a quick and easy way to get a sense of the central tendency, dispersion, and shape of a \n",
        "dataset.\n",
        "When applied to a DataFrame, describe() returns a DataFrame containing the following statistics for each numeric column:\n",
        "- count: the number of non-missing values\n",
        "- mean: the average of the values\n",
        "- std: the standard deviation of the values\n",
        "- min: the minimum value\n",
        "- 25%: the 25th percentile value (also known as the lower quartile)\n",
        "- 50%: the 50th percentile value (also known as the median)\n",
        "- 75%: the 75th percentile value (also known as the upper quartile)\n",
        "- max: the maximum value\n",
        "\n",
        "---\n",
        "\n",
        "Metode describe() adalah fungsi bawaan pandas yang menyediakan ringkasan statistik deskriptif untuk objek DataFrame atau Seri. Ini adalah cara cepat dan mudah untuk memahami tendensi sentral, dispersi, dan bentuk a\n",
        "Himpunan data.\n",
        "Saat diterapkan ke DataFrame, deskripsikan () mengembalikan DataFrame yang berisi statistik berikut untuk setiap kolom numerik:\n",
        "- count: jumlah nilai yang tidak hilang\n",
        "- mean: rata-rata nilai\n",
        "- std: standar deviasi nilai\n",
        "- min: nilai minimum\n",
        "- 25%: nilai persentil ke-25 (juga dikenal sebagai kuartil bawah)\n",
        "- 50%: nilai persentil ke-50 (juga dikenal sebagai median)\n",
        "- 75%: nilai persentil ke-75 (juga dikenal sebagai kuartil atas)\n",
        "- max: nilai maksimum"
      ],
      "metadata": {
        "id": "TX7yTXif3qzc"
      }
    },
    {
      "cell_type": "code",
      "source": [
        "train.describe()"
      ],
      "metadata": {
        "colab": {
          "base_uri": "https://localhost:8080/",
          "height": 300
        },
        "id": "SMofxExREkIw",
        "outputId": "b41f68ea-8055-4d87-9350-3dbbfec45978"
      },
      "execution_count": 190,
      "outputs": [
        {
          "output_type": "execute_result",
          "data": {
            "text/plain": [
              "         Survived      Pclass         Age       SibSp       Parch        Fare\n",
              "count  891.000000  891.000000  891.000000  891.000000  891.000000  891.000000\n",
              "mean     0.383838    2.308642   29.361582    0.523008    0.381594   32.204208\n",
              "std      0.486592    0.836071   13.019697    1.102743    0.806057   49.693429\n",
              "min      0.000000    1.000000    0.420000    0.000000    0.000000    0.000000\n",
              "25%      0.000000    2.000000   22.000000    0.000000    0.000000    7.910400\n",
              "50%      0.000000    3.000000   28.000000    0.000000    0.000000   14.454200\n",
              "75%      1.000000    3.000000   35.000000    1.000000    0.000000   31.000000\n",
              "max      1.000000    3.000000   80.000000    8.000000    6.000000  512.329200"
            ],
            "text/html": [
              "\n",
              "  <div id=\"df-c405e9a5-70a1-4921-a1d4-5256f3adb228\">\n",
              "    <div class=\"colab-df-container\">\n",
              "      <div>\n",
              "<style scoped>\n",
              "    .dataframe tbody tr th:only-of-type {\n",
              "        vertical-align: middle;\n",
              "    }\n",
              "\n",
              "    .dataframe tbody tr th {\n",
              "        vertical-align: top;\n",
              "    }\n",
              "\n",
              "    .dataframe thead th {\n",
              "        text-align: right;\n",
              "    }\n",
              "</style>\n",
              "<table border=\"1\" class=\"dataframe\">\n",
              "  <thead>\n",
              "    <tr style=\"text-align: right;\">\n",
              "      <th></th>\n",
              "      <th>Survived</th>\n",
              "      <th>Pclass</th>\n",
              "      <th>Age</th>\n",
              "      <th>SibSp</th>\n",
              "      <th>Parch</th>\n",
              "      <th>Fare</th>\n",
              "    </tr>\n",
              "  </thead>\n",
              "  <tbody>\n",
              "    <tr>\n",
              "      <th>count</th>\n",
              "      <td>891.000000</td>\n",
              "      <td>891.000000</td>\n",
              "      <td>891.000000</td>\n",
              "      <td>891.000000</td>\n",
              "      <td>891.000000</td>\n",
              "      <td>891.000000</td>\n",
              "    </tr>\n",
              "    <tr>\n",
              "      <th>mean</th>\n",
              "      <td>0.383838</td>\n",
              "      <td>2.308642</td>\n",
              "      <td>29.361582</td>\n",
              "      <td>0.523008</td>\n",
              "      <td>0.381594</td>\n",
              "      <td>32.204208</td>\n",
              "    </tr>\n",
              "    <tr>\n",
              "      <th>std</th>\n",
              "      <td>0.486592</td>\n",
              "      <td>0.836071</td>\n",
              "      <td>13.019697</td>\n",
              "      <td>1.102743</td>\n",
              "      <td>0.806057</td>\n",
              "      <td>49.693429</td>\n",
              "    </tr>\n",
              "    <tr>\n",
              "      <th>min</th>\n",
              "      <td>0.000000</td>\n",
              "      <td>1.000000</td>\n",
              "      <td>0.420000</td>\n",
              "      <td>0.000000</td>\n",
              "      <td>0.000000</td>\n",
              "      <td>0.000000</td>\n",
              "    </tr>\n",
              "    <tr>\n",
              "      <th>25%</th>\n",
              "      <td>0.000000</td>\n",
              "      <td>2.000000</td>\n",
              "      <td>22.000000</td>\n",
              "      <td>0.000000</td>\n",
              "      <td>0.000000</td>\n",
              "      <td>7.910400</td>\n",
              "    </tr>\n",
              "    <tr>\n",
              "      <th>50%</th>\n",
              "      <td>0.000000</td>\n",
              "      <td>3.000000</td>\n",
              "      <td>28.000000</td>\n",
              "      <td>0.000000</td>\n",
              "      <td>0.000000</td>\n",
              "      <td>14.454200</td>\n",
              "    </tr>\n",
              "    <tr>\n",
              "      <th>75%</th>\n",
              "      <td>1.000000</td>\n",
              "      <td>3.000000</td>\n",
              "      <td>35.000000</td>\n",
              "      <td>1.000000</td>\n",
              "      <td>0.000000</td>\n",
              "      <td>31.000000</td>\n",
              "    </tr>\n",
              "    <tr>\n",
              "      <th>max</th>\n",
              "      <td>1.000000</td>\n",
              "      <td>3.000000</td>\n",
              "      <td>80.000000</td>\n",
              "      <td>8.000000</td>\n",
              "      <td>6.000000</td>\n",
              "      <td>512.329200</td>\n",
              "    </tr>\n",
              "  </tbody>\n",
              "</table>\n",
              "</div>\n",
              "      <button class=\"colab-df-convert\" onclick=\"convertToInteractive('df-c405e9a5-70a1-4921-a1d4-5256f3adb228')\"\n",
              "              title=\"Convert this dataframe to an interactive table.\"\n",
              "              style=\"display:none;\">\n",
              "        \n",
              "  <svg xmlns=\"http://www.w3.org/2000/svg\" height=\"24px\"viewBox=\"0 0 24 24\"\n",
              "       width=\"24px\">\n",
              "    <path d=\"M0 0h24v24H0V0z\" fill=\"none\"/>\n",
              "    <path d=\"M18.56 5.44l.94 2.06.94-2.06 2.06-.94-2.06-.94-.94-2.06-.94 2.06-2.06.94zm-11 1L8.5 8.5l.94-2.06 2.06-.94-2.06-.94L8.5 2.5l-.94 2.06-2.06.94zm10 10l.94 2.06.94-2.06 2.06-.94-2.06-.94-.94-2.06-.94 2.06-2.06.94z\"/><path d=\"M17.41 7.96l-1.37-1.37c-.4-.4-.92-.59-1.43-.59-.52 0-1.04.2-1.43.59L10.3 9.45l-7.72 7.72c-.78.78-.78 2.05 0 2.83L4 21.41c.39.39.9.59 1.41.59.51 0 1.02-.2 1.41-.59l7.78-7.78 2.81-2.81c.8-.78.8-2.07 0-2.86zM5.41 20L4 18.59l7.72-7.72 1.47 1.35L5.41 20z\"/>\n",
              "  </svg>\n",
              "      </button>\n",
              "      \n",
              "  <style>\n",
              "    .colab-df-container {\n",
              "      display:flex;\n",
              "      flex-wrap:wrap;\n",
              "      gap: 12px;\n",
              "    }\n",
              "\n",
              "    .colab-df-convert {\n",
              "      background-color: #E8F0FE;\n",
              "      border: none;\n",
              "      border-radius: 50%;\n",
              "      cursor: pointer;\n",
              "      display: none;\n",
              "      fill: #1967D2;\n",
              "      height: 32px;\n",
              "      padding: 0 0 0 0;\n",
              "      width: 32px;\n",
              "    }\n",
              "\n",
              "    .colab-df-convert:hover {\n",
              "      background-color: #E2EBFA;\n",
              "      box-shadow: 0px 1px 2px rgba(60, 64, 67, 0.3), 0px 1px 3px 1px rgba(60, 64, 67, 0.15);\n",
              "      fill: #174EA6;\n",
              "    }\n",
              "\n",
              "    [theme=dark] .colab-df-convert {\n",
              "      background-color: #3B4455;\n",
              "      fill: #D2E3FC;\n",
              "    }\n",
              "\n",
              "    [theme=dark] .colab-df-convert:hover {\n",
              "      background-color: #434B5C;\n",
              "      box-shadow: 0px 1px 3px 1px rgba(0, 0, 0, 0.15);\n",
              "      filter: drop-shadow(0px 1px 2px rgba(0, 0, 0, 0.3));\n",
              "      fill: #FFFFFF;\n",
              "    }\n",
              "  </style>\n",
              "\n",
              "      <script>\n",
              "        const buttonEl =\n",
              "          document.querySelector('#df-c405e9a5-70a1-4921-a1d4-5256f3adb228 button.colab-df-convert');\n",
              "        buttonEl.style.display =\n",
              "          google.colab.kernel.accessAllowed ? 'block' : 'none';\n",
              "\n",
              "        async function convertToInteractive(key) {\n",
              "          const element = document.querySelector('#df-c405e9a5-70a1-4921-a1d4-5256f3adb228');\n",
              "          const dataTable =\n",
              "            await google.colab.kernel.invokeFunction('convertToInteractive',\n",
              "                                                     [key], {});\n",
              "          if (!dataTable) return;\n",
              "\n",
              "          const docLinkHtml = 'Like what you see? Visit the ' +\n",
              "            '<a target=\"_blank\" href=https://colab.research.google.com/notebooks/data_table.ipynb>data table notebook</a>'\n",
              "            + ' to learn more about interactive tables.';\n",
              "          element.innerHTML = '';\n",
              "          dataTable['output_type'] = 'display_data';\n",
              "          await google.colab.output.renderOutput(dataTable, element);\n",
              "          const docLink = document.createElement('div');\n",
              "          docLink.innerHTML = docLinkHtml;\n",
              "          element.appendChild(docLink);\n",
              "        }\n",
              "      </script>\n",
              "    </div>\n",
              "  </div>\n",
              "  "
            ]
          },
          "metadata": {},
          "execution_count": 190
        }
      ]
    },
    {
      "cell_type": "markdown",
      "source": [
        "---\n",
        "\n",
        "Dropna\n",
        "\n",
        "---\n",
        "\n",
        "The dropna() method removes the rows that contains NULL values. The dropna() method returns a new DataFrame object unless the inplace parameter is set to True , in that case the dropna() method does the removing in the original DataFrame instead.\n",
        "\n",
        "---\n",
        "\n",
        "Metode dropna() menghapus baris yang berisi nilai NULL. Metode dropna() mengembalikan objek DataFrame baru kecuali jika parameter inplace disetel ke True , dalam hal ini metode dropna() melakukan penghapusan di DataFrame asli sebagai gantinya."
      ],
      "metadata": {
        "id": "XdKZPgjRwLyQ"
      }
    },
    {
      "cell_type": "code",
      "source": [
        "train.dropna(inplace=True)"
      ],
      "metadata": {
        "id": "N7SNLAY8D0ee"
      },
      "execution_count": 191,
      "outputs": []
    },
    {
      "cell_type": "markdown",
      "source": [
        "---\n",
        "\n",
        "Test dataset\n",
        "\n",
        "---\n",
        "\n",
        "The \"test.csv\" file can be used as the test set.\n",
        "The \"test.csv\" file contains similar information on a different set of \n",
        "passengers, but without the survival information.\n",
        "\n",
        "---\n",
        "\n",
        "File \"test.csv\" dapat digunakan sebagai set test.\n",
        "File \"test.csv\" berisi informasi serupa di kumpulan yang berbeda\n",
        "penumpang, tetapi tanpa informasi kelangsungan hidup."
      ],
      "metadata": {
        "id": "8HWUdL3UpGhb"
      }
    },
    {
      "cell_type": "code",
      "source": [
        "test=pd.read_csv('/content/test.csv')"
      ],
      "metadata": {
        "id": "NVrdsZMACAY6"
      },
      "execution_count": 192,
      "outputs": []
    },
    {
      "cell_type": "code",
      "source": [
        "# Show 5 first row of test\n",
        "test.head()"
      ],
      "metadata": {
        "colab": {
          "base_uri": "https://localhost:8080/",
          "height": 206
        },
        "id": "g7WgCU5K6g8n",
        "outputId": "809f70b7-b287-4b12-9820-548a6dd0cfeb"
      },
      "execution_count": 193,
      "outputs": [
        {
          "output_type": "execute_result",
          "data": {
            "text/plain": [
              "   PassengerId  Pclass                                          Name     Sex  \\\n",
              "0          892       3                              Kelly, Mr. James    male   \n",
              "1          893       3              Wilkes, Mrs. James (Ellen Needs)  female   \n",
              "2          894       2                     Myles, Mr. Thomas Francis    male   \n",
              "3          895       3                              Wirz, Mr. Albert    male   \n",
              "4          896       3  Hirvonen, Mrs. Alexander (Helga E Lindqvist)  female   \n",
              "\n",
              "    Age  SibSp  Parch   Ticket     Fare Cabin Embarked  \n",
              "0  34.5      0      0   330911   7.8292   NaN        Q  \n",
              "1  47.0      1      0   363272   7.0000   NaN        S  \n",
              "2  62.0      0      0   240276   9.6875   NaN        Q  \n",
              "3  27.0      0      0   315154   8.6625   NaN        S  \n",
              "4  22.0      1      1  3101298  12.2875   NaN        S  "
            ],
            "text/html": [
              "\n",
              "  <div id=\"df-a03b5421-d9e5-4559-a9c7-0fcc431589aa\">\n",
              "    <div class=\"colab-df-container\">\n",
              "      <div>\n",
              "<style scoped>\n",
              "    .dataframe tbody tr th:only-of-type {\n",
              "        vertical-align: middle;\n",
              "    }\n",
              "\n",
              "    .dataframe tbody tr th {\n",
              "        vertical-align: top;\n",
              "    }\n",
              "\n",
              "    .dataframe thead th {\n",
              "        text-align: right;\n",
              "    }\n",
              "</style>\n",
              "<table border=\"1\" class=\"dataframe\">\n",
              "  <thead>\n",
              "    <tr style=\"text-align: right;\">\n",
              "      <th></th>\n",
              "      <th>PassengerId</th>\n",
              "      <th>Pclass</th>\n",
              "      <th>Name</th>\n",
              "      <th>Sex</th>\n",
              "      <th>Age</th>\n",
              "      <th>SibSp</th>\n",
              "      <th>Parch</th>\n",
              "      <th>Ticket</th>\n",
              "      <th>Fare</th>\n",
              "      <th>Cabin</th>\n",
              "      <th>Embarked</th>\n",
              "    </tr>\n",
              "  </thead>\n",
              "  <tbody>\n",
              "    <tr>\n",
              "      <th>0</th>\n",
              "      <td>892</td>\n",
              "      <td>3</td>\n",
              "      <td>Kelly, Mr. James</td>\n",
              "      <td>male</td>\n",
              "      <td>34.5</td>\n",
              "      <td>0</td>\n",
              "      <td>0</td>\n",
              "      <td>330911</td>\n",
              "      <td>7.8292</td>\n",
              "      <td>NaN</td>\n",
              "      <td>Q</td>\n",
              "    </tr>\n",
              "    <tr>\n",
              "      <th>1</th>\n",
              "      <td>893</td>\n",
              "      <td>3</td>\n",
              "      <td>Wilkes, Mrs. James (Ellen Needs)</td>\n",
              "      <td>female</td>\n",
              "      <td>47.0</td>\n",
              "      <td>1</td>\n",
              "      <td>0</td>\n",
              "      <td>363272</td>\n",
              "      <td>7.0000</td>\n",
              "      <td>NaN</td>\n",
              "      <td>S</td>\n",
              "    </tr>\n",
              "    <tr>\n",
              "      <th>2</th>\n",
              "      <td>894</td>\n",
              "      <td>2</td>\n",
              "      <td>Myles, Mr. Thomas Francis</td>\n",
              "      <td>male</td>\n",
              "      <td>62.0</td>\n",
              "      <td>0</td>\n",
              "      <td>0</td>\n",
              "      <td>240276</td>\n",
              "      <td>9.6875</td>\n",
              "      <td>NaN</td>\n",
              "      <td>Q</td>\n",
              "    </tr>\n",
              "    <tr>\n",
              "      <th>3</th>\n",
              "      <td>895</td>\n",
              "      <td>3</td>\n",
              "      <td>Wirz, Mr. Albert</td>\n",
              "      <td>male</td>\n",
              "      <td>27.0</td>\n",
              "      <td>0</td>\n",
              "      <td>0</td>\n",
              "      <td>315154</td>\n",
              "      <td>8.6625</td>\n",
              "      <td>NaN</td>\n",
              "      <td>S</td>\n",
              "    </tr>\n",
              "    <tr>\n",
              "      <th>4</th>\n",
              "      <td>896</td>\n",
              "      <td>3</td>\n",
              "      <td>Hirvonen, Mrs. Alexander (Helga E Lindqvist)</td>\n",
              "      <td>female</td>\n",
              "      <td>22.0</td>\n",
              "      <td>1</td>\n",
              "      <td>1</td>\n",
              "      <td>3101298</td>\n",
              "      <td>12.2875</td>\n",
              "      <td>NaN</td>\n",
              "      <td>S</td>\n",
              "    </tr>\n",
              "  </tbody>\n",
              "</table>\n",
              "</div>\n",
              "      <button class=\"colab-df-convert\" onclick=\"convertToInteractive('df-a03b5421-d9e5-4559-a9c7-0fcc431589aa')\"\n",
              "              title=\"Convert this dataframe to an interactive table.\"\n",
              "              style=\"display:none;\">\n",
              "        \n",
              "  <svg xmlns=\"http://www.w3.org/2000/svg\" height=\"24px\"viewBox=\"0 0 24 24\"\n",
              "       width=\"24px\">\n",
              "    <path d=\"M0 0h24v24H0V0z\" fill=\"none\"/>\n",
              "    <path d=\"M18.56 5.44l.94 2.06.94-2.06 2.06-.94-2.06-.94-.94-2.06-.94 2.06-2.06.94zm-11 1L8.5 8.5l.94-2.06 2.06-.94-2.06-.94L8.5 2.5l-.94 2.06-2.06.94zm10 10l.94 2.06.94-2.06 2.06-.94-2.06-.94-.94-2.06-.94 2.06-2.06.94z\"/><path d=\"M17.41 7.96l-1.37-1.37c-.4-.4-.92-.59-1.43-.59-.52 0-1.04.2-1.43.59L10.3 9.45l-7.72 7.72c-.78.78-.78 2.05 0 2.83L4 21.41c.39.39.9.59 1.41.59.51 0 1.02-.2 1.41-.59l7.78-7.78 2.81-2.81c.8-.78.8-2.07 0-2.86zM5.41 20L4 18.59l7.72-7.72 1.47 1.35L5.41 20z\"/>\n",
              "  </svg>\n",
              "      </button>\n",
              "      \n",
              "  <style>\n",
              "    .colab-df-container {\n",
              "      display:flex;\n",
              "      flex-wrap:wrap;\n",
              "      gap: 12px;\n",
              "    }\n",
              "\n",
              "    .colab-df-convert {\n",
              "      background-color: #E8F0FE;\n",
              "      border: none;\n",
              "      border-radius: 50%;\n",
              "      cursor: pointer;\n",
              "      display: none;\n",
              "      fill: #1967D2;\n",
              "      height: 32px;\n",
              "      padding: 0 0 0 0;\n",
              "      width: 32px;\n",
              "    }\n",
              "\n",
              "    .colab-df-convert:hover {\n",
              "      background-color: #E2EBFA;\n",
              "      box-shadow: 0px 1px 2px rgba(60, 64, 67, 0.3), 0px 1px 3px 1px rgba(60, 64, 67, 0.15);\n",
              "      fill: #174EA6;\n",
              "    }\n",
              "\n",
              "    [theme=dark] .colab-df-convert {\n",
              "      background-color: #3B4455;\n",
              "      fill: #D2E3FC;\n",
              "    }\n",
              "\n",
              "    [theme=dark] .colab-df-convert:hover {\n",
              "      background-color: #434B5C;\n",
              "      box-shadow: 0px 1px 3px 1px rgba(0, 0, 0, 0.15);\n",
              "      filter: drop-shadow(0px 1px 2px rgba(0, 0, 0, 0.3));\n",
              "      fill: #FFFFFF;\n",
              "    }\n",
              "  </style>\n",
              "\n",
              "      <script>\n",
              "        const buttonEl =\n",
              "          document.querySelector('#df-a03b5421-d9e5-4559-a9c7-0fcc431589aa button.colab-df-convert');\n",
              "        buttonEl.style.display =\n",
              "          google.colab.kernel.accessAllowed ? 'block' : 'none';\n",
              "\n",
              "        async function convertToInteractive(key) {\n",
              "          const element = document.querySelector('#df-a03b5421-d9e5-4559-a9c7-0fcc431589aa');\n",
              "          const dataTable =\n",
              "            await google.colab.kernel.invokeFunction('convertToInteractive',\n",
              "                                                     [key], {});\n",
              "          if (!dataTable) return;\n",
              "\n",
              "          const docLinkHtml = 'Like what you see? Visit the ' +\n",
              "            '<a target=\"_blank\" href=https://colab.research.google.com/notebooks/data_table.ipynb>data table notebook</a>'\n",
              "            + ' to learn more about interactive tables.';\n",
              "          element.innerHTML = '';\n",
              "          dataTable['output_type'] = 'display_data';\n",
              "          await google.colab.output.renderOutput(dataTable, element);\n",
              "          const docLink = document.createElement('div');\n",
              "          docLink.innerHTML = docLinkHtml;\n",
              "          element.appendChild(docLink);\n",
              "        }\n",
              "      </script>\n",
              "    </div>\n",
              "  </div>\n",
              "  "
            ]
          },
          "metadata": {},
          "execution_count": 193
        }
      ]
    },
    {
      "cell_type": "code",
      "source": [
        "# Check null values\n",
        "test.isnull().sum()"
      ],
      "metadata": {
        "colab": {
          "base_uri": "https://localhost:8080/"
        },
        "id": "pRcVlrto3_S4",
        "outputId": "abfa6525-e5ed-41ab-b4d1-42b3d751b997"
      },
      "execution_count": 194,
      "outputs": [
        {
          "output_type": "execute_result",
          "data": {
            "text/plain": [
              "PassengerId      0\n",
              "Pclass           0\n",
              "Name             0\n",
              "Sex              0\n",
              "Age             86\n",
              "SibSp            0\n",
              "Parch            0\n",
              "Ticket           0\n",
              "Fare             1\n",
              "Cabin          327\n",
              "Embarked         0\n",
              "dtype: int64"
            ]
          },
          "metadata": {},
          "execution_count": 194
        }
      ]
    },
    {
      "cell_type": "code",
      "source": [
        "# Fill empty age and fare with median values\n",
        "test['Age'].fillna(test['Age'].median(), inplace=True)"
      ],
      "metadata": {
        "id": "uJ9zWi0a8Gky"
      },
      "execution_count": 195,
      "outputs": []
    },
    {
      "cell_type": "code",
      "source": [
        "# Also fill empty fare with median value\n",
        "test['Fare'].fillna(test['Fare'].median(), inplace=True)"
      ],
      "metadata": {
        "id": "gAI35YmDChV8"
      },
      "execution_count": 196,
      "outputs": []
    },
    {
      "cell_type": "code",
      "source": [
        "# Fill Embarked with median\n",
        "test['Embarked'].fillna(test['Embarked'].mode()[0], inplace=True)"
      ],
      "metadata": {
        "id": "Nk8J0rDcCrpF"
      },
      "execution_count": 197,
      "outputs": []
    },
    {
      "cell_type": "code",
      "source": [
        "# Drop unnecessary column but leave PassangerId for submission\n",
        "test.drop(['Name', 'Ticket', 'Cabin'], axis=1, inplace=True)"
      ],
      "metadata": {
        "id": "4QiOuiC2C28l"
      },
      "execution_count": 198,
      "outputs": []
    },
    {
      "cell_type": "code",
      "source": [
        "# Check data test\n",
        "test.isnull().sum()"
      ],
      "metadata": {
        "colab": {
          "base_uri": "https://localhost:8080/"
        },
        "id": "e28Y12Zr8V4E",
        "outputId": "17633e07-c055-4253-c3de-df3dd7d6a12c"
      },
      "execution_count": 199,
      "outputs": [
        {
          "output_type": "execute_result",
          "data": {
            "text/plain": [
              "PassengerId    0\n",
              "Pclass         0\n",
              "Sex            0\n",
              "Age            0\n",
              "SibSp          0\n",
              "Parch          0\n",
              "Fare           0\n",
              "Embarked       0\n",
              "dtype: int64"
            ]
          },
          "metadata": {},
          "execution_count": 199
        }
      ]
    },
    {
      "cell_type": "markdown",
      "source": [
        "# Data Transformation"
      ],
      "metadata": {
        "id": "axSN_vRXqk5r"
      }
    },
    {
      "cell_type": "markdown",
      "source": [
        "In data analysis and modeling, it is common to transform categorical variables into numerical variables to make them more suitable for analysis and modeling.\n",
        "This is because many statistical and machine learning algorithms only work  with numerical data.\n",
        "\n",
        "---\n",
        "\n",
        "Dalam analisis dan pemodelan data, adalah umum untuk mengubah variabel kategori menjadi variabel numerik agar lebih cocok untuk analisis dan pemodelan.\n",
        "Ini karena banyak algoritma statistik dan pembelajaran mesin hanya bekerja dengan data numerik."
      ],
      "metadata": {
        "id": "D2shSdluq1cj"
      }
    },
    {
      "cell_type": "markdown",
      "source": [
        "---\n",
        "\n",
        "Transform to Numerical Variable\n",
        "\n",
        "---\n",
        "\n",
        "In the case of the Titanic dataset, the \"Sex\" column is a categorical variable that contains two unique values, \"male\" and \"female\". To make this variable \n",
        "suitable for analysis and modeling, we can transform it into a numerical variable by replacing \"male\" with 0 and \"female\" with 1. This way, we can use the \"Sex\" column as a predictor variable in statistical and machine learning models.\n",
        "\n",
        "By transforming categorical variables into numerical variables, we can uncover patterns and relationships between variables that may not have been apparent with the original categorical variables. This can improve the accuracy and  interpretability of our analysis and modeling results.\n",
        "\n",
        "---\n",
        "\n",
        "Dalam kasus kumpulan data Titanic, kolom \"Sex\" adalah variabel kategorikal yang berisi dua nilai unik, \"male\" dan \"female\". Untuk membuat variabel ini\n",
        "cocok untuk analisis dan pemodelan, kita dapat mengubahnya menjadi variabel numerik dengan mengganti \"male\" dengan 0 dan \"female\" dengan 1. Dengan cara ini, kita dapat menggunakan kolom \"Sex\" sebagai variabel prediktor dalam statistik dan model pembelajaran mesin.\n",
        "\n",
        "Dengan mengubah variabel kategori menjadi variabel numerik, kita dapat menemukan pola dan hubungan antar variabel yang mungkin tidak terlihat dengan variabel kategori aslinya. Ini dapat meningkatkan akurasi dan interpretasi hasil analisis dan pemodelan."
      ],
      "metadata": {
        "id": "2NQVGk6sra31"
      }
    },
    {
      "cell_type": "code",
      "source": [
        "train['Sex'] = train['Sex'].map({'male': 0, 'female': 1}).astype(int)\n",
        "test['Sex'] = test['Sex'].map({'male': 0, 'female': 1}).astype(int)"
      ],
      "metadata": {
        "id": "FIuhnHSoI1Xs"
      },
      "execution_count": 200,
      "outputs": []
    },
    {
      "cell_type": "markdown",
      "source": [
        "---\n",
        "\n",
        "Encoding Categorical Variables\n",
        "\n",
        "---\n",
        "\n",
        "We encode the \"Embarked\" column (as well as other categorical variables) in order to convert them from text or string values into numerical values that can be used in machine learning models. Machine learning models typically work with numerical data, so encoding categorical variables is an important step in preparing the data for modeling.\n",
        "\n",
        "In the case of the \"Embarked\" column in the Titanic dataset, it contains three possible string values: \"S\", \"C\", and \"Q\". We can use one-hot encoding or label encoding to convert these string values into numerical values. \n",
        "\n",
        "- One-hot encoding creates a new binary column for each possible value, indicating whether that value is present or not. \n",
        "\n",
        "- Label encoding assigns an unique numerical label to each possible value. Both approaches can be used, depending on the specifics of the problem and the machine learning algorithms being used.\n",
        "\n",
        "Encoding categorical variables can also help capture relationships between different categories and improve the performance of machine learning models. \n",
        "\n",
        "For example, if passengers who embarked from different ports had different survival rates, then encoding the \"Embarked\" column can help the machine learning model capture this pattern.\n",
        "\n",
        "---\n",
        "\n",
        "Kita akan menyandikan kolom \"Embarked\" (serta variabel kategori lainnya) untuk mengonversinya dari nilai teks atau string menjadi nilai numerik yang dapat digunakan dalam model pembelajaran mesin. Model pembelajaran mesin biasanya bekerja dengan data numerik, jadi pengkodean variabel kategori merupakan langkah penting dalam menyiapkan data untuk pemodelan.\n",
        "\n",
        "Dalam kasus kolom \"Embarked\" di kumpulan data Titanic, kolom ini berisi tiga kemungkinan nilai string: \"S\", \"C\", dan \"Q\". Kita dapat menggunakan one-hot encoding atau label encoding untuk mengubah nilai string ini menjadi nilai numerik.\n",
        "\n",
        "- One-hot encoding membuat kolom biner baru untuk setiap kemungkinan nilai, menunjukkan apakah nilai tersebut ada atau tidak.\n",
        "\n",
        "- Pengkodean label memberikan label numerik unik untuk setiap nilai yang mungkin. Kedua pendekatan tersebut dapat digunakan, bergantung pada spesifikasi masalah dan algoritme pembelajaran mesin yang digunakan.\n",
        "\n",
        "Pengkodean variabel kategori juga dapat membantu menangkap hubungan antara berbagai kategori dan meningkatkan kinerja model pembelajaran mesin.\n",
        "\n",
        "Misalnya, jika penumpang yang berangkat dari pelabuhan yang berbeda memiliki tingkat kelangsungan hidup yang berbeda, pengkodean kolom \"Embarked\" dapat membantu model pembelajaran mesin menangkap pola ini."
      ],
      "metadata": {
        "id": "-YZ6B3RZreYN"
      }
    },
    {
      "cell_type": "code",
      "source": [
        "train['Embarked'] = train['Embarked'].map({'S': 0, 'C': 1, 'Q': 2}).astype(int)\n",
        "test['Embarked'] = test['Embarked'].map({'S': 0, 'C': 1, 'Q': 2}).astype(int)"
      ],
      "metadata": {
        "id": "EZgoxNLLPlH7"
      },
      "execution_count": 201,
      "outputs": []
    },
    {
      "cell_type": "markdown",
      "source": [
        "---\n",
        "\n",
        "Feature Engineering\n",
        "\n",
        "---\n",
        "\n",
        "In the Titanic dataset, the \"SibSp\" and \"Parch\" columns represent the number  of siblings/spouses and parents/children that each passenger has aboard the Titanic, respectively. However, these two columns by themselves do not give us a good idea of the overall size of a passenger's family.\n",
        "\n",
        "To better capture the overall family size of each passenger, we can create a new column called \"FamilySize\" by adding together the \"SibSp\" and \"Parch\" columns, plus one to include the passenger themselves. For example, a passenger with \"SibSp\" of 1 and \"Parch\" of 2 would have a \"FamilySize\" of 4 (1 + 2 + 1).\n",
        "\n",
        "\n",
        "By creating the \"FamilySize\" column, we can better capture the overall size of each passenger's family, which can be useful in analysis and modeling. For example, we might expect that larger families may have had more difficulty escaping the sinking Titanic, as it would have been harder to keep track of and coordinate so many people during an emergency.\n",
        "\n",
        "---\n",
        "\n",
        "Dalam dataset Titanic, kolom \"SibSp\" dan \"Parch\" masing-masing mewakili jumlah saudara kandung/pasangan dan orang tua/anak yang dimiliki setiap penumpang di Titanic. Namun, kedua kolom ini saja tidak memberi kita gambaran yang baik tentang ukuran keseluruhan keluarga penumpang.\n",
        "\n",
        "Untuk lebih menangkap keseluruhan ukuran keluarga setiap penumpang, kita dapat membuat kolom baru bernama \"FamilySize\" dengan menambahkan kolom \"SibSp\" dan \"Parch\", ditambah satu kolom untuk memasukkan penumpang itu sendiri. Misalnya, penumpang dengan \"SibSp\" 1 dan \"Parch\" 2 akan memiliki \"FamilySize\" 4 (1 + 2 + 1).\n",
        "\n",
        "Dengan membuat kolom \"FamilySize\", kami dapat menangkap ukuran keseluruhan keluarga setiap penumpang dengan lebih baik, yang dapat berguna dalam analisis dan pemodelan. Misalnya, kita mungkin mengira bahwa keluarga yang lebih besar mungkin lebih sulit melarikan diri dari Titanic yang tenggelam, karena akan lebih sulit untuk melacak dan mengoordinasikan begitu banyak orang selama keadaan darurat."
      ],
      "metadata": {
        "id": "_9j7olMNsXhK"
      }
    },
    {
      "cell_type": "code",
      "source": [
        "train['FamilySize'] = train['SibSp'] + train['Parch'] + 1\n",
        "test['FamilySize'] = test['SibSp'] + test['Parch'] + 1"
      ],
      "metadata": {
        "id": "ZmgbeS5YJpJn"
      },
      "execution_count": 202,
      "outputs": []
    },
    {
      "cell_type": "markdown",
      "source": [
        "Additionally, we can use the \"FamilySize\" column to create a new binary column called \"IsAlone\", which indicates whether a passenger is traveling alone or with family. \n",
        "\n",
        "This can be useful in analysis and modeling, as we might expect that passengers traveling alone may have had a different likelihood of survival compared to those traveling with family.\n",
        "\n",
        "---\n",
        "\n",
        "Selain itu, kita dapat menggunakan kolom \"FamilySize\" untuk membuat kolom biner baru bernama \"IsAlone\", yang menunjukkan apakah penumpang bepergian sendiri atau bersama keluarga.\n",
        "\n",
        "Hal ini dapat berguna dalam analisis dan pemodelan, karena kami memperkirakan bahwa penumpang yang bepergian sendiri mungkin memiliki kemungkinan bertahan hidup yang berbeda dibandingkan dengan mereka yang bepergian dengan keluarga."
      ],
      "metadata": {
        "id": "paJKb_Eost9D"
      }
    },
    {
      "cell_type": "code",
      "source": [
        "train['IsAlone'] = train['FamilySize'].apply(lambda x: 1 if x == 1 else 0)\n",
        "test['IsAlone'] = test['FamilySize'].apply(lambda x: 1 if x == 1 else 0)"
      ],
      "metadata": {
        "id": "2E4Vn4dzLap_"
      },
      "execution_count": 203,
      "outputs": []
    },
    {
      "cell_type": "code",
      "source": [
        "train.head()"
      ],
      "metadata": {
        "colab": {
          "base_uri": "https://localhost:8080/",
          "height": 206
        },
        "id": "MlLwgsUaORem",
        "outputId": "3f4fa152-a120-46a0-aacb-16ff8ae4ee30"
      },
      "execution_count": 204,
      "outputs": [
        {
          "output_type": "execute_result",
          "data": {
            "text/plain": [
              "   Survived  Pclass  Sex   Age  SibSp  Parch     Fare  Embarked  FamilySize  \\\n",
              "0         0       3    0  22.0      1      0   7.2500         0           2   \n",
              "1         1       1    1  38.0      1      0  71.2833         1           2   \n",
              "2         1       3    1  26.0      0      0   7.9250         0           1   \n",
              "3         1       1    1  35.0      1      0  53.1000         0           2   \n",
              "4         0       3    0  35.0      0      0   8.0500         0           1   \n",
              "\n",
              "   IsAlone  \n",
              "0        0  \n",
              "1        0  \n",
              "2        1  \n",
              "3        0  \n",
              "4        1  "
            ],
            "text/html": [
              "\n",
              "  <div id=\"df-4b27fd60-0082-4888-8b8b-4ce6f5af6fda\">\n",
              "    <div class=\"colab-df-container\">\n",
              "      <div>\n",
              "<style scoped>\n",
              "    .dataframe tbody tr th:only-of-type {\n",
              "        vertical-align: middle;\n",
              "    }\n",
              "\n",
              "    .dataframe tbody tr th {\n",
              "        vertical-align: top;\n",
              "    }\n",
              "\n",
              "    .dataframe thead th {\n",
              "        text-align: right;\n",
              "    }\n",
              "</style>\n",
              "<table border=\"1\" class=\"dataframe\">\n",
              "  <thead>\n",
              "    <tr style=\"text-align: right;\">\n",
              "      <th></th>\n",
              "      <th>Survived</th>\n",
              "      <th>Pclass</th>\n",
              "      <th>Sex</th>\n",
              "      <th>Age</th>\n",
              "      <th>SibSp</th>\n",
              "      <th>Parch</th>\n",
              "      <th>Fare</th>\n",
              "      <th>Embarked</th>\n",
              "      <th>FamilySize</th>\n",
              "      <th>IsAlone</th>\n",
              "    </tr>\n",
              "  </thead>\n",
              "  <tbody>\n",
              "    <tr>\n",
              "      <th>0</th>\n",
              "      <td>0</td>\n",
              "      <td>3</td>\n",
              "      <td>0</td>\n",
              "      <td>22.0</td>\n",
              "      <td>1</td>\n",
              "      <td>0</td>\n",
              "      <td>7.2500</td>\n",
              "      <td>0</td>\n",
              "      <td>2</td>\n",
              "      <td>0</td>\n",
              "    </tr>\n",
              "    <tr>\n",
              "      <th>1</th>\n",
              "      <td>1</td>\n",
              "      <td>1</td>\n",
              "      <td>1</td>\n",
              "      <td>38.0</td>\n",
              "      <td>1</td>\n",
              "      <td>0</td>\n",
              "      <td>71.2833</td>\n",
              "      <td>1</td>\n",
              "      <td>2</td>\n",
              "      <td>0</td>\n",
              "    </tr>\n",
              "    <tr>\n",
              "      <th>2</th>\n",
              "      <td>1</td>\n",
              "      <td>3</td>\n",
              "      <td>1</td>\n",
              "      <td>26.0</td>\n",
              "      <td>0</td>\n",
              "      <td>0</td>\n",
              "      <td>7.9250</td>\n",
              "      <td>0</td>\n",
              "      <td>1</td>\n",
              "      <td>1</td>\n",
              "    </tr>\n",
              "    <tr>\n",
              "      <th>3</th>\n",
              "      <td>1</td>\n",
              "      <td>1</td>\n",
              "      <td>1</td>\n",
              "      <td>35.0</td>\n",
              "      <td>1</td>\n",
              "      <td>0</td>\n",
              "      <td>53.1000</td>\n",
              "      <td>0</td>\n",
              "      <td>2</td>\n",
              "      <td>0</td>\n",
              "    </tr>\n",
              "    <tr>\n",
              "      <th>4</th>\n",
              "      <td>0</td>\n",
              "      <td>3</td>\n",
              "      <td>0</td>\n",
              "      <td>35.0</td>\n",
              "      <td>0</td>\n",
              "      <td>0</td>\n",
              "      <td>8.0500</td>\n",
              "      <td>0</td>\n",
              "      <td>1</td>\n",
              "      <td>1</td>\n",
              "    </tr>\n",
              "  </tbody>\n",
              "</table>\n",
              "</div>\n",
              "      <button class=\"colab-df-convert\" onclick=\"convertToInteractive('df-4b27fd60-0082-4888-8b8b-4ce6f5af6fda')\"\n",
              "              title=\"Convert this dataframe to an interactive table.\"\n",
              "              style=\"display:none;\">\n",
              "        \n",
              "  <svg xmlns=\"http://www.w3.org/2000/svg\" height=\"24px\"viewBox=\"0 0 24 24\"\n",
              "       width=\"24px\">\n",
              "    <path d=\"M0 0h24v24H0V0z\" fill=\"none\"/>\n",
              "    <path d=\"M18.56 5.44l.94 2.06.94-2.06 2.06-.94-2.06-.94-.94-2.06-.94 2.06-2.06.94zm-11 1L8.5 8.5l.94-2.06 2.06-.94-2.06-.94L8.5 2.5l-.94 2.06-2.06.94zm10 10l.94 2.06.94-2.06 2.06-.94-2.06-.94-.94-2.06-.94 2.06-2.06.94z\"/><path d=\"M17.41 7.96l-1.37-1.37c-.4-.4-.92-.59-1.43-.59-.52 0-1.04.2-1.43.59L10.3 9.45l-7.72 7.72c-.78.78-.78 2.05 0 2.83L4 21.41c.39.39.9.59 1.41.59.51 0 1.02-.2 1.41-.59l7.78-7.78 2.81-2.81c.8-.78.8-2.07 0-2.86zM5.41 20L4 18.59l7.72-7.72 1.47 1.35L5.41 20z\"/>\n",
              "  </svg>\n",
              "      </button>\n",
              "      \n",
              "  <style>\n",
              "    .colab-df-container {\n",
              "      display:flex;\n",
              "      flex-wrap:wrap;\n",
              "      gap: 12px;\n",
              "    }\n",
              "\n",
              "    .colab-df-convert {\n",
              "      background-color: #E8F0FE;\n",
              "      border: none;\n",
              "      border-radius: 50%;\n",
              "      cursor: pointer;\n",
              "      display: none;\n",
              "      fill: #1967D2;\n",
              "      height: 32px;\n",
              "      padding: 0 0 0 0;\n",
              "      width: 32px;\n",
              "    }\n",
              "\n",
              "    .colab-df-convert:hover {\n",
              "      background-color: #E2EBFA;\n",
              "      box-shadow: 0px 1px 2px rgba(60, 64, 67, 0.3), 0px 1px 3px 1px rgba(60, 64, 67, 0.15);\n",
              "      fill: #174EA6;\n",
              "    }\n",
              "\n",
              "    [theme=dark] .colab-df-convert {\n",
              "      background-color: #3B4455;\n",
              "      fill: #D2E3FC;\n",
              "    }\n",
              "\n",
              "    [theme=dark] .colab-df-convert:hover {\n",
              "      background-color: #434B5C;\n",
              "      box-shadow: 0px 1px 3px 1px rgba(0, 0, 0, 0.15);\n",
              "      filter: drop-shadow(0px 1px 2px rgba(0, 0, 0, 0.3));\n",
              "      fill: #FFFFFF;\n",
              "    }\n",
              "  </style>\n",
              "\n",
              "      <script>\n",
              "        const buttonEl =\n",
              "          document.querySelector('#df-4b27fd60-0082-4888-8b8b-4ce6f5af6fda button.colab-df-convert');\n",
              "        buttonEl.style.display =\n",
              "          google.colab.kernel.accessAllowed ? 'block' : 'none';\n",
              "\n",
              "        async function convertToInteractive(key) {\n",
              "          const element = document.querySelector('#df-4b27fd60-0082-4888-8b8b-4ce6f5af6fda');\n",
              "          const dataTable =\n",
              "            await google.colab.kernel.invokeFunction('convertToInteractive',\n",
              "                                                     [key], {});\n",
              "          if (!dataTable) return;\n",
              "\n",
              "          const docLinkHtml = 'Like what you see? Visit the ' +\n",
              "            '<a target=\"_blank\" href=https://colab.research.google.com/notebooks/data_table.ipynb>data table notebook</a>'\n",
              "            + ' to learn more about interactive tables.';\n",
              "          element.innerHTML = '';\n",
              "          dataTable['output_type'] = 'display_data';\n",
              "          await google.colab.output.renderOutput(dataTable, element);\n",
              "          const docLink = document.createElement('div');\n",
              "          docLink.innerHTML = docLinkHtml;\n",
              "          element.appendChild(docLink);\n",
              "        }\n",
              "      </script>\n",
              "    </div>\n",
              "  </div>\n",
              "  "
            ]
          },
          "metadata": {},
          "execution_count": 204
        }
      ]
    },
    {
      "cell_type": "code",
      "source": [
        "test.head()"
      ],
      "metadata": {
        "colab": {
          "base_uri": "https://localhost:8080/",
          "height": 206
        },
        "id": "3v0lbdhIOtVp",
        "outputId": "f6d02be9-0358-446d-8f0c-b8906dba150b"
      },
      "execution_count": 205,
      "outputs": [
        {
          "output_type": "execute_result",
          "data": {
            "text/plain": [
              "   PassengerId  Pclass  Sex   Age  SibSp  Parch     Fare  Embarked  \\\n",
              "0          892       3    0  34.5      0      0   7.8292         2   \n",
              "1          893       3    1  47.0      1      0   7.0000         0   \n",
              "2          894       2    0  62.0      0      0   9.6875         2   \n",
              "3          895       3    0  27.0      0      0   8.6625         0   \n",
              "4          896       3    1  22.0      1      1  12.2875         0   \n",
              "\n",
              "   FamilySize  IsAlone  \n",
              "0           1        1  \n",
              "1           2        0  \n",
              "2           1        1  \n",
              "3           1        1  \n",
              "4           3        0  "
            ],
            "text/html": [
              "\n",
              "  <div id=\"df-831bde23-9209-4a30-953d-aebcf75e1e68\">\n",
              "    <div class=\"colab-df-container\">\n",
              "      <div>\n",
              "<style scoped>\n",
              "    .dataframe tbody tr th:only-of-type {\n",
              "        vertical-align: middle;\n",
              "    }\n",
              "\n",
              "    .dataframe tbody tr th {\n",
              "        vertical-align: top;\n",
              "    }\n",
              "\n",
              "    .dataframe thead th {\n",
              "        text-align: right;\n",
              "    }\n",
              "</style>\n",
              "<table border=\"1\" class=\"dataframe\">\n",
              "  <thead>\n",
              "    <tr style=\"text-align: right;\">\n",
              "      <th></th>\n",
              "      <th>PassengerId</th>\n",
              "      <th>Pclass</th>\n",
              "      <th>Sex</th>\n",
              "      <th>Age</th>\n",
              "      <th>SibSp</th>\n",
              "      <th>Parch</th>\n",
              "      <th>Fare</th>\n",
              "      <th>Embarked</th>\n",
              "      <th>FamilySize</th>\n",
              "      <th>IsAlone</th>\n",
              "    </tr>\n",
              "  </thead>\n",
              "  <tbody>\n",
              "    <tr>\n",
              "      <th>0</th>\n",
              "      <td>892</td>\n",
              "      <td>3</td>\n",
              "      <td>0</td>\n",
              "      <td>34.5</td>\n",
              "      <td>0</td>\n",
              "      <td>0</td>\n",
              "      <td>7.8292</td>\n",
              "      <td>2</td>\n",
              "      <td>1</td>\n",
              "      <td>1</td>\n",
              "    </tr>\n",
              "    <tr>\n",
              "      <th>1</th>\n",
              "      <td>893</td>\n",
              "      <td>3</td>\n",
              "      <td>1</td>\n",
              "      <td>47.0</td>\n",
              "      <td>1</td>\n",
              "      <td>0</td>\n",
              "      <td>7.0000</td>\n",
              "      <td>0</td>\n",
              "      <td>2</td>\n",
              "      <td>0</td>\n",
              "    </tr>\n",
              "    <tr>\n",
              "      <th>2</th>\n",
              "      <td>894</td>\n",
              "      <td>2</td>\n",
              "      <td>0</td>\n",
              "      <td>62.0</td>\n",
              "      <td>0</td>\n",
              "      <td>0</td>\n",
              "      <td>9.6875</td>\n",
              "      <td>2</td>\n",
              "      <td>1</td>\n",
              "      <td>1</td>\n",
              "    </tr>\n",
              "    <tr>\n",
              "      <th>3</th>\n",
              "      <td>895</td>\n",
              "      <td>3</td>\n",
              "      <td>0</td>\n",
              "      <td>27.0</td>\n",
              "      <td>0</td>\n",
              "      <td>0</td>\n",
              "      <td>8.6625</td>\n",
              "      <td>0</td>\n",
              "      <td>1</td>\n",
              "      <td>1</td>\n",
              "    </tr>\n",
              "    <tr>\n",
              "      <th>4</th>\n",
              "      <td>896</td>\n",
              "      <td>3</td>\n",
              "      <td>1</td>\n",
              "      <td>22.0</td>\n",
              "      <td>1</td>\n",
              "      <td>1</td>\n",
              "      <td>12.2875</td>\n",
              "      <td>0</td>\n",
              "      <td>3</td>\n",
              "      <td>0</td>\n",
              "    </tr>\n",
              "  </tbody>\n",
              "</table>\n",
              "</div>\n",
              "      <button class=\"colab-df-convert\" onclick=\"convertToInteractive('df-831bde23-9209-4a30-953d-aebcf75e1e68')\"\n",
              "              title=\"Convert this dataframe to an interactive table.\"\n",
              "              style=\"display:none;\">\n",
              "        \n",
              "  <svg xmlns=\"http://www.w3.org/2000/svg\" height=\"24px\"viewBox=\"0 0 24 24\"\n",
              "       width=\"24px\">\n",
              "    <path d=\"M0 0h24v24H0V0z\" fill=\"none\"/>\n",
              "    <path d=\"M18.56 5.44l.94 2.06.94-2.06 2.06-.94-2.06-.94-.94-2.06-.94 2.06-2.06.94zm-11 1L8.5 8.5l.94-2.06 2.06-.94-2.06-.94L8.5 2.5l-.94 2.06-2.06.94zm10 10l.94 2.06.94-2.06 2.06-.94-2.06-.94-.94-2.06-.94 2.06-2.06.94z\"/><path d=\"M17.41 7.96l-1.37-1.37c-.4-.4-.92-.59-1.43-.59-.52 0-1.04.2-1.43.59L10.3 9.45l-7.72 7.72c-.78.78-.78 2.05 0 2.83L4 21.41c.39.39.9.59 1.41.59.51 0 1.02-.2 1.41-.59l7.78-7.78 2.81-2.81c.8-.78.8-2.07 0-2.86zM5.41 20L4 18.59l7.72-7.72 1.47 1.35L5.41 20z\"/>\n",
              "  </svg>\n",
              "      </button>\n",
              "      \n",
              "  <style>\n",
              "    .colab-df-container {\n",
              "      display:flex;\n",
              "      flex-wrap:wrap;\n",
              "      gap: 12px;\n",
              "    }\n",
              "\n",
              "    .colab-df-convert {\n",
              "      background-color: #E8F0FE;\n",
              "      border: none;\n",
              "      border-radius: 50%;\n",
              "      cursor: pointer;\n",
              "      display: none;\n",
              "      fill: #1967D2;\n",
              "      height: 32px;\n",
              "      padding: 0 0 0 0;\n",
              "      width: 32px;\n",
              "    }\n",
              "\n",
              "    .colab-df-convert:hover {\n",
              "      background-color: #E2EBFA;\n",
              "      box-shadow: 0px 1px 2px rgba(60, 64, 67, 0.3), 0px 1px 3px 1px rgba(60, 64, 67, 0.15);\n",
              "      fill: #174EA6;\n",
              "    }\n",
              "\n",
              "    [theme=dark] .colab-df-convert {\n",
              "      background-color: #3B4455;\n",
              "      fill: #D2E3FC;\n",
              "    }\n",
              "\n",
              "    [theme=dark] .colab-df-convert:hover {\n",
              "      background-color: #434B5C;\n",
              "      box-shadow: 0px 1px 3px 1px rgba(0, 0, 0, 0.15);\n",
              "      filter: drop-shadow(0px 1px 2px rgba(0, 0, 0, 0.3));\n",
              "      fill: #FFFFFF;\n",
              "    }\n",
              "  </style>\n",
              "\n",
              "      <script>\n",
              "        const buttonEl =\n",
              "          document.querySelector('#df-831bde23-9209-4a30-953d-aebcf75e1e68 button.colab-df-convert');\n",
              "        buttonEl.style.display =\n",
              "          google.colab.kernel.accessAllowed ? 'block' : 'none';\n",
              "\n",
              "        async function convertToInteractive(key) {\n",
              "          const element = document.querySelector('#df-831bde23-9209-4a30-953d-aebcf75e1e68');\n",
              "          const dataTable =\n",
              "            await google.colab.kernel.invokeFunction('convertToInteractive',\n",
              "                                                     [key], {});\n",
              "          if (!dataTable) return;\n",
              "\n",
              "          const docLinkHtml = 'Like what you see? Visit the ' +\n",
              "            '<a target=\"_blank\" href=https://colab.research.google.com/notebooks/data_table.ipynb>data table notebook</a>'\n",
              "            + ' to learn more about interactive tables.';\n",
              "          element.innerHTML = '';\n",
              "          dataTable['output_type'] = 'display_data';\n",
              "          await google.colab.output.renderOutput(dataTable, element);\n",
              "          const docLink = document.createElement('div');\n",
              "          docLink.innerHTML = docLinkHtml;\n",
              "          element.appendChild(docLink);\n",
              "        }\n",
              "      </script>\n",
              "    </div>\n",
              "  </div>\n",
              "  "
            ]
          },
          "metadata": {},
          "execution_count": 205
        }
      ]
    },
    {
      "cell_type": "markdown",
      "source": [
        "# Exploratory Visualization"
      ],
      "metadata": {
        "id": "wZHaGYAgs1wS"
      }
    },
    {
      "cell_type": "markdown",
      "source": [
        "Data Visualization is the graphic representation of data. It converts a huge dataset into small graphs, thus aiding in data analysis and predictions. It is an indispensable element of data science that makes complex data more understandable and accessible. Matplotlib and Seaborn act as the backbone of data visualization through Python. \n",
        "\n",
        "**Matplotlib**\n",
        ">It is a Python library used for plotting graphs with the help of other libraries like Numpy and Pandas. \n",
        "It is a powerful tool for visualizing data in Python. It is used for creating statical inferences and plotting 2D graphs of arrays. It was first introduced by John D. Hunter in 2002. It uses Pyplot for providing MATLAB like interface free and open-source. It is capable of dealing with various operating systems and their graphical backends. \n",
        "\n",
        "**Seaborn**\n",
        ">It is also a Python library used for plotting graphs with the help of Matplotlib, Pandas, and Numpy. It is built on the roof of Matplotlib and is considered as a superset of the Matplotlib library. It helps in visualizing univariate and bivariate data. It uses beautiful themes for decorating Matplotlib graphics. It acts as an important tool in picturing Linear Regression Models. It serves in making graphs of statical Time-Series data. It eliminates the overlapping of graphs and also aids in their beautification.\n",
        "\n",
        "![image text](https://seaborn.pydata.org/_images/function_overview_8_0.png)\n",
        "\n",
        "---\n",
        "\n",
        "Visualisasi Data adalah representasi grafis dari data. Itu mengubah kumpulan data besar menjadi grafik kecil, sehingga membantu dalam analisis dan prediksi data. Ini adalah elemen tak terpisahkan dari ilmu data yang membuat data kompleks lebih mudah dipahami dan diakses. Matplotlib dan Seaborn bertindak sebagai tulang punggung visualisasi data melalui Python.\n",
        "\n",
        "**Matplotlib**\n",
        "> Matplotlib adalah library Python yang digunakan untuk memplot grafik dengan bantuan pustaka lain seperti Numpy dan Pandas.\n",
        "Matplotlib adalah alat yang ampuh untuk memvisualisasikan data dengan Python. Matplotlib digunakan untuk membuat inferensi statis dan memplot grafik array 2D. Matplotlib pertama kali diperkenalkan oleh John D. Hunter pada tahun 2002. Matplotlib menggunakan Pyplot untuk menyediakan antarmuka seperti MATLAB yang gratis dan sumber terbuka. Itu mampu menangani berbagai sistem operasi dan backend grafisnya.\n",
        "\n",
        "**Seaborn**\n",
        "> Seaborn juga merupakan library Python yang digunakan untuk memplot grafik dengan bantuan Matplotlib, Pandas, dan Numpy. Itu dibangun di atas Matplotlib dan dianggap sebagai superset dari perpustakaan Matplotlib. Ini membantu dalam memvisualisasikan data univariat dan bivariat. Seaborn menggunakan tema yang indah untuk mendekorasi grafis Matplotlib. Seaborn bertindak sebagai alat penting dalam menggambarkan Model Regresi Linier. Seaborn berfungsi dalam pembuatan grafik data Time-Series statis. Seaborn menghilangkan tumpang tindih grafik dan juga membantu mempercantiknya."
      ],
      "metadata": {
        "id": "YIYE6FCes9y2"
      }
    },
    {
      "cell_type": "code",
      "source": [
        "import seaborn as sns\n",
        "import matplotlib.pyplot as plt"
      ],
      "metadata": {
        "id": "mpBdG36RTMY6"
      },
      "execution_count": 206,
      "outputs": []
    },
    {
      "cell_type": "markdown",
      "source": [
        "---\n",
        "\n",
        "Style\n",
        "\n",
        "---\n",
        "\n",
        "sns.set() is a function from the Seaborn library that allows you to set the default aesthetic parameters for Seaborn visualizations. By calling sns.set(), you can set the style, context, and color palette for all of your Seaborn plots, which can make them more consistent and visually appealing.\n",
        "\n",
        "For example, you can set the style of the plot (e.g., \"whitegrid\", \"darkgrid\", \"ticks\"), the context (e.g., \"notebook\", \"poster\", \"talk\"), and the color palette (e.g., \"muted\", \"bright\", \"deep\"). These settings will then be applied to all Seaborn plots that you create, unless you override them for a specific plot.\n",
        "\n",
        "sns.set() should be called at the beginning of your code, before you create any Seaborn plots.\n",
        "\n",
        "---\n",
        "\n",
        "sns.set() adalah fungsi dari pustaka Seaborn yang memungkinkan Anda menyetel parameter estetika default untuk visualisasi Seaborn. Dengan memanggil sns.set(), Anda dapat mengatur gaya, konteks, dan palet warna untuk semua plot Seaborn Anda, yang dapat membuatnya lebih konsisten dan menarik secara visual.\n",
        "\n",
        "Misalnya, Anda dapat menyetel gaya plot (misalnya, \"whitegrid\", \"darkgrid\", \"ticks\"), konteks (misalnya, \"notebook\", \"poster\", \"talk\"), dan palet warna ( misalnya, \"muted\", \"bright\", \"deep\"). Pengaturan ini kemudian akan diterapkan ke semua plot Seaborn yang Anda buat, kecuali jika Anda menimpanya untuk plot tertentu.\n",
        "\n",
        "sns.set() harus dipanggil di awal kode Anda, sebelum Anda membuat plot Seaborn."
      ],
      "metadata": {
        "id": "DTD9ANC6xk8Z"
      }
    },
    {
      "cell_type": "code",
      "source": [
        "sns.set()"
      ],
      "metadata": {
        "id": "SUZrvQCGxov2"
      },
      "execution_count": 207,
      "outputs": []
    },
    {
      "cell_type": "markdown",
      "source": [
        "---\n",
        "\n",
        "Heatmap Correlation\n",
        "\n",
        "---\n",
        "\n",
        "In Python's pandas library, corr() is a method that computes the pairwise correlation of columns in a DataFrame or a Series object. It returns a correlation matrix, which is a square matrix that shows the correlation coefficients between all possible pairs of variables in the data.\n",
        "\n",
        "The corr() method can be used with different correlation methods, such as Pearson, Kendall, and Spearman. By default, it computes the Pearson correlation coefficient, which is a measure of the linear correlation between two variables. The Pearson correlation coefficient ranges from -1 to 1, where -1 represents a perfect negative correlation, 0 represents no correlation, and 1 represents a perfect positive correlation.\n",
        ">Pearson correlation is a statistical technique used to measure the strength and direction of the linear relationship between two continuous variables. It calculates the correlation coefficient, which ranges from -1 to 1. A correlation coefficient of 1 indicates a perfect positive correlation (when one variable increases, the other increases), while a correlation coefficient of -1 indicates a perfect negative correlation (when one variable increases, the other decreases). A correlation coefficient of 0 indicates no correlation between the two variables.\n",
        "\n",
        "The corr() method is useful for exploring the relationships between different variables in a dataset and can be used to identify variables that are strongly correlated with each other. Correlation analysis is often used in data analysis, data visualization, and machine learning to understand the relationships between variables and to identify potential predictors or factors that may influence a target variable.\n",
        "\n",
        "A heatmap correlation is a graphical representation of the correlation matrix between variables in a dataset, using colors to represent the strength of the correlation between pairs of variables.\n",
        "\n",
        "In a heatmap correlation, each cell represents the correlation coefficient between two variables. The color of the cell indicates the magnitude and direction of the correlation, with a color scale ranging from, for example, blue for negative correlation, to red for positive correlation. The intensity of the color represents the strength of the correlation, with darker colors indicating a stronger correlation.\n",
        "\n",
        "Heatmap correlation is a useful tool in data analysis and visualization because it allows analysts to identify patterns and relationships between variables quickly. It can also help to identify which variables are most strongly correlated with each other and which variables are not correlated. This information can be useful in identifying potential predictors or factors that may be influencing a target variable.\n",
        "\n",
        "---\n",
        "\n",
        "Di perpustakaan panda Python, corr() adalah metode yang menghitung korelasi berpasangan kolom dalam DataFrame atau objek Seri. Ini mengembalikan matriks korelasi, yang merupakan matriks persegi yang menunjukkan koefisien korelasi antara semua kemungkinan pasangan variabel dalam data.\n",
        "\n",
        "Metode corr() dapat digunakan dengan metode korelasi yang berbeda, seperti Pearson, Kendall, dan Spearman. Secara default, ini menghitung koefisien korelasi Pearson, yang merupakan ukuran korelasi linier antara dua variabel. Koefisien korelasi Pearson berkisar dari -1 hingga 1, di mana -1 mewakili korelasi negatif sempurna, 0 mewakili tidak ada korelasi, dan 1 mewakili korelasi positif sempurna.\n",
        "> Korelasi Pearson adalah teknik statistik yang digunakan untuk mengukur kekuatan dan arah hubungan linear antara dua variabel kontinu. Ini menghitung koefisien korelasi, yang berkisar dari -1 hingga 1. Koefisien korelasi 1 menunjukkan korelasi positif sempurna (ketika satu variabel meningkat, yang lain meningkat), sedangkan koefisien korelasi -1 menunjukkan korelasi negatif sempurna (ketika satu variabel meningkat, yang lain menurun). Koefisien korelasi 0 menunjukkan tidak ada korelasi antara kedua variabel.\n",
        "\n",
        "Metode corr() berguna untuk mengeksplorasi hubungan antara variabel yang berbeda dalam sebuah dataset dan dapat digunakan untuk mengidentifikasi variabel yang berkorelasi kuat satu sama lain. Analisis korelasi sering digunakan dalam analisis data, visualisasi data, dan pembelajaran mesin untuk memahami hubungan antar variabel dan untuk mengidentifikasi prediktor atau faktor potensial yang dapat memengaruhi variabel target.\n",
        "\n",
        "Korelasi peta panas adalah representasi grafis dari matriks korelasi antara variabel dalam kumpulan data, menggunakan warna untuk mewakili kekuatan korelasi antara pasangan variabel.\n",
        "\n",
        "Dalam korelasi peta panas, setiap sel mewakili koefisien korelasi antara dua variabel. Warna sel menunjukkan besarnya dan arah korelasi, dengan skala warna mulai dari, misalnya, biru untuk korelasi negatif, hingga merah untuk korelasi positif. Intensitas warna mewakili kekuatan korelasi, dengan warna yang lebih gelap menunjukkan korelasi yang lebih kuat.\n",
        "\n",
        "Korelasi peta panas adalah alat yang berguna dalam analisis dan visualisasi data karena memungkinkan analis untuk mengidentifikasi pola dan hubungan antar variabel dengan cepat. Ini juga dapat membantu untuk mengidentifikasi variabel mana yang berkorelasi paling kuat satu sama lain dan variabel mana yang tidak berkorelasi. Informasi ini dapat berguna dalam mengidentifikasi prediktor atau faktor potensial yang mungkin memengaruhi variabel target."
      ],
      "metadata": {
        "id": "eGri0xHxuJtD"
      }
    },
    {
      "cell_type": "code",
      "source": [
        "corr = train.corr()\n",
        "sns.heatmap(corr, cmap=sns.cubehelix_palette(as_cmap=True))\n",
        "plt.title('Heatmap Correlation')\n",
        "plt.show()"
      ],
      "metadata": {
        "colab": {
          "base_uri": "https://localhost:8080/",
          "height": 332
        },
        "id": "vCvuDk4YU7dJ",
        "outputId": "3ebfcd5c-e9c6-46d5-fba5-477525b46748"
      },
      "execution_count": 208,
      "outputs": [
        {
          "output_type": "display_data",
          "data": {
            "text/plain": [
              "<Figure size 432x288 with 2 Axes>"
            ],
            "image/png": "[encoded data removed]"
          },
          "metadata": {}
        }
      ]
    },
    {
      "cell_type": "markdown",
      "source": [
        "---\n",
        "\n",
        "Histogram\n",
        "\n",
        "---\n",
        "\n",
        "Histograms are commonly used in exploratory data analysis because they provide a quick visual representation of the distribution of a numerical variable. They allow you to see the shape of the distribution, such as whether it is symmetric or skewed, and the presence of outliers or gaps in the data. Histograms can also provide information about the central tendency and dispersion of the data, such as the mean and standard deviation.\n",
        "\n",
        "By using histograms, you can easily identify patterns and trends in your data, which can be useful in understanding the underlying structure of your dataset. Histograms can also be used to identify potential issues in your data, such as data that is heavily skewed or has outliers that may need to be addressed during data cleaning or analysis.\n",
        "\n",
        "Overall, histograms are a powerful and flexible tool for exploring and visualizing the distribution of numerical data, making them a valuable tool in the exploratory visualization phase of data analysis.\n",
        "\n",
        ">KDEplot (Kernel Density Estimation plot) is a type of data visualization technique used to visualize the probability density function of a continuous variable. It is a non-parametric method of estimating the probability density function of a random variable.\n",
        "In a KDEplot, the data points are first replaced by Gaussian kernels. Then, these kernels are convolved to create a smooth density curve that provides an estimate of the probability density function. The bandwidth parameter of the kernel is used to control the smoothness of the density curve.\n",
        "KDEplot is a useful tool for exploring the distribution of a continuous variable and can be used to detect if the data is normally distributed, bimodal, or skewed. It can also be used to compare the distribution of two or more variables. KDEplot is commonly used in data science, statistics, and machine learning to explore data and generate insights.\n",
        "\n",
        "---\n",
        "\n",
        "Histogram biasanya digunakan dalam analisis data eksplorasi karena menyediakan representasi visual cepat dari distribusi variabel numerik. Mereka memungkinkan Anda untuk melihat bentuk distribusi, seperti apakah simetris atau miring, dan adanya outlier atau kesenjangan dalam data. Histogram juga dapat memberikan informasi tentang tendensi sentral dan dispersi data, seperti rata-rata dan standar deviasi.\n",
        "\n",
        "Dengan menggunakan histogram, Anda dapat dengan mudah mengidentifikasi pola dan tren dalam data Anda, yang berguna untuk memahami struktur yang mendasari kumpulan data Anda. Histogram juga dapat digunakan untuk mengidentifikasi potensi masalah dalam data Anda, seperti data yang sangat miring atau memiliki outlier yang mungkin perlu ditangani selama pembersihan atau analisis data.\n",
        "\n",
        "Secara keseluruhan, histogram adalah alat yang kuat dan fleksibel untuk menjelajahi dan memvisualisasikan distribusi data numerik, menjadikannya alat yang berharga dalam fase visualisasi eksplorasi analisis data.\n",
        "\n",
        ">KDEplot (Kernel Density Estimation plot) adalah jenis teknik visualisasi data yang digunakan untuk memvisualisasikan fungsi kepadatan probabilitas dari variabel kontinu. Ini adalah metode non-parametrik untuk memperkirakan fungsi kepadatan probabilitas dari variabel acak.\n",
        "Dalam KDEplot, titik data pertama kali digantikan oleh kernel Gaussian. Kemudian, kernel ini digabungkan untuk membuat kurva kerapatan halus yang memberikan estimasi fungsi kerapatan probabilitas. Parameter bandwidth kernel digunakan untuk mengontrol kelancaran kurva kepadatan.\n",
        "KDEplot adalah alat yang berguna untuk menjelajahi distribusi variabel kontinu dan dapat digunakan untuk mendeteksi apakah data terdistribusi normal, bimodal, atau miring. Ini juga dapat digunakan untuk membandingkan distribusi dua variabel atau lebih. KDEplot umumnya digunakan dalam ilmu data, statistik, dan pembelajaran mesin untuk mengeksplorasi data dan menghasilkan wawasan."
      ],
      "metadata": {
        "id": "cKtViOwPvOsC"
      }
    },
    {
      "cell_type": "code",
      "source": [
        "sns.histplot(x=\"Age\", data=train, bins=10, kde=True)\n",
        "plt.title('Age Distribution')\n",
        "plt.show()"
      ],
      "metadata": {
        "colab": {
          "base_uri": "https://localhost:8080/",
          "height": 301
        },
        "id": "KbfEBQocvSKH",
        "outputId": "3bef2609-582e-467e-fa9a-443604db3826"
      },
      "execution_count": 209,
      "outputs": [
        {
          "output_type": "display_data",
          "data": {
            "text/plain": [
              "<Figure size 432x288 with 1 Axes>"
            ],
            "image/png": "[encoded data removed]"
          },
          "metadata": {}
        }
      ]
    },
    {
      "cell_type": "markdown",
      "source": [
        "---\n",
        "\n",
        "Bar Chart\n",
        "\n",
        "---\n",
        "A bar plot is useful for showing the distribution of categorical variables or discrete data. It can be used to compare the values of different categories, visualize the distribution of a single categorical variable, or display the frequency of occurrence of different categories. \n",
        "\n",
        "Bar plots are particularly useful when the data is not continuous, and there are only a few categories. By using a bar plot, we can easily compare the frequencies of different categories and identify any patterns or trends in the data.\n",
        "\n",
        "This plot shows a countplot of the number of passengers in each class.\n",
        "\n",
        "---\n",
        "\n",
        "Plot batang berguna untuk menunjukkan distribusi variabel kategori atau data diskrit. Ini dapat digunakan untuk membandingkan nilai dari kategori yang berbeda, memvisualisasikan distribusi variabel kategori tunggal, atau menampilkan frekuensi kemunculan kategori yang berbeda.\n",
        "\n",
        "Plot batang sangat berguna ketika data tidak kontinu, dan hanya ada beberapa kategori. Dengan menggunakan diagram batang, kita dapat dengan mudah membandingkan frekuensi dari berbagai kategori dan mengidentifikasi pola atau tren apa pun dalam data.\n",
        "\n",
        "Plot ini menunjukkan countplot jumlah penumpang di setiap kelas."
      ],
      "metadata": {
        "id": "PiVG1K9nxIt_"
      }
    },
    {
      "cell_type": "code",
      "source": [
        "sns.countplot(x='Pclass', data=train)\n",
        "plt.title('Number of Passengers in Each Class')\n",
        "plt.show()"
      ],
      "metadata": {
        "colab": {
          "base_uri": "https://localhost:8080/",
          "height": 301
        },
        "id": "GTPuNAkbxHfL",
        "outputId": "efa08429-914e-4565-b15b-2b8e63bf2504"
      },
      "execution_count": 210,
      "outputs": [
        {
          "output_type": "display_data",
          "data": {
            "text/plain": [
              "<Figure size 432x288 with 1 Axes>"
            ],
            "image/png": "[encoded data removed]"
          },
          "metadata": {}
        }
      ]
    },
    {
      "cell_type": "markdown",
      "source": [
        "---\n",
        "\n",
        "Grouped Bar Chart\n",
        "\n",
        "---\n",
        "\n",
        "This plot shows the number of passengers in each class who survived and who did not survive the Titanic disaster.\n",
        "\n",
        "catplot() is a more powerful function compared to barplot() as it allows us to create a variety of plots such as scatterplot, boxplot, stripplot, and others, in addition to the barplot. This is because catplot() is a categorical plotting function that is built on top of the FacetGrid class which can be used to create multi-plot grids based on a specified column or columns. The kind parameter in catplot() allows us to choose the type of plot we want to create, while the hue parameter allows us to differentiate the plots based on the values of a categorical variable. This makes catplot() more versatile and suitable for exploring relationships between multiple variables in the dataset.\n",
        "\n",
        "We will use catplot to create a grouped bar chart that shows the number of passengers who survived and did not survive, grouped by passenger class. Here we will use Survived as hue.\n",
        ">\"hue\" typically refers to a categorical variable that is used to group or distinguish data in a visualization or analysis. Hue is commonly used in data visualization to highlight the relationship between two or more variables in the data.\n",
        "\n",
        "---\n",
        "\n",
        "Plot ini menunjukkan jumlah penumpang di setiap kelas yang selamat dan yang tidak selamat dari bencana Titanic.\n",
        "\n",
        "catplot() adalah fungsi yang lebih kuat dibandingkan dengan barplot() karena memungkinkan kita membuat berbagai plot seperti scatterplot, boxplot, stripplot, dan lain-lain, selain barplot. Ini karena catplot() adalah fungsi plotting kategorikal yang dibangun di atas kelas FacetGrid yang dapat digunakan untuk membuat kisi multi-plot berdasarkan kolom atau kolom tertentu. Parameter jenis di catplot() memungkinkan kita untuk memilih jenis plot yang ingin kita buat, sedangkan parameter hue memungkinkan kita untuk membedakan plot berdasarkan nilai variabel kategorikal. Ini membuat catplot() lebih fleksibel dan cocok untuk menjelajahi hubungan antara banyak variabel dalam kumpulan data.\n",
        "\n",
        "Kita akan menggunakan catplot untuk membuat diagram batang berkelompok yang menunjukkan jumlah penumpang yang selamat dan tidak selamat, dikelompokkan berdasarkan kelas penumpang. Di sini kita akan menggunakan Survived sebagai hue.\n",
        ">\"hue\" biasanya mengacu pada variabel kategorikal yang digunakan untuk mengelompokkan atau membedakan data dalam visualisasi atau analisis. Hue umumnya digunakan dalam visualisasi data untuk menyoroti hubungan antara dua atau lebih variabel dalam data."
      ],
      "metadata": {
        "id": "LSqPb3ATyew_"
      }
    },
    {
      "cell_type": "code",
      "source": [
        "palette = sns.color_palette(\"deep\", 2)\n",
        "palette.reverse()\n",
        "sns.catplot(x=\"Pclass\", hue=\"Survived\", kind=\"count\", data=train, legend=False, palette=palette)\n",
        "plt.title('Survival by Passenger Class')\n",
        "plt.legend(title='Survived', labels=['Not Survived', 'Survived'])\n",
        "plt.show()"
      ],
      "metadata": {
        "colab": {
          "base_uri": "https://localhost:8080/",
          "height": 381
        },
        "id": "PYe_E193yhIh",
        "outputId": "6a62359f-507b-4c2f-d7a7-b2a2acc35c2c"
      },
      "execution_count": 211,
      "outputs": [
        {
          "output_type": "display_data",
          "data": {
            "text/plain": [
              "<Figure size 360x360 with 1 Axes>"
            ],
            "image/png": "[encoded data removed]"
          },
          "metadata": {}
        }
      ]
    },
    {
      "cell_type": "markdown",
      "source": [
        "---\n",
        "\n",
        "Strip Plot\n",
        "\n",
        "---\n",
        "\n",
        "Strip plot is a type of data visualization technique used to display the distribution of a continuous variable or categorical variable with a small number of categories. It is a simple type of plot that involves placing individual data points along an axis. Each data point represents an observation or measurement of the variable being plotted. In a strip plot, the data points are arranged in a line or a strip, hence the name \"strip plot.\"\n",
        "\n",
        "Strip plots can be used to identify patterns or outliers in the data, as well as to compare the distribution of the variable across different categories or groups. They are often used in exploratory data analysis to gain insights into the distribution and variability of the data before applying more complex statistical analyses. Strip plots can be further enhanced by adding jitter, which adds random noise to the data points to avoid overlapping points, or by adding a boxplot or violin plot to show summary statistics such as median and quartiles.\n",
        "\n",
        "---\n",
        "\n",
        "Strip plot adalah salah satu jenis teknik visualisasi data yang digunakan untuk menampilkan sebaran variabel kontinyu atau variabel kategorikal dengan jumlah kategori yang sedikit. Ini adalah jenis plot sederhana yang melibatkan penempatan titik data individual di sepanjang sumbu. Setiap titik data mewakili pengamatan atau pengukuran variabel yang diplot. Dalam strip plot, titik data disusun dalam garis atau strip, oleh karena itu dinamakan \"strip plot\".\n",
        "\n",
        "Strip plot dapat digunakan untuk mengidentifikasi pola atau outlier dalam data, serta untuk membandingkan distribusi variabel di berbagai kategori atau grup. Mereka sering digunakan dalam analisis data eksplorasi untuk mendapatkan wawasan tentang distribusi dan variabilitas data sebelum menerapkan analisis statistik yang lebih kompleks. Plot strip dapat lebih ditingkatkan dengan menambahkan jitter, yang menambahkan noise acak ke titik data untuk menghindari titik yang tumpang tindih, atau dengan menambahkan plot kotak atau plot biola untuk menampilkan statistik ringkasan seperti median dan kuartil."
      ],
      "metadata": {
        "id": "cE7dt7tS_Xmb"
      }
    },
    {
      "cell_type": "code",
      "source": [
        "palette = sns.color_palette(\"deep\", 2)\n",
        "palette.reverse()\n",
        "sns.stripplot(x=\"Sex\", y=\"Age\", hue=\"Survived\", data=train, palette=palette)\n",
        "plt.title('Survival by Passenger Class and Age')\n",
        "plt.xticks([0, 1], ['Male', 'Female'])\n",
        "plt.legend(title=\"Survived\", labels=[\"No\", \"Yes\"])\n",
        "plt.show()"
      ],
      "metadata": {
        "colab": {
          "base_uri": "https://localhost:8080/",
          "height": 301
        },
        "id": "PFVqUex392wy",
        "outputId": "59fa04ab-c7a7-41eb-9d66-a38a7fa53fed"
      },
      "execution_count": 212,
      "outputs": [
        {
          "output_type": "display_data",
          "data": {
            "text/plain": [
              "<Figure size 432x288 with 1 Axes>"
            ],
            "image/png": "[encoded data removed]"
          },
          "metadata": {}
        }
      ]
    },
    {
      "cell_type": "code",
      "source": [
        "palette = sns.color_palette(\"deep\", 2)\n",
        "palette.reverse()\n",
        "sns.stripplot(x=\"Pclass\", y=\"Age\", hue=\"Survived\", data=train, palette=palette)\n",
        "plt.title('Survival by Passenger Class and Age')\n",
        "plt.legend(title=\"Survived\", labels=[\"No\", \"Yes\"])\n",
        "plt.show()"
      ],
      "metadata": {
        "colab": {
          "base_uri": "https://localhost:8080/",
          "height": 301
        },
        "id": "yyjpjx6j_8Ts",
        "outputId": "98ad56e1-5808-4f57-ffd4-359396e5f877"
      },
      "execution_count": 213,
      "outputs": [
        {
          "output_type": "display_data",
          "data": {
            "text/plain": [
              "<Figure size 432x288 with 1 Axes>"
            ],
            "image/png": "[encoded data removed]"
          },
          "metadata": {}
        }
      ]
    },
    {
      "cell_type": "markdown",
      "source": [
        "---\n",
        "\n",
        "Pie Chart\n",
        "\n",
        "---\n",
        "\n",
        "Seaborn does not have a dedicated function for plotting pie charts, but you can use matplotlib's plt.pie() function and then adjust the plot using Seaborn's styling functions. \n",
        "\n",
        "Pie charts are not commonly used in machine learning because they do not provide an effective way to represent data with multiple variables or to compare multiple groups or categories.\n",
        "\n",
        "In machine learning, the focus is often on analyzing large and complex datasets with multiple variables, and pie charts are limited in their ability to convey this type of information. Pie charts are best suited for displaying proportions of a single variable, such as the percentage of a population that belongs to a particular category.\n",
        "\n",
        "Additionally, pie charts can be difficult to read and interpret accurately, especially when there are many slices or small differences in the sizes of the slices. This can lead to misinterpretation of the data and incorrect conclusions.\n",
        "\n",
        "Machine learning models typically require more robust and advanced visualization techniques, such as scatter plots, histograms, heatmaps, and other types of charts and graphs that can provide a more comprehensive and detailed representation of the data. These visualization techniques can help to identify patterns, trends, and relationships in the data, which are critical in developing accurate and effective machine learning models.\n",
        "---\n",
        "\n",
        "Seaborn tidak memiliki fungsi khusus untuk memplot diagram lingkaran, tetapi Anda dapat menggunakan fungsi plt.pie() matplotlib lalu menyesuaikan plot menggunakan fungsi gaya Seaborn.\n",
        "\n",
        "Pie chart tidak umum digunakan dalam pembelajaran mesin karena tidak memberikan cara yang efektif untuk merepresentasikan data dengan beberapa variabel atau untuk membandingkan beberapa grup atau kategori.\n",
        "\n",
        "Dalam pembelajaran mesin, fokusnya sering kali pada analisis kumpulan data yang besar dan kompleks dengan banyak variabel, dan diagram lingkaran terbatas dalam kemampuannya untuk menyampaikan jenis informasi ini. Bagan pai paling cocok untuk menampilkan proporsi variabel tunggal, seperti persentase populasi yang termasuk dalam kategori tertentu.\n",
        "\n",
        "Selain itu, pie chart pai bisa sulit untuk dibaca dan diinterpretasikan secara akurat, terutama jika ada banyak irisan atau perbedaan kecil dalam ukuran irisan. Hal ini dapat menyebabkan salah interpretasi data dan kesimpulan yang salah.\n",
        "\n",
        "Model pembelajaran mesin biasanya memerlukan teknik visualisasi yang lebih kuat dan canggih, seperti plot pencar, histogram, peta panas, dan jenis bagan dan grafik lain yang dapat memberikan representasi data yang lebih komprehensif dan terperinci. Teknik visualisasi ini dapat membantu mengidentifikasi pola, tren, dan hubungan dalam data, yang sangat penting dalam mengembangkan model pembelajaran mesin yang akurat dan efektif."
      ],
      "metadata": {
        "id": "6WIcG_rt1Xln"
      }
    },
    {
      "cell_type": "code",
      "source": [
        "palette = sns.color_palette(\"deep\", 2)\n",
        "passenger_count = train['Sex'].value_counts()\n",
        "plt.pie(x=passenger_count.values, labels=['Male', 'Female'], colors=palette, startangle=90, autopct='%1.1f%%')\n",
        "plt.title('Passengers by Sex')\n",
        "plt.show()"
      ],
      "metadata": {
        "colab": {
          "base_uri": "https://localhost:8080/",
          "height": 264
        },
        "id": "WDxrg9io1M29",
        "outputId": "90fa9744-4eb4-4f28-970b-3105cfb3c69b"
      },
      "execution_count": 214,
      "outputs": [
        {
          "output_type": "display_data",
          "data": {
            "text/plain": [
              "<Figure size 432x288 with 1 Axes>"
            ],
            "image/png": "[encoded data removed]"
          },
          "metadata": {}
        }
      ]
    },
    {
      "cell_type": "markdown",
      "source": [
        "---\n",
        "\n",
        "More Explaratorty Visualization\n",
        "\n",
        "---"
      ],
      "metadata": {
        "id": "wChXDEMW0Jlf"
      }
    },
    {
      "cell_type": "code",
      "source": [
        "sns.histplot(x=\"Fare\", data=train, bins=20)\n",
        "plt.title('Fare Distribution')\n",
        "plt.show()"
      ],
      "metadata": {
        "colab": {
          "base_uri": "https://localhost:8080/",
          "height": 301
        },
        "id": "FQ4QfLiL0Em4",
        "outputId": "ea4c2b44-39d7-4f2b-b193-513d92f297e9"
      },
      "execution_count": 217,
      "outputs": [
        {
          "output_type": "display_data",
          "data": {
            "text/plain": [
              "<Figure size 432x288 with 1 Axes>"
            ],
            "image/png": "[encoded data removed]"
          },
          "metadata": {}
        }
      ]
    },
    {
      "cell_type": "code",
      "source": [
        "sns.catplot(x=\"FamilySize\", hue=\"Survived\", kind=\"count\", data=train, legend=False)\n",
        "plt.title('Survival by Family Size')\n",
        "plt.legend(title=\"Survived\", labels=[\"No\", \"Yes\"])\n",
        "plt.show()"
      ],
      "metadata": {
        "colab": {
          "base_uri": "https://localhost:8080/",
          "height": 381
        },
        "id": "SpefQ_VA0e6u",
        "outputId": "703135eb-8919-48fb-f5d9-b8222150ac50"
      },
      "execution_count": 218,
      "outputs": [
        {
          "output_type": "display_data",
          "data": {
            "text/plain": [
              "<Figure size 360x360 with 1 Axes>"
            ],
            "image/png": "[encoded data removed]"
          },
          "metadata": {}
        }
      ]
    },
    {
      "cell_type": "code",
      "source": [
        "sns.catplot(x=\"Embarked\", hue=\"Survived\", kind=\"count\", data=train, palette=['C1', 'C0'], legend=False)\n",
        "plt.title('Survival by Port of Embarkation')\n",
        "plt.legend(title=\"Survived\", labels=[\"No\", \"Yes\"])\n",
        "plt.gca().set_xticklabels(['Southampton', 'Cherbourg', 'Queenstown'])\n",
        "plt.show()"
      ],
      "metadata": {
        "colab": {
          "base_uri": "https://localhost:8080/",
          "height": 381
        },
        "id": "MaS10bU70XX7",
        "outputId": "b3f3b589-b3f9-4414-d1fa-c4eaa9487b49"
      },
      "execution_count": 215,
      "outputs": [
        {
          "output_type": "display_data",
          "data": {
            "text/plain": [
              "<Figure size 360x360 with 1 Axes>"
            ],
            "image/png": "[encoded data removed]"
          },
          "metadata": {}
        }
      ]
    },
    {
      "cell_type": "markdown",
      "source": [
        "---\n",
        "\n",
        "T Test\n",
        "\n",
        "---\n",
        "The t-statistic and p-value produced by the t-test can be used to test whether there is a statistically significant difference in the mean survival rates between passengers who embarked at Cherbourg (C) and those who embarked at Southampton (S)."
      ],
      "metadata": {
        "id": "XxtGp-oc6xM_"
      }
    },
    {
      "cell_type": "code",
      "source": [
        "import numpy as np\n",
        "import scipy.stats as stats\n",
        "\n",
        "embarked_groups = [train[train['Embarked'] == e]['Survived'] for e in [0, 1, 2]]\n",
        "t_stat, p_val = stats.ttest_ind(embarked_groups[1], embarked_groups[0])\n",
        "print(f\"t-statistic: {t_stat:.2f}, p-value: {p_val:.3f}\")"
      ],
      "metadata": {
        "colab": {
          "base_uri": "https://localhost:8080/"
        },
        "id": "KtvJ4BOm6xwM",
        "outputId": "0f2828e9-0c51-4d30-a352-62e4859404f5"
      },
      "execution_count": 216,
      "outputs": [
        {
          "output_type": "stream",
          "name": "stdout",
          "text": [
            "t-statistic: 5.17, p-value: 0.000\n"
          ]
        }
      ]
    },
    {
      "cell_type": "markdown",
      "source": [
        "Result:\n",
        "```bash\n",
        "t-statistic: 5.17, p-value: 0.000\n",
        "```\n",
        "\n",
        "The t-statistic of 5.17 indicates that the difference between the means of the two groups is larger than what we would expect due to random chance alone. The p-value of 0.000 suggests that this difference is statistically significant, meaning that there is strong evidence to reject the null hypothesis (i.e., that there is no difference in means between the two groups) in favor of the alternative hypothesis (i.e., that there is a difference in means between the two groups).\n",
        "\n",
        "In this case, the positive t-statistic of 5.17 suggests that the mean survival rate for passengers who embarked at Cherbourg is higher than the mean survival rate for passengers who embarked at Southampton. The p-value of 0.000 indicates that the probability of observing such a large difference in means between the two groups, assuming that there is no difference in the population, is very low. Therefore, we can conclude that there is a statistically significant difference in survival rates between passengers who embarked at Southampton and those who embarked at Cherbourg.\n",
        ">SciPy is a scientific computation library for Python that uses NumPy for its array operations. It provides many efficient and user-friendly interfaces for tasks such as numerical integration, optimization, signal processing, linear algebra, and more. The library is built on top of the NumPy library and makes use of its fast array operations to implement many of its functions.\n",
        "In addition to its core functionality, SciPy also provides several sub-packages that extend its capabilities further. Some of the notable sub-packages include:\n",
        "- scipy.stats: for statistical analysis and probability distributions\n",
        "- scipy.optimize: for optimization algorithms\n",
        "- scipy.signal: for signal processing and Fourier transforms\n",
        "- scipy.linalg: for linear algebra operations\n",
        "Overall, SciPy is a powerful and versatile library that is widely used in scientific and engineering applications for numerical analysis and scientific computing in Python."
      ],
      "metadata": {
        "id": "vctm9q6K-d16"
      }
    },
    {
      "cell_type": "markdown",
      "source": [
        "# Machine Learning Model"
      ],
      "metadata": {
        "id": "YBkFXvJqIcrw"
      }
    },
    {
      "cell_type": "markdown",
      "source": [
        "For the Titanic dataset, which is a binary classification problem (predicting whether a passenger survived or not), some common machine learning models that can be used are:\n",
        "\n",
        "- Logistic Regression: This is a linear model that uses a sigmoid function to output a probability of the positive class (survived) and is one of the most common models for binary classification problems.\n",
        "\n",
        "- Decision Trees: This model splits the data into smaller groups based on features and can capture nonlinear relationships between features.\n",
        "\n",
        "- Random Forest: This is an ensemble model that combines multiple decision trees and can improve performance by reducing overfitting.\n",
        "\n",
        "- Support Vector Machines (SVMs): These models find the best boundary between different classes of data and can work well on small to medium-sized datasets.\n",
        "\n",
        "- Gradient Boosted Trees: This is an ensemble model that combines multiple decision trees and can iteratively improve the model's performance by focusing on the samples that were misclassified in the previous iteration.\n",
        "\n",
        "- Neural Networks: These models can learn complex relationships between features and have been shown to be effective in many different types of classification problems."
      ],
      "metadata": {
        "id": "aaGl_EmyIqgP"
      }
    },
    {
      "cell_type": "markdown",
      "source": [
        "---\n",
        "\n",
        "Logistic Regression\n",
        "\n",
        "---\n",
        "\n",
        "In statistics, the logistic model (or logit model, also called sigmoid function) is used to model the probability of a certain class or event existing such as pass/fail, win/lose, alive/dead or healthy/sick.\n",
        "\n",
        "Logistic regression doesn’t predict the continuous values. Logistic regression predicts whether something is True or False.\n",
        "\n",
        "When the probability is grater or equal than 0.5, binary value is 1, when the probability is less than 0.5, binary value is 0.\n",
        "\n",
        "Logistic regression looks similar to linear regression but matter in fact, it is not. Linear regression is a prediction algorithm. On the other hand, logistic regression is a classification algorithm. Linear regression algorithm was using least squares to fit the best line to the data but logistic regression cannot use that method. So, it needs another one. Logistic regression uses ‘maximum likelihood’ to fit the best line to the data.\n",
        ">Maximum Likelihood Estimation involves treating the problem as an optimization or search problem, where we seek a set of parameters that results in the best fit for the joint probability of the data sample (X).\n",
        "\n",
        "Logistic regression calculates the likelihood of one person’s being alive on Titanic dataset, and then another one, and then another one, after all calculations are over, model multiply all of those likelihoods, fits the S-shaped line to the data. Keeps calculating, until it finds the best S-shaped line.\n"
      ],
      "metadata": {
        "id": "6s-dLaZfcama"
      }
    },
    {
      "cell_type": "code",
      "source": [
        "from sklearn.linear_model import LogisticRegression"
      ],
      "metadata": {
        "id": "wGv5vVcveLK9"
      },
      "execution_count": 219,
      "outputs": []
    },
    {
      "cell_type": "markdown",
      "source": [
        "---\n",
        "\n",
        "Submission Competition\n",
        "\n",
        "---\n",
        "Define x (independent variables) and y (dependent variable) for Logistic regression by dropping the 'Survived' column for x and selecting the 'Survived' column for y."
      ],
      "metadata": {
        "id": "LRqFeV0VeNdu"
      }
    },
    {
      "cell_type": "code",
      "source": [
        "x_train = train.drop('Survived', axis = 1)\n",
        "y_train = train['Survived']"
      ],
      "metadata": {
        "id": "mlHAHcYnedht"
      },
      "execution_count": 270,
      "outputs": []
    },
    {
      "cell_type": "code",
      "source": [
        "log_reg = LogisticRegression(solver='liblinear')\n",
        "log_reg.fit(x_train, y_train)"
      ],
      "metadata": {
        "id": "b5WIK5MtemDf"
      },
      "execution_count": null,
      "outputs": []
    },
    {
      "cell_type": "code",
      "source": [
        "log_reg.score(x_train, y_train)"
      ],
      "metadata": {
        "colab": {
          "base_uri": "https://localhost:8080/"
        },
        "id": "MR_MudzqgJZe",
        "outputId": "44a9b1da-d7b1-4c64-92a3-4f646cae9f5f"
      },
      "execution_count": 240,
      "outputs": [
        {
          "output_type": "execute_result",
          "data": {
            "text/plain": [
              "0.8024691358024691"
            ]
          },
          "metadata": {},
          "execution_count": 240
        }
      ]
    },
    {
      "cell_type": "markdown",
      "source": [
        "---\n",
        "\n",
        "Confusion Matrix\n",
        "\n",
        "---\n",
        "A confusion matrix is a table that is often used to evaluate the performance of a binary classification model. It shows the number of true positives (TP), false positives (FP), true negatives (TN), and false negatives (FN) predicted by the model on a test dataset.\n",
        "\n",
        "True positives (TP): The model correctly predicted the positive class.\n",
        "False positives (FP): The model incorrectly predicted the positive class.\n",
        "True negatives (TN): The model correctly predicted the negative class.\n",
        "False negatives (FN): The model incorrectly predicted the negative class.\n",
        "Using these four values, we can calculate different performance metrics that give us an idea of how well the model is performing. Some common metrics that can be calculated from a confusion matrix are:\n",
        "\n",
        "Accuracy: The proportion of true results (both true positives and true negatives) among the total number of cases examined. It is calculated as (TP + TN) / (TP + TN + FP + FN).\n",
        "Precision: The proportion of true positive predictions among the total number of positive predictions made. It is calculated as TP / (TP + FP).\n",
        "Recall (or sensitivity): The proportion of true positive predictions among the total number of actual positive cases. It is calculated as TP / (TP + FN).\n",
        "Specificity: The proportion of true negative predictions among the total number of actual negative cases. It is calculated as TN / (TN + FP).\n",
        "F1 score: The harmonic mean of precision and recall. It is calculated as 2 * (precision * recall) / (precision + recall).\n",
        "The choice of which metric to use depends on the specific problem and the desired balance between precision and recall. For example, in a medical test for a life-threatening disease, high recall may be more important than high precision, because it is better to have false positives (healthy patients being treated unnecessarily) than false negatives (sick patients not being treated).\n",
        "\n",
        "cm = confusion_matrix(y_true, y_pred)\n",
        "\n",
        "First row represents the true negatives (TN) and false positives (FP), while the second row represents false negatives (FN) and true positives (TP).\n",
        "\n",
        "TN FP\n",
        "\n",
        "FN TP"
      ],
      "metadata": {
        "id": "zlVTvmpGi98a"
      }
    },
    {
      "cell_type": "code",
      "source": [
        "from sklearn.metrics import confusion_matrix\n",
        "\n",
        "# predict use x from train dataset and compare with true y\n",
        "y_pred_train_log = log_reg.predict(x_train)\n",
        "cm = confusion_matrix(y_train, y_pred_train_log)\n",
        "cm"
      ],
      "metadata": {
        "colab": {
          "base_uri": "https://localhost:8080/"
        },
        "id": "I_iwSgHojBZB",
        "outputId": "ccf55822-4cd7-4952-cd4b-9678cb639c8e"
      },
      "execution_count": 241,
      "outputs": [
        {
          "output_type": "execute_result",
          "data": {
            "text/plain": [
              "array([[476,  73],\n",
              "       [103, 239]])"
            ]
          },
          "metadata": {},
          "execution_count": 241
        }
      ]
    },
    {
      "cell_type": "markdown",
      "source": [
        "To convert a confusion matrix to a score, there are several metrics that can be used depending on the problem at hand. Here are some common metrics:\n",
        "\n",
        "- Accuracy: Accuracy measures the proportion of correct predictions out of the total number of predictions. It is calculated as (true positives + true negatives) / (true positives + true negatives + false positives + false negatives).\n",
        "\n",
        "- Precision: Precision measures the proportion of true positives out of the total number of positive predictions. It is calculated as true positives / (true positives + false positives).\n",
        "\n",
        "- Recall: Recall measures the proportion of true positives out of the total number of actual positive cases. It is calculated as true positives / (true positives + false negatives).\n",
        "\n",
        "- F1-score: F1-score is the harmonic mean of precision and recall. It is calculated as 2 * (precision * recall) / (precision + recall).\n",
        "\n",
        "- Mean Abosolute Error: Mean Absolute Error is a metric commonly used in regression tasks to measure the absolute differences between the predicted and actual values. It is calculated as the average of the absolute differences between the predicted and actual values. The formula for calculating mean absolute error (MAE) is:\n",
        ">- MAE = 1/n * ∑|y_pred - y_true|\n",
        ">- Where n is the number of observations, y_pred is the predicted value and y_true is the actual value. \n",
        ">-However, in the case of the Titanic dataset, which is a binary classification problem, it is not appropriate to use MAE as it is designed for continuous variables. Instead, you can use metrics like accuracy, precision, recall, F1 score, etc. to evaluate the performance of your model."
      ],
      "metadata": {
        "id": "m81iqi1bq0zc"
      }
    },
    {
      "cell_type": "code",
      "source": [
        "from sklearn.metrics import mean_absolute_error, accuracy_score, precision_score, recall_score, f1_score\n",
        "\n",
        "def score_metrics(y_true, y_pred):\n",
        "  # Calculate accuracy, precision, recall, and f1-score\n",
        "  accuracy = accuracy_score(y_true, y_pred)\n",
        "  precision = precision_score(y_true, y_pred)\n",
        "  recall = recall_score(y_true, y_pred)\n",
        "  f1 = f1_score(y_true, y_pred)\n",
        "  mae = mean_absolute_error(y_true, y_pred)\n",
        "  print(f'Accuracy:{accuracy:.3f}')\n",
        "  print(f'Precision: {precision:.3f}')\n",
        "  print(f'Recall: {recall:.3f}')\n",
        "  print(f'F1-score: {f1:.3f}')\n",
        "  print(f'Mean Absolute Error: {mae:.3f}')\n",
        "\n",
        "score_metrics(y_train, y_pred_train_log)"
      ],
      "metadata": {
        "colab": {
          "base_uri": "https://localhost:8080/"
        },
        "id": "1x0e31ptpuUy",
        "outputId": "59a0fb86-5552-413b-b0e6-559221e226be"
      },
      "execution_count": 242,
      "outputs": [
        {
          "output_type": "stream",
          "name": "stdout",
          "text": [
            "Accuracy:0.802\n",
            "Precision: 0.766\n",
            "Recall: 0.699\n",
            "F1-score: 0.731\n",
            "Mean Absolute Error: 0.198\n"
          ]
        }
      ]
    },
    {
      "cell_type": "code",
      "source": [
        "import numpy as np\n",
        "import scipy.stats as stats\n",
        "\n",
        "def summary_t_test(log_model, x, y, confidence_level=0.95):\n",
        "  alpha=1-confidence_level # default 0.05\n",
        "  sig_two_tailed=alpha/2   # default 0.025\n",
        "  coeffs = log_model.coef_.ravel()\n",
        "  std_errs = stats.t.ppf(1-sig_two_tailed, len(y)-x.shape[1]-1) * np.sqrt(np.diag(np.linalg.inv(x.T @ x)))\n",
        "  t_vals = coeffs / std_errs\n",
        "  p_vals = (1 - stats.t.cdf(abs(t_vals), len(y)-x.shape[1]-1)) * 2\n",
        "  for i in range(len(coeffs)):\n",
        "      isNotSig = \"*\" if p_vals[i] > sig_two_tailed  else \"\"\n",
        "      print(f'{x.columns[i]:20s}: coef={coeffs[i]:.3f} ({std_errs[i]:.3f}), t-value={t_vals[i]:.3f}, p-value={p_vals[i]:.3f} {isNotSig}')\n",
        "\n",
        "summary_t_test(log_reg, x_train, y_train, 0.95)"
      ],
      "metadata": {
        "id": "R7Z4LoPfpbHj",
        "colab": {
          "base_uri": "https://localhost:8080/"
        },
        "outputId": "f2e76442-e23f-4f67-fe80-a0147ad1b908"
      },
      "execution_count": 243,
      "outputs": [
        {
          "output_type": "stream",
          "name": "stdout",
          "text": [
            "Pclass              : coef=-0.945 (0.105), t-value=-9.016, p-value=0.000 \n",
            "Sex                 : coef=2.532 (0.148), t-value=17.082, p-value=0.000 \n",
            "Age                 : coef=-0.033 (0.006), t-value=-5.955, p-value=0.000 \n",
            "SibSp               : coef=-0.837 (0.400), t-value=-2.090, p-value=0.037 *\n",
            "Parch               : coef=-0.572 (0.405), t-value=-1.414, p-value=0.158 *\n",
            "Fare                : coef=0.003 (0.002), t-value=1.678, p-value=0.094 *\n",
            "Embarked            : coef=0.227 (0.106), t-value=2.139, p-value=0.033 *\n",
            "FamilySize          : coef=0.366 (0.380), t-value=0.964, p-value=0.335 *\n",
            "IsAlone             : coef=-0.631 (0.197), t-value=-3.197, p-value=0.001 \n"
          ]
        }
      ]
    },
    {
      "cell_type": "markdown",
      "source": [
        "Result:\n",
        "\n",
        "```bash\n",
        "Pclass              : coef=-0.945 (0.105), t-value=-9.016, p-value=0.000 \n",
        "Sex                 : coef=2.532 (0.148), t-value=17.082, p-value=0.000 \n",
        "Age                 : coef=-0.033 (0.006), t-value=-5.955, p-value=0.000 \n",
        "SibSp               : coef=-0.837 (0.400), t-value=-2.090, p-value=0.037 *\n",
        "Parch               : coef=-0.572 (0.405), t-value=-1.414, p-value=0.158 *\n",
        "Fare                : coef=0.003 (0.002), t-value=1.678, p-value=0.094 *\n",
        "Embarked            : coef=0.227 (0.106), t-value=2.139, p-value=0.033 *\n",
        "FamilySize          : coef=0.366 (0.380), t-value=0.964, p-value=0.335 *\n",
        "IsAlone             : coef=-0.631 (0.197), t-value=-3.197, p-value=0.001 \n",
        "```\n",
        "\n",
        "From result above SibSp, Parch, Fare, Embarked and FamilySize is not significant variables\n",
        "\n",
        "Below is alternative use statmodels"
      ],
      "metadata": {
        "id": "CdHAp2NFRsJy"
      }
    },
    {
      "cell_type": "code",
      "source": [
        "import statsmodels.api as sm\n",
        "\n",
        "logit_model = sm.Logit(y_train, sm.add_constant(x_train))\n",
        "result = logit_model.fit()\n",
        "print(result.summary())"
      ],
      "metadata": {
        "colab": {
          "base_uri": "https://localhost:8080/"
        },
        "id": "i7lONwMKb_L1",
        "outputId": "500d8adf-eaca-49dd-c7d3-6312edc68ee9"
      },
      "execution_count": 244,
      "outputs": [
        {
          "output_type": "stream",
          "name": "stdout",
          "text": [
            "Optimization terminated successfully.\n",
            "         Current function value: 0.436681\n",
            "         Iterations 25\n",
            "                           Logit Regression Results                           \n",
            "==============================================================================\n",
            "Dep. Variable:               Survived   No. Observations:                  891\n",
            "Model:                          Logit   Df Residuals:                      881\n",
            "Method:                           MLE   Df Model:                            9\n",
            "Date:                Thu, 02 Mar 2023   Pseudo R-squ.:                  0.3442\n",
            "Time:                        07:29:07   Log-Likelihood:                -389.08\n",
            "converged:                       True   LL-Null:                       -593.33\n",
            "Covariance Type:            nonrobust   LLR p-value:                 2.113e-82\n",
            "==============================================================================\n",
            "                 coef    std err          z      P>|z|      [0.025      0.975]\n",
            "------------------------------------------------------------------------------\n",
            "const          2.2510        nan        nan        nan         nan         nan\n",
            "Pclass        -1.0682      0.143     -7.468      0.000      -1.349      -0.788\n",
            "Sex            2.6383      0.200     13.168      0.000       2.246       3.031\n",
            "Age           -0.0390      0.008     -4.920      0.000      -0.054      -0.023\n",
            "SibSp         -1.0308        nan        nan        nan         nan         nan\n",
            "Parch         -0.7358        nan        nan        nan         nan         nan\n",
            "Fare           0.0017      0.002      0.747      0.455      -0.003       0.006\n",
            "Embarked       0.2243      0.142      1.577      0.115      -0.054       0.503\n",
            "FamilySize     0.4844        nan        nan        nan         nan         nan\n",
            "IsAlone       -0.7874      0.280     -2.815      0.005      -1.336      -0.239\n",
            "==============================================================================\n"
          ]
        },
        {
          "output_type": "stream",
          "name": "stderr",
          "text": [
            "/usr/local/lib/python3.8/dist-packages/statsmodels/tsa/tsatools.py:142: FutureWarning: In a future version of pandas all arguments of concat except for the argument 'objs' will be keyword-only\n",
            "  x = pd.concat(x[::order], 1)\n"
          ]
        }
      ]
    },
    {
      "cell_type": "code",
      "source": [
        "x_test = test.drop('PassengerId', axis=1)\n",
        "y_test_log = log_reg.predict(x_test)\n",
        "submission_log = pd.DataFrame({'PassengerId': test['PassengerId'], 'Survived': y_test_log})\n",
        "submission_log.to_csv('submission_log.csv', index=False)"
      ],
      "metadata": {
        "id": "6n-TpfXWEQ1A"
      },
      "execution_count": 245,
      "outputs": []
    },
    {
      "cell_type": "markdown",
      "source": [
        "Score: 0.76076\n",
        "\n",
        "A Kaggle score of 0.76076 for a logistic regression model is a decent score, but it's hard to determine its significance without knowing the context of the problem and the competition leaderboard. In general, a score above 0.5 means that the model is better than random guessing, but a score of 0.76 may or may not be competitive depending on the competition and the other models that have been submitted. It's always good to strive for higher scores and continually improve your model.\n",
        "\n",
        "Below is example of using only selected variables."
      ],
      "metadata": {
        "id": "qkALMtW2GDtS"
      }
    },
    {
      "cell_type": "code",
      "source": [
        "selected_vars = ['Pclass', 'Sex', 'Age', 'IsAlone']\n",
        "x_selected = train[selected_vars]\n",
        "log_reg2 = LogisticRegression(solver='liblinear')\n",
        "log_reg2.fit(x_selected, y_train)\n",
        "log_reg2.score(x_selected, y_train)"
      ],
      "metadata": {
        "id": "mZMK5HgPHCKF",
        "colab": {
          "base_uri": "https://localhost:8080/"
        },
        "outputId": "802c81b2-1758-4b6a-d140-4a681ddefcd9"
      },
      "execution_count": 249,
      "outputs": [
        {
          "output_type": "execute_result",
          "data": {
            "text/plain": [
              "0.7957351290684624"
            ]
          },
          "metadata": {},
          "execution_count": 249
        }
      ]
    },
    {
      "cell_type": "code",
      "source": [
        "y_pred_train_log2 = log_reg2.predict(x_selected)\n",
        "score_metrics(y_train, y_pred_train_log2)"
      ],
      "metadata": {
        "colab": {
          "base_uri": "https://localhost:8080/"
        },
        "id": "ZAlQaQPpO8UK",
        "outputId": "0f2889d0-fe08-4c1a-de4e-a447d1474eb6"
      },
      "execution_count": 252,
      "outputs": [
        {
          "output_type": "stream",
          "name": "stdout",
          "text": [
            "Accuracy:0.796\n",
            "Precision: 0.756\n",
            "Recall: 0.690\n",
            "F1-score: 0.722\n",
            "Mean Absolute Error: 0.204\n"
          ]
        }
      ]
    },
    {
      "cell_type": "code",
      "source": [
        "x_test_selected = test[selected_vars]\n",
        "y_test_log2 = log_reg2.predict(x_test_selected)\n",
        "submission_log2 = pd.DataFrame({'PassengerId': test['PassengerId'], 'Survived': y_test_log2})\n",
        "submission_log2.to_csv('submission_log2.csv', index=False)"
      ],
      "metadata": {
        "id": "57qzjpCDNyRT"
      },
      "execution_count": 253,
      "outputs": []
    },
    {
      "cell_type": "markdown",
      "source": [
        "Score: 0.76076"
      ],
      "metadata": {
        "id": "tk5rDRaJH4tz"
      }
    },
    {
      "cell_type": "markdown",
      "source": [
        "---\n",
        "\n",
        "Random Forest\n",
        "\n",
        "---\n",
        "Random Forest is a supervised learning algorithm used for classification, regression and other tasks. It is an ensemble method that combines multiple decision trees together to make a more accurate prediction.\n",
        "\n",
        "A decision tree is a model that learns to predict the target variable by splitting the input features into a hierarchical structure of binary decisions based on a set of rules. The Random Forest algorithm creates multiple decision trees and aggregates their predictions to produce the final prediction. The random forest algorithm introduces randomness by selecting random subsets of the features and the data samples to train each decision tree. This randomness helps to reduce overfitting and improves the generalization of the model.\n",
        "\n",
        "In summary, Random Forest is a powerful algorithm that can handle a wide range of problems, is easy to use, and provides high accuracy. It is widely used in various applications such as image classification, bioinformatics, financial analysis, and more."
      ],
      "metadata": {
        "id": "wUsZq4qQX66y"
      }
    },
    {
      "cell_type": "code",
      "source": [
        "from sklearn.ensemble import RandomForestClassifier\n",
        "\n",
        "rf = RandomForestClassifier(n_estimators=100, max_depth=5, random_state=42)\n",
        "rf.fit(x_train, y_train)\n",
        "rf.score(x_train, y_train)"
      ],
      "metadata": {
        "colab": {
          "base_uri": "https://localhost:8080/"
        },
        "id": "PHrdwLZJyWec",
        "outputId": "efd515cc-bf2e-4cb6-c43b-425032d09ac4"
      },
      "execution_count": 283,
      "outputs": [
        {
          "output_type": "execute_result",
          "data": {
            "text/plain": [
              "0.8507295173961841"
            ]
          },
          "metadata": {},
          "execution_count": 283
        }
      ]
    },
    {
      "cell_type": "code",
      "source": [
        "y_pred_train_rf = rf.predict(x_train)\n",
        "score_metrics(y_train, y_pred_train_rf)"
      ],
      "metadata": {
        "colab": {
          "base_uri": "https://localhost:8080/"
        },
        "id": "UgU9cPjgy_6o",
        "outputId": "eb61ca84-92b1-48fb-87a9-fc8499495704"
      },
      "execution_count": 257,
      "outputs": [
        {
          "output_type": "stream",
          "name": "stdout",
          "text": [
            "Accuracy:0.851\n",
            "Precision: 0.877\n",
            "Recall: 0.711\n",
            "F1-score: 0.785\n",
            "Mean Absolute Error: 0.149\n"
          ]
        }
      ]
    },
    {
      "cell_type": "code",
      "source": [
        "y_test_rf = rf.predict(x_test)\n",
        "submission_rf = pd.DataFrame({'PassengerId': test['PassengerId'], 'Survived': y_test_rf})\n",
        "submission_rf.to_csv('submission_rf.csv', index=False)"
      ],
      "metadata": {
        "id": "Aft2T8-WTTsa"
      },
      "execution_count": 284,
      "outputs": []
    },
    {
      "cell_type": "markdown",
      "source": [
        "Score: 0.78229"
      ],
      "metadata": {
        "id": "GZDrFqY8Twec"
      }
    },
    {
      "cell_type": "markdown",
      "source": [
        "To improve the score of a RandomForestClassifier, you can try the following methods:\n",
        "\n",
        "- Increase the number of estimators: Increasing the number of decision trees in the forest (n_estimators) can improve the performance of the model. However, there may be a trade-off between the number of estimators and the training time.\n",
        "- Adjust the maximum depth of the trees: The maximum depth of each decision tree in the forest can be adjusted to control overfitting. Increasing the maximum depth can allow the model to capture more complex relationships in the data, but may also lead to overfitting.\n",
        "- Tune hyperparameters: The RandomForestClassifier has several hyperparameters that can be tuned to improve the performance of the model. Grid search or random search can be used to find the optimal combination of hyperparameters.\n",
        "- Feature engineering: Feature engineering can help to create more informative features that can improve the performance of the model. For example, combining or transforming existing features, or adding new features that capture important information.\n",
        "- Ensemble methods: You can also try to combine multiple models together using ensemble methods, such as bagging or boosting. This can help to improve the performance of the model by reducing overfitting or increasing the accuracy of predictions."
      ],
      "metadata": {
        "id": "Q7UrrvIY00yU"
      }
    },
    {
      "cell_type": "markdown",
      "source": [
        "---\n",
        "\n",
        " k-Nearest Neighbors (KNN) algorithm \n",
        "\n",
        "---"
      ],
      "metadata": {
        "id": "3UYnXS2pFz3L"
      }
    },
    {
      "cell_type": "code",
      "source": [
        "from sklearn.neighbors import KNeighborsClassifier\n",
        "from sklearn.preprocessing import StandardScaler\n",
        "\n",
        "scaler = StandardScaler()\n",
        "x_train_scaled = scaler.fit_transform(x_train)\n",
        "x_test_scaled = scaler.transform(x_test)\n",
        "knn = KNeighborsClassifier(n_neighbors=5)\n",
        "\n",
        "knn.fit(x_train_scaled, y_train)"
      ],
      "metadata": {
        "colab": {
          "base_uri": "https://localhost:8080/"
        },
        "id": "oTALVODXGSeO",
        "outputId": "9eacfec3-0689-470a-d053-ac8f2549f892"
      },
      "execution_count": 271,
      "outputs": [
        {
          "output_type": "execute_result",
          "data": {
            "text/plain": [
              "KNeighborsClassifier()"
            ]
          },
          "metadata": {},
          "execution_count": 271
        }
      ]
    },
    {
      "cell_type": "code",
      "source": [
        "y_test_knn = knn.predict(x_test_scaled)\n",
        "submission_knn = pd.DataFrame({'PassengerId': test['PassengerId'], 'Survived': y_test_knn})\n",
        "submission_knn.to_csv('submission_knn.csv', index=False)"
      ],
      "metadata": {
        "id": "5WQ5JzOwGQks"
      },
      "execution_count": 272,
      "outputs": []
    },
    {
      "cell_type": "markdown",
      "source": [
        "Score: 0.72488"
      ],
      "metadata": {
        "id": "cifhGfYmGycp"
      }
    },
    {
      "cell_type": "markdown",
      "source": [
        "---\n",
        "\n",
        "Artificial Neural Network\n",
        "\n",
        "---"
      ],
      "metadata": {
        "id": "flqm8zcy5Jyt"
      }
    },
    {
      "cell_type": "code",
      "source": [
        "import tensorflow as tf\n",
        "from tensorflow import keras\n",
        "from sklearn.model_selection import train_test_split\n",
        "from sklearn.preprocessing import StandardScaler\n",
        "\n",
        "scaler = StandardScaler()\n",
        "x_train_scaled = scaler.fit_transform(x_train)\n",
        "x_test_scaled = scaler.transform(x_test)\n",
        "\n",
        "# Split the data into training and validation sets\n",
        "x_train_scaled, x_val, y_train_scaled, y_val = train_test_split(x_train_scaled, y_train, test_size=0.2, random_state=42)\n",
        "\n",
        "# Define the ANN architecture\n",
        "model_ann = keras.Sequential([\n",
        "    keras.layers.Dense(32, activation='relu', input_shape=(x_train_scaled.shape[1],)),\n",
        "    keras.layers.Dropout(0.5),\n",
        "    keras.layers.Dense(16, activation='relu'),\n",
        "    keras.layers.Dropout(0.5),\n",
        "    keras.layers.Dense(1, activation='sigmoid')\n",
        "])\n",
        "\n",
        "# Compile the model\n",
        "model_ann.compile(optimizer='adam', loss='binary_crossentropy', metrics=['accuracy'])\n",
        "\n",
        "# Train the model\n",
        "history = model_ann.fit(x_train_scaled, y_train_scaled, validation_data=(x_val, y_val), epochs=50, batch_size=32)"
      ],
      "metadata": {
        "colab": {
          "base_uri": "https://localhost:8080/"
        },
        "id": "rFz7v_zY5SoG",
        "outputId": "644d3f2b-7b9c-416c-db5c-bc6ff176fc91"
      },
      "execution_count": 273,
      "outputs": [
        {
          "output_type": "stream",
          "name": "stdout",
          "text": [
            "Epoch 1/50\n",
            "23/23 [==============================] - 1s 14ms/step - loss: 0.7855 - accuracy: 0.5197 - val_loss: 0.6854 - val_accuracy: 0.5922\n",
            "Epoch 2/50\n",
            "23/23 [==============================] - 0s 4ms/step - loss: 0.7500 - accuracy: 0.5351 - val_loss: 0.6522 - val_accuracy: 0.6145\n",
            "Epoch 3/50\n",
            "23/23 [==============================] - 0s 4ms/step - loss: 0.6840 - accuracy: 0.6124 - val_loss: 0.6304 - val_accuracy: 0.6480\n",
            "Epoch 4/50\n",
            "23/23 [==============================] - 0s 4ms/step - loss: 0.6592 - accuracy: 0.6152 - val_loss: 0.6116 - val_accuracy: 0.6872\n",
            "Epoch 5/50\n",
            "23/23 [==============================] - 0s 4ms/step - loss: 0.6573 - accuracy: 0.6390 - val_loss: 0.5953 - val_accuracy: 0.7095\n",
            "Epoch 6/50\n",
            "23/23 [==============================] - 0s 4ms/step - loss: 0.6242 - accuracy: 0.6447 - val_loss: 0.5785 - val_accuracy: 0.7318\n",
            "Epoch 7/50\n",
            "23/23 [==============================] - 0s 4ms/step - loss: 0.5993 - accuracy: 0.7079 - val_loss: 0.5592 - val_accuracy: 0.7542\n",
            "Epoch 8/50\n",
            "23/23 [==============================] - 0s 4ms/step - loss: 0.5799 - accuracy: 0.7177 - val_loss: 0.5399 - val_accuracy: 0.7765\n",
            "Epoch 9/50\n",
            "23/23 [==============================] - 0s 5ms/step - loss: 0.5832 - accuracy: 0.7107 - val_loss: 0.5269 - val_accuracy: 0.8324\n",
            "Epoch 10/50\n",
            "23/23 [==============================] - 0s 4ms/step - loss: 0.5764 - accuracy: 0.7022 - val_loss: 0.5133 - val_accuracy: 0.8324\n",
            "Epoch 11/50\n",
            "23/23 [==============================] - 0s 6ms/step - loss: 0.5572 - accuracy: 0.7163 - val_loss: 0.5006 - val_accuracy: 0.8324\n",
            "Epoch 12/50\n",
            "23/23 [==============================] - 0s 4ms/step - loss: 0.5603 - accuracy: 0.7303 - val_loss: 0.4918 - val_accuracy: 0.8268\n",
            "Epoch 13/50\n",
            "23/23 [==============================] - 0s 4ms/step - loss: 0.5331 - accuracy: 0.7500 - val_loss: 0.4822 - val_accuracy: 0.8156\n",
            "Epoch 14/50\n",
            "23/23 [==============================] - 0s 3ms/step - loss: 0.5350 - accuracy: 0.7346 - val_loss: 0.4731 - val_accuracy: 0.8101\n",
            "Epoch 15/50\n",
            "23/23 [==============================] - 0s 3ms/step - loss: 0.5154 - accuracy: 0.7584 - val_loss: 0.4632 - val_accuracy: 0.8101\n",
            "Epoch 16/50\n",
            "23/23 [==============================] - 0s 3ms/step - loss: 0.5348 - accuracy: 0.7584 - val_loss: 0.4623 - val_accuracy: 0.8101\n",
            "Epoch 17/50\n",
            "23/23 [==============================] - 0s 3ms/step - loss: 0.5278 - accuracy: 0.7556 - val_loss: 0.4592 - val_accuracy: 0.8101\n",
            "Epoch 18/50\n",
            "23/23 [==============================] - 0s 3ms/step - loss: 0.5098 - accuracy: 0.7669 - val_loss: 0.4571 - val_accuracy: 0.8101\n",
            "Epoch 19/50\n",
            "23/23 [==============================] - 0s 3ms/step - loss: 0.5082 - accuracy: 0.7654 - val_loss: 0.4540 - val_accuracy: 0.8101\n",
            "Epoch 20/50\n",
            "23/23 [==============================] - 0s 4ms/step - loss: 0.5398 - accuracy: 0.7570 - val_loss: 0.4519 - val_accuracy: 0.8101\n",
            "Epoch 21/50\n",
            "23/23 [==============================] - 0s 3ms/step - loss: 0.5179 - accuracy: 0.7640 - val_loss: 0.4546 - val_accuracy: 0.8101\n",
            "Epoch 22/50\n",
            "23/23 [==============================] - 0s 3ms/step - loss: 0.5386 - accuracy: 0.7472 - val_loss: 0.4559 - val_accuracy: 0.8101\n",
            "Epoch 23/50\n",
            "23/23 [==============================] - 0s 4ms/step - loss: 0.5041 - accuracy: 0.7851 - val_loss: 0.4535 - val_accuracy: 0.8156\n",
            "Epoch 24/50\n",
            "23/23 [==============================] - 0s 3ms/step - loss: 0.5259 - accuracy: 0.7753 - val_loss: 0.4520 - val_accuracy: 0.8101\n",
            "Epoch 25/50\n",
            "23/23 [==============================] - 0s 3ms/step - loss: 0.5079 - accuracy: 0.7781 - val_loss: 0.4518 - val_accuracy: 0.8101\n",
            "Epoch 26/50\n",
            "23/23 [==============================] - 0s 3ms/step - loss: 0.5162 - accuracy: 0.7725 - val_loss: 0.4506 - val_accuracy: 0.8101\n",
            "Epoch 27/50\n",
            "23/23 [==============================] - 0s 3ms/step - loss: 0.4987 - accuracy: 0.7767 - val_loss: 0.4501 - val_accuracy: 0.8101\n",
            "Epoch 28/50\n",
            "23/23 [==============================] - 0s 4ms/step - loss: 0.4981 - accuracy: 0.7809 - val_loss: 0.4495 - val_accuracy: 0.8101\n",
            "Epoch 29/50\n",
            "23/23 [==============================] - 0s 3ms/step - loss: 0.5214 - accuracy: 0.7654 - val_loss: 0.4491 - val_accuracy: 0.8101\n",
            "Epoch 30/50\n",
            "23/23 [==============================] - 0s 3ms/step - loss: 0.4940 - accuracy: 0.7837 - val_loss: 0.4440 - val_accuracy: 0.8101\n",
            "Epoch 31/50\n",
            "23/23 [==============================] - 0s 4ms/step - loss: 0.4782 - accuracy: 0.7823 - val_loss: 0.4402 - val_accuracy: 0.8101\n",
            "Epoch 32/50\n",
            "23/23 [==============================] - 0s 3ms/step - loss: 0.5004 - accuracy: 0.7767 - val_loss: 0.4387 - val_accuracy: 0.8101\n",
            "Epoch 33/50\n",
            "23/23 [==============================] - 0s 4ms/step - loss: 0.5014 - accuracy: 0.7739 - val_loss: 0.4396 - val_accuracy: 0.8101\n",
            "Epoch 34/50\n",
            "23/23 [==============================] - 0s 3ms/step - loss: 0.4735 - accuracy: 0.7907 - val_loss: 0.4378 - val_accuracy: 0.8101\n",
            "Epoch 35/50\n",
            "23/23 [==============================] - 0s 3ms/step - loss: 0.4806 - accuracy: 0.7907 - val_loss: 0.4377 - val_accuracy: 0.8101\n",
            "Epoch 36/50\n",
            "23/23 [==============================] - 0s 4ms/step - loss: 0.4807 - accuracy: 0.7907 - val_loss: 0.4349 - val_accuracy: 0.8101\n",
            "Epoch 37/50\n",
            "23/23 [==============================] - 0s 3ms/step - loss: 0.5037 - accuracy: 0.7935 - val_loss: 0.4352 - val_accuracy: 0.8101\n",
            "Epoch 38/50\n",
            "23/23 [==============================] - 0s 3ms/step - loss: 0.4778 - accuracy: 0.8034 - val_loss: 0.4333 - val_accuracy: 0.8101\n",
            "Epoch 39/50\n",
            "23/23 [==============================] - 0s 3ms/step - loss: 0.4937 - accuracy: 0.8020 - val_loss: 0.4341 - val_accuracy: 0.8101\n",
            "Epoch 40/50\n",
            "23/23 [==============================] - 0s 3ms/step - loss: 0.5171 - accuracy: 0.7654 - val_loss: 0.4350 - val_accuracy: 0.8101\n",
            "Epoch 41/50\n",
            "23/23 [==============================] - 0s 3ms/step - loss: 0.4936 - accuracy: 0.7809 - val_loss: 0.4371 - val_accuracy: 0.8101\n",
            "Epoch 42/50\n",
            "23/23 [==============================] - 0s 3ms/step - loss: 0.4870 - accuracy: 0.7921 - val_loss: 0.4380 - val_accuracy: 0.8101\n",
            "Epoch 43/50\n",
            "23/23 [==============================] - 0s 3ms/step - loss: 0.4751 - accuracy: 0.7781 - val_loss: 0.4373 - val_accuracy: 0.8101\n",
            "Epoch 44/50\n",
            "23/23 [==============================] - 0s 3ms/step - loss: 0.4642 - accuracy: 0.8020 - val_loss: 0.4381 - val_accuracy: 0.8101\n",
            "Epoch 45/50\n",
            "23/23 [==============================] - 0s 3ms/step - loss: 0.4673 - accuracy: 0.8076 - val_loss: 0.4367 - val_accuracy: 0.8101\n",
            "Epoch 46/50\n",
            "23/23 [==============================] - 0s 4ms/step - loss: 0.4771 - accuracy: 0.7949 - val_loss: 0.4350 - val_accuracy: 0.8101\n",
            "Epoch 47/50\n",
            "23/23 [==============================] - 0s 3ms/step - loss: 0.4794 - accuracy: 0.7949 - val_loss: 0.4324 - val_accuracy: 0.8101\n",
            "Epoch 48/50\n",
            "23/23 [==============================] - 0s 3ms/step - loss: 0.4787 - accuracy: 0.7837 - val_loss: 0.4317 - val_accuracy: 0.8101\n",
            "Epoch 49/50\n",
            "23/23 [==============================] - 0s 4ms/step - loss: 0.4908 - accuracy: 0.8020 - val_loss: 0.4318 - val_accuracy: 0.8101\n",
            "Epoch 50/50\n",
            "23/23 [==============================] - 0s 3ms/step - loss: 0.4799 - accuracy: 0.7935 - val_loss: 0.4323 - val_accuracy: 0.8101\n"
          ]
        }
      ]
    },
    {
      "cell_type": "code",
      "source": [
        "# Predict the test set\n",
        "y_test_ann = model_ann.predict(x_test_scaled)\n",
        "y_test_ann = y_test_ann.flatten().round().astype(int)\n",
        "submission_ann = pd.DataFrame({'PassengerId': test['PassengerId'], 'Survived': y_test_ann})\n",
        "submission_ann.to_csv('submission_ann.csv', index=False)"
      ],
      "metadata": {
        "colab": {
          "base_uri": "https://localhost:8080/"
        },
        "id": "xQpJnFx77Ju9",
        "outputId": "a20e50a2-0c09-4df1-b312-cee137dbe1ad"
      },
      "execution_count": 274,
      "outputs": [
        {
          "output_type": "stream",
          "name": "stdout",
          "text": [
            "14/14 [==============================] - 0s 1ms/step\n"
          ]
        }
      ]
    },
    {
      "cell_type": "markdown",
      "source": [
        "Score: 0.7799\n",
        "\n",
        "If your ANN model only has a score of 0.7799, it may indicate that the model is not complex enough to capture the underlying patterns in the data. There are several things you can try to improve the performance of your ANN model:\n",
        "\n",
        "- Increase the number of layers in your model: Adding more layers can help the model capture more complex patterns in the data.\n",
        "\n",
        "- Increase the number of neurons in each layer: Adding more neurons can also help the model capture more complex patterns.\n",
        "\n",
        "- Adjust the learning rate: The learning rate controls how quickly the model learns from the data. If the learning rate is too high, the model may overshoot the optimal solution, while if the learning rate is too low, the model may take too long to converge.\n",
        "\n",
        "- Use a different optimizer: The optimizer controls how the model updates its parameters during training. Different optimizers may work better for different types of problems.\n",
        "\n",
        "- Try different activation functions: The activation function determines how the output of each neuron is calculated. Different activation functions may work better for different types of problems.\n",
        "\n",
        "- Use regularization techniques: Regularization techniques, such as dropout or L2 regularization, can help prevent overfitting and improve the generalization performance of the model.\n",
        "\n",
        "- Use a different model architecture: If the ANN model does not work well, you can try other models, such as decision trees, support vector machines, or gradient boosting."
      ],
      "metadata": {
        "id": "uzO2NOoB9n60"
      }
    },
    {
      "cell_type": "code",
      "source": [
        "from keras.optimizers import Adam\n",
        "\n",
        "model_ann2 = keras.Sequential([\n",
        "    keras.layers.Dense(128, activation='relu', input_shape=(x_train.shape[1],)),\n",
        "    keras.layers.Dropout(0.5),\n",
        "    keras.layers.Dense(64, activation='relu'),\n",
        "    keras.layers.Dropout(0.5),\n",
        "    keras.layers.Dense(32, activation='relu'),\n",
        "    keras.layers.Dropout(0.5),\n",
        "    keras.layers.Dense(16, activation='relu'),\n",
        "    keras.layers.Dropout(0.5),\n",
        "    keras.layers.Dense(1, activation='sigmoid')\n",
        "])\n",
        "\n",
        "model_ann2.compile(optimizer=Adam(learning_rate=0.001), loss='binary_crossentropy', metrics=['accuracy'])\n",
        "\n",
        "# Train the model\n",
        "history_2 = model_ann2.fit(x_train_scaled, y_train_scaled, validation_data=(x_val, y_val), epochs=50, batch_size=32)\n",
        "y_test_ann2 = model_ann2.predict(x_test_scaled)\n",
        "y_test_ann2 = y_test_ann2.flatten().round().astype(int)\n",
        "submission_ann2 = pd.DataFrame({'PassengerId': test['PassengerId'], 'Survived': y_test_ann2})\n",
        "submission_ann2.to_csv('submission_ann2.csv', index=False)\n"
      ],
      "metadata": {
        "colab": {
          "base_uri": "https://localhost:8080/"
        },
        "id": "dE6aFGV9A2Hv",
        "outputId": "07ba612a-c015-4e70-b058-05cc83aa33af"
      },
      "execution_count": 276,
      "outputs": [
        {
          "output_type": "stream",
          "name": "stdout",
          "text": [
            "Epoch 1/50\n",
            "23/23 [==============================] - 2s 17ms/step - loss: 0.7139 - accuracy: 0.5463 - val_loss: 0.6780 - val_accuracy: 0.5866\n",
            "Epoch 2/50\n",
            "23/23 [==============================] - 0s 6ms/step - loss: 0.6901 - accuracy: 0.5885 - val_loss: 0.6560 - val_accuracy: 0.5866\n",
            "Epoch 3/50\n",
            "23/23 [==============================] - 0s 5ms/step - loss: 0.6614 - accuracy: 0.5885 - val_loss: 0.6381 - val_accuracy: 0.5810\n",
            "Epoch 4/50\n",
            "23/23 [==============================] - 0s 6ms/step - loss: 0.6480 - accuracy: 0.6348 - val_loss: 0.6082 - val_accuracy: 0.5922\n",
            "Epoch 5/50\n",
            "23/23 [==============================] - 0s 9ms/step - loss: 0.6515 - accuracy: 0.6208 - val_loss: 0.5938 - val_accuracy: 0.6313\n",
            "Epoch 6/50\n",
            "23/23 [==============================] - 0s 5ms/step - loss: 0.6091 - accuracy: 0.6503 - val_loss: 0.5745 - val_accuracy: 0.6872\n",
            "Epoch 7/50\n",
            "23/23 [==============================] - 0s 4ms/step - loss: 0.6159 - accuracy: 0.6531 - val_loss: 0.5613 - val_accuracy: 0.8212\n",
            "Epoch 8/50\n",
            "23/23 [==============================] - 0s 3ms/step - loss: 0.5967 - accuracy: 0.6419 - val_loss: 0.5448 - val_accuracy: 0.8045\n",
            "Epoch 9/50\n",
            "23/23 [==============================] - 0s 4ms/step - loss: 0.5880 - accuracy: 0.6713 - val_loss: 0.5380 - val_accuracy: 0.8101\n",
            "Epoch 10/50\n",
            "23/23 [==============================] - 0s 3ms/step - loss: 0.5980 - accuracy: 0.6882 - val_loss: 0.5286 - val_accuracy: 0.8101\n",
            "Epoch 11/50\n",
            "23/23 [==============================] - 0s 4ms/step - loss: 0.5646 - accuracy: 0.7008 - val_loss: 0.5200 - val_accuracy: 0.8045\n",
            "Epoch 12/50\n",
            "23/23 [==============================] - 0s 4ms/step - loss: 0.5736 - accuracy: 0.7135 - val_loss: 0.5044 - val_accuracy: 0.8045\n",
            "Epoch 13/50\n",
            "23/23 [==============================] - 0s 4ms/step - loss: 0.5629 - accuracy: 0.7205 - val_loss: 0.5008 - val_accuracy: 0.8045\n",
            "Epoch 14/50\n",
            "23/23 [==============================] - 0s 4ms/step - loss: 0.5771 - accuracy: 0.7261 - val_loss: 0.4960 - val_accuracy: 0.8045\n",
            "Epoch 15/50\n",
            "23/23 [==============================] - 0s 7ms/step - loss: 0.5625 - accuracy: 0.7374 - val_loss: 0.4910 - val_accuracy: 0.8045\n",
            "Epoch 16/50\n",
            "23/23 [==============================] - 0s 5ms/step - loss: 0.5441 - accuracy: 0.7346 - val_loss: 0.4732 - val_accuracy: 0.8045\n",
            "Epoch 17/50\n",
            "23/23 [==============================] - 0s 5ms/step - loss: 0.5278 - accuracy: 0.7739 - val_loss: 0.4656 - val_accuracy: 0.8045\n",
            "Epoch 18/50\n",
            "23/23 [==============================] - 0s 5ms/step - loss: 0.5273 - accuracy: 0.7669 - val_loss: 0.4549 - val_accuracy: 0.8045\n",
            "Epoch 19/50\n",
            "23/23 [==============================] - 0s 5ms/step - loss: 0.5377 - accuracy: 0.7654 - val_loss: 0.4536 - val_accuracy: 0.8045\n",
            "Epoch 20/50\n",
            "23/23 [==============================] - 0s 5ms/step - loss: 0.5330 - accuracy: 0.7753 - val_loss: 0.4526 - val_accuracy: 0.8045\n",
            "Epoch 21/50\n",
            "23/23 [==============================] - 0s 5ms/step - loss: 0.5133 - accuracy: 0.7809 - val_loss: 0.4490 - val_accuracy: 0.8045\n",
            "Epoch 22/50\n",
            "23/23 [==============================] - 0s 5ms/step - loss: 0.4989 - accuracy: 0.7893 - val_loss: 0.4434 - val_accuracy: 0.8101\n",
            "Epoch 23/50\n",
            "23/23 [==============================] - 0s 5ms/step - loss: 0.4842 - accuracy: 0.7992 - val_loss: 0.4336 - val_accuracy: 0.8045\n",
            "Epoch 24/50\n",
            "23/23 [==============================] - 0s 5ms/step - loss: 0.5337 - accuracy: 0.7879 - val_loss: 0.4362 - val_accuracy: 0.8101\n",
            "Epoch 25/50\n",
            "23/23 [==============================] - 0s 5ms/step - loss: 0.4848 - accuracy: 0.7963 - val_loss: 0.4382 - val_accuracy: 0.8101\n",
            "Epoch 26/50\n",
            "23/23 [==============================] - 0s 5ms/step - loss: 0.4832 - accuracy: 0.7935 - val_loss: 0.4357 - val_accuracy: 0.8045\n",
            "Epoch 27/50\n",
            "23/23 [==============================] - 0s 4ms/step - loss: 0.5223 - accuracy: 0.7767 - val_loss: 0.4361 - val_accuracy: 0.8101\n",
            "Epoch 28/50\n",
            "23/23 [==============================] - 0s 5ms/step - loss: 0.5188 - accuracy: 0.7851 - val_loss: 0.4408 - val_accuracy: 0.8045\n",
            "Epoch 29/50\n",
            "23/23 [==============================] - 0s 4ms/step - loss: 0.4817 - accuracy: 0.7992 - val_loss: 0.4366 - val_accuracy: 0.8045\n",
            "Epoch 30/50\n",
            "23/23 [==============================] - 0s 4ms/step - loss: 0.4866 - accuracy: 0.7935 - val_loss: 0.4299 - val_accuracy: 0.8101\n",
            "Epoch 31/50\n",
            "23/23 [==============================] - 0s 4ms/step - loss: 0.4843 - accuracy: 0.7949 - val_loss: 0.4284 - val_accuracy: 0.8101\n",
            "Epoch 32/50\n",
            "23/23 [==============================] - 0s 4ms/step - loss: 0.4765 - accuracy: 0.8118 - val_loss: 0.4291 - val_accuracy: 0.8045\n",
            "Epoch 33/50\n",
            "23/23 [==============================] - 0s 6ms/step - loss: 0.4646 - accuracy: 0.8174 - val_loss: 0.4311 - val_accuracy: 0.8045\n",
            "Epoch 34/50\n",
            "23/23 [==============================] - 0s 4ms/step - loss: 0.4936 - accuracy: 0.7907 - val_loss: 0.4289 - val_accuracy: 0.8212\n",
            "Epoch 35/50\n",
            "23/23 [==============================] - 0s 5ms/step - loss: 0.4781 - accuracy: 0.8104 - val_loss: 0.4290 - val_accuracy: 0.8156\n",
            "Epoch 36/50\n",
            "23/23 [==============================] - 0s 5ms/step - loss: 0.4748 - accuracy: 0.8062 - val_loss: 0.4271 - val_accuracy: 0.8156\n",
            "Epoch 37/50\n",
            "23/23 [==============================] - 0s 5ms/step - loss: 0.4754 - accuracy: 0.8104 - val_loss: 0.4270 - val_accuracy: 0.8101\n",
            "Epoch 38/50\n",
            "23/23 [==============================] - 0s 5ms/step - loss: 0.4777 - accuracy: 0.8315 - val_loss: 0.4326 - val_accuracy: 0.8212\n",
            "Epoch 39/50\n",
            "23/23 [==============================] - 0s 4ms/step - loss: 0.5016 - accuracy: 0.8104 - val_loss: 0.4332 - val_accuracy: 0.8212\n",
            "Epoch 40/50\n",
            "23/23 [==============================] - 0s 4ms/step - loss: 0.4947 - accuracy: 0.8132 - val_loss: 0.4329 - val_accuracy: 0.8156\n",
            "Epoch 41/50\n",
            "23/23 [==============================] - 0s 4ms/step - loss: 0.4664 - accuracy: 0.8132 - val_loss: 0.4319 - val_accuracy: 0.8156\n",
            "Epoch 42/50\n",
            "23/23 [==============================] - 0s 4ms/step - loss: 0.4763 - accuracy: 0.8090 - val_loss: 0.4353 - val_accuracy: 0.8156\n",
            "Epoch 43/50\n",
            "23/23 [==============================] - 0s 3ms/step - loss: 0.4519 - accuracy: 0.8160 - val_loss: 0.4331 - val_accuracy: 0.8268\n",
            "Epoch 44/50\n",
            "23/23 [==============================] - 0s 3ms/step - loss: 0.4613 - accuracy: 0.8244 - val_loss: 0.4329 - val_accuracy: 0.8268\n",
            "Epoch 45/50\n",
            "23/23 [==============================] - 0s 4ms/step - loss: 0.4482 - accuracy: 0.8146 - val_loss: 0.4337 - val_accuracy: 0.8212\n",
            "Epoch 46/50\n",
            "23/23 [==============================] - 0s 4ms/step - loss: 0.4693 - accuracy: 0.8216 - val_loss: 0.4346 - val_accuracy: 0.8212\n",
            "Epoch 47/50\n",
            "23/23 [==============================] - 0s 4ms/step - loss: 0.4725 - accuracy: 0.8132 - val_loss: 0.4398 - val_accuracy: 0.8212\n",
            "Epoch 48/50\n",
            "23/23 [==============================] - 0s 3ms/step - loss: 0.4621 - accuracy: 0.8104 - val_loss: 0.4382 - val_accuracy: 0.8212\n",
            "Epoch 49/50\n",
            "23/23 [==============================] - 0s 3ms/step - loss: 0.4504 - accuracy: 0.8174 - val_loss: 0.4327 - val_accuracy: 0.8268\n",
            "Epoch 50/50\n",
            "23/23 [==============================] - 0s 3ms/step - loss: 0.4723 - accuracy: 0.8258 - val_loss: 0.4295 - val_accuracy: 0.8268\n",
            "14/14 [==============================] - 0s 2ms/step\n"
          ]
        }
      ]
    },
    {
      "cell_type": "markdown",
      "source": [
        "Score: 0.78229"
      ],
      "metadata": {
        "id": "8DzmGrDPCj3o"
      }
    },
    {
      "cell_type": "markdown",
      "source": [
        "---\n",
        "\n",
        "Ensemble Learning\n",
        "\n",
        "---\n",
        "\n"
      ],
      "metadata": {
        "id": "Z7_mvMzHC12B"
      }
    },
    {
      "cell_type": "code",
      "source": [
        "from sklearn.ensemble import BaggingClassifier, RandomForestClassifier\n",
        "\n",
        "rfc = RandomForestClassifier(n_estimators=100, max_depth=5, random_state=42)\n",
        "ensemble = BaggingClassifier(base_estimator=rfc, n_estimators=10, random_state=42)\n",
        "ensemble.fit(x_train, y_train)\n",
        "\n",
        "# Predict on the test set\n",
        "y_test_ensemble = ensemble.predict(x_test)\n",
        "submission_ensemble = pd.DataFrame({'PassengerId': test['PassengerId'], 'Survived': y_test_ensemble})\n",
        "submission_ensemble.to_csv('submission_ensemble.csv', index=False)"
      ],
      "metadata": {
        "id": "RLGBfg91C8VW"
      },
      "execution_count": 287,
      "outputs": []
    },
    {
      "cell_type": "markdown",
      "source": [
        "Score: 0.7799"
      ],
      "metadata": {
        "id": "MO8Ii42yFI2R"
      }
    },
    {
      "cell_type": "code",
      "source": [
        "# Ensemble with mode\n",
        "from scipy.stats import mode\n",
        "\n",
        "y_test_mode = mode([y_test_log, y_test_rf, y_test_knn, y_test_ann2], axis=0)\n",
        "y_test_mode = np.ravel(y_test_mode.mode)  # convert to 1D array\n",
        "submission_mode = pd.DataFrame({'PassengerId': test['PassengerId'], 'Survived': y_test_mode})\n",
        "submission_mode.to_csv('submission_mode.csv', index=False)\n"
      ],
      "metadata": {
        "id": "U37G6a9AEGey"
      },
      "execution_count": 286,
      "outputs": []
    },
    {
      "cell_type": "markdown",
      "source": [
        "Score: 0.78708"
      ],
      "metadata": {
        "id": "m4P3p8ZeFH9w"
      }
    }
  ]
}